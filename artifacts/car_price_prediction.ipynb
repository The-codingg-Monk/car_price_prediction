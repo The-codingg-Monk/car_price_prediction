{
 "cells": [
  {
   "cell_type": "code",
   "execution_count": 1,
   "id": "a8edf0d4",
   "metadata": {},
   "outputs": [],
   "source": [
    "import pandas as pd\n",
    "import numpy as np\n",
    "import matplotlib.pyplot as plt\n",
    "import seaborn as sns\n",
    "import re\n",
    "\n",
    "from sklearn.model_selection import train_test_split,GridSearchCV,RandomizedSearchCV\n",
    "from sklearn.linear_model import LinearRegression\n",
    "from sklearn.neighbors import KNeighborsRegressor\n",
    "from sklearn.tree import DecisionTreeRegressor\n",
    "from sklearn.ensemble import RandomForestRegressor,AdaBoostRegressor\n",
    "from sklearn.preprocessing import OrdinalEncoder,OneHotEncoder\n",
    "from sklearn.compose import ColumnTransformer\n",
    "\n",
    "from sklearn.metrics import mean_squared_error,mean_absolute_error,r2_score\n",
    "\n",
    "from sklearn.impute import KNNImputer\n",
    "import pickle"
   ]
  },
  {
   "cell_type": "code",
   "execution_count": 2,
   "id": "63304546",
   "metadata": {},
   "outputs": [
    {
     "data": {
      "text/html": [
       "<div>\n",
       "<style scoped>\n",
       "    .dataframe tbody tr th:only-of-type {\n",
       "        vertical-align: middle;\n",
       "    }\n",
       "\n",
       "    .dataframe tbody tr th {\n",
       "        vertical-align: top;\n",
       "    }\n",
       "\n",
       "    .dataframe thead th {\n",
       "        text-align: right;\n",
       "    }\n",
       "</style>\n",
       "<table border=\"1\" class=\"dataframe\">\n",
       "  <thead>\n",
       "    <tr style=\"text-align: right;\">\n",
       "      <th></th>\n",
       "      <th>full_name</th>\n",
       "      <th>selling_price</th>\n",
       "      <th>new_price</th>\n",
       "      <th>year</th>\n",
       "      <th>seller_type</th>\n",
       "      <th>km_driven</th>\n",
       "      <th>owner_type</th>\n",
       "      <th>fuel_type</th>\n",
       "      <th>transmission_type</th>\n",
       "      <th>mileage</th>\n",
       "      <th>engine</th>\n",
       "      <th>max_power</th>\n",
       "      <th>seats</th>\n",
       "    </tr>\n",
       "  </thead>\n",
       "  <tbody>\n",
       "    <tr>\n",
       "      <th>0</th>\n",
       "      <td>Maruti Alto Std</td>\n",
       "      <td>1.2 Lakh*</td>\n",
       "      <td>NaN</td>\n",
       "      <td>2012</td>\n",
       "      <td>Individual</td>\n",
       "      <td>1,20,000 kms</td>\n",
       "      <td>First Owner</td>\n",
       "      <td>Petrol</td>\n",
       "      <td>Manual</td>\n",
       "      <td>Mileage19.7 kmpl</td>\n",
       "      <td>Engine796 CC</td>\n",
       "      <td>Max Power46.3 bhp</td>\n",
       "      <td>Seats5</td>\n",
       "    </tr>\n",
       "    <tr>\n",
       "      <th>1</th>\n",
       "      <td>Hyundai Grand i10 Asta</td>\n",
       "      <td>5.5 Lakh*</td>\n",
       "      <td>New Car (On-Road Price) : Rs.7.11-7.48 Lakh*</td>\n",
       "      <td>2016</td>\n",
       "      <td>Individual</td>\n",
       "      <td>20,000 kms</td>\n",
       "      <td>First Owner</td>\n",
       "      <td>Petrol</td>\n",
       "      <td>Manual</td>\n",
       "      <td>Mileage18.9 kmpl</td>\n",
       "      <td>Engine1197 CC</td>\n",
       "      <td>Max Power82 bhp</td>\n",
       "      <td>Seats5</td>\n",
       "    </tr>\n",
       "    <tr>\n",
       "      <th>2</th>\n",
       "      <td>Hyundai i20 Asta</td>\n",
       "      <td>2.15 Lakh*</td>\n",
       "      <td>NaN</td>\n",
       "      <td>2010</td>\n",
       "      <td>Individual</td>\n",
       "      <td>60,000 kms</td>\n",
       "      <td>First Owner</td>\n",
       "      <td>Petrol</td>\n",
       "      <td>Manual</td>\n",
       "      <td>Mileage17.0 kmpl</td>\n",
       "      <td>Engine1197 CC</td>\n",
       "      <td>Max Power80 bhp</td>\n",
       "      <td>Seats5</td>\n",
       "    </tr>\n",
       "    <tr>\n",
       "      <th>3</th>\n",
       "      <td>Maruti Alto K10 2010-2014 VXI</td>\n",
       "      <td>2.26 Lakh*</td>\n",
       "      <td>NaN</td>\n",
       "      <td>2012</td>\n",
       "      <td>Individual</td>\n",
       "      <td>37,000 kms</td>\n",
       "      <td>First Owner</td>\n",
       "      <td>Petrol</td>\n",
       "      <td>Manual</td>\n",
       "      <td>Mileage20.92 kmpl</td>\n",
       "      <td>Engine998 CC</td>\n",
       "      <td>Max Power67.1 bhp</td>\n",
       "      <td>Seats5</td>\n",
       "    </tr>\n",
       "    <tr>\n",
       "      <th>4</th>\n",
       "      <td>Ford Ecosport 2015-2021 1.5 TDCi Titanium BSIV</td>\n",
       "      <td>5.7 Lakh*</td>\n",
       "      <td>New Car (On-Road Price) : Rs.10.14-13.79 Lakh*</td>\n",
       "      <td>2015</td>\n",
       "      <td>Dealer</td>\n",
       "      <td>30,000 kms</td>\n",
       "      <td>First Owner</td>\n",
       "      <td>Diesel</td>\n",
       "      <td>Manual</td>\n",
       "      <td>Mileage22.77 kmpl</td>\n",
       "      <td>Engine1498 CC</td>\n",
       "      <td>Max Power98.59 bhp</td>\n",
       "      <td>Seats5</td>\n",
       "    </tr>\n",
       "  </tbody>\n",
       "</table>\n",
       "</div>"
      ],
      "text/plain": [
       "                                        full_name selling_price  \\\n",
       "0                                 Maruti Alto Std     1.2 Lakh*   \n",
       "1                          Hyundai Grand i10 Asta     5.5 Lakh*   \n",
       "2                                Hyundai i20 Asta    2.15 Lakh*   \n",
       "3                   Maruti Alto K10 2010-2014 VXI    2.26 Lakh*   \n",
       "4  Ford Ecosport 2015-2021 1.5 TDCi Titanium BSIV     5.7 Lakh*   \n",
       "\n",
       "                                        new_price  year seller_type  \\\n",
       "0                                             NaN  2012  Individual   \n",
       "1    New Car (On-Road Price) : Rs.7.11-7.48 Lakh*  2016  Individual   \n",
       "2                                             NaN  2010  Individual   \n",
       "3                                             NaN  2012  Individual   \n",
       "4  New Car (On-Road Price) : Rs.10.14-13.79 Lakh*  2015      Dealer   \n",
       "\n",
       "      km_driven   owner_type fuel_type transmission_type            mileage  \\\n",
       "0  1,20,000 kms  First Owner    Petrol            Manual   Mileage19.7 kmpl   \n",
       "1    20,000 kms  First Owner    Petrol            Manual   Mileage18.9 kmpl   \n",
       "2    60,000 kms  First Owner    Petrol            Manual   Mileage17.0 kmpl   \n",
       "3    37,000 kms  First Owner    Petrol            Manual  Mileage20.92 kmpl   \n",
       "4    30,000 kms  First Owner    Diesel            Manual  Mileage22.77 kmpl   \n",
       "\n",
       "          engine           max_power   seats  \n",
       "0   Engine796 CC   Max Power46.3 bhp  Seats5  \n",
       "1  Engine1197 CC     Max Power82 bhp  Seats5  \n",
       "2  Engine1197 CC     Max Power80 bhp  Seats5  \n",
       "3   Engine998 CC   Max Power67.1 bhp  Seats5  \n",
       "4  Engine1498 CC  Max Power98.59 bhp  Seats5  "
      ]
     },
     "execution_count": 2,
     "metadata": {},
     "output_type": "execute_result"
    }
   ],
   "source": [
    "df=pd.read_csv(r\"C:\\Users\\kannu\\OneDrive\\Desktop\\Pandas_csvs\\Datasets\\Regression_data_sets\\car.csv\")\n",
    "df.head()"
   ]
  },
  {
   "cell_type": "markdown",
   "id": "31e34199",
   "metadata": {},
   "source": [
    "### EDA"
   ]
  },
  {
   "cell_type": "code",
   "execution_count": 3,
   "id": "28b33092",
   "metadata": {},
   "outputs": [
    {
     "data": {
      "text/plain": [
       "full_name                0\n",
       "selling_price            0\n",
       "new_price            10410\n",
       "year                     0\n",
       "seller_type              0\n",
       "km_driven                0\n",
       "owner_type               0\n",
       "fuel_type                0\n",
       "transmission_type        0\n",
       "mileage                160\n",
       "engine                 110\n",
       "max_power              337\n",
       "seats                   87\n",
       "dtype: int64"
      ]
     },
     "execution_count": 3,
     "metadata": {},
     "output_type": "execute_result"
    }
   ],
   "source": [
    "# nullvalues\n",
    "df.isna().sum()"
   ]
  },
  {
   "cell_type": "code",
   "execution_count": 4,
   "id": "47b30508",
   "metadata": {},
   "outputs": [
    {
     "name": "stdout",
     "output_type": "stream",
     "text": [
      "<class 'pandas.core.frame.DataFrame'>\n",
      "RangeIndex: 19974 entries, 0 to 19973\n",
      "Data columns (total 13 columns):\n",
      " #   Column             Non-Null Count  Dtype \n",
      "---  ------             --------------  ----- \n",
      " 0   full_name          19974 non-null  object\n",
      " 1   selling_price      19974 non-null  object\n",
      " 2   new_price          9564 non-null   object\n",
      " 3   year               19974 non-null  int64 \n",
      " 4   seller_type        19974 non-null  object\n",
      " 5   km_driven          19974 non-null  object\n",
      " 6   owner_type         19974 non-null  object\n",
      " 7   fuel_type          19974 non-null  object\n",
      " 8   transmission_type  19974 non-null  object\n",
      " 9   mileage            19814 non-null  object\n",
      " 10  engine             19864 non-null  object\n",
      " 11  max_power          19637 non-null  object\n",
      " 12  seats              19887 non-null  object\n",
      "dtypes: int64(1), object(12)\n",
      "memory usage: 2.0+ MB\n"
     ]
    }
   ],
   "source": [
    "df.info()"
   ]
  },
  {
   "cell_type": "code",
   "execution_count": 5,
   "id": "6e07a1b2",
   "metadata": {},
   "outputs": [
    {
     "data": {
      "text/plain": [
       "Maruti Swift Dzire VDI                 210\n",
       "Maruti Alto 800 LXI                    189\n",
       "Maruti Wagon R VXI                     163\n",
       "Maruti Swift VDI                       150\n",
       "Maruti Alto K10 VXI                    121\n",
       "                                      ... \n",
       "Tata Tiago 2019-2020 XM                  1\n",
       "Maruti Esteem VX - BSII                  1\n",
       "Hyundai Santro Xing XL eRLX Euro II      1\n",
       "Honda City i DTec E                      1\n",
       "Toyota Yaris V Optional CVT BSIV         1\n",
       "Name: full_name, Length: 3321, dtype: int64"
      ]
     },
     "execution_count": 5,
     "metadata": {},
     "output_type": "execute_result"
    }
   ],
   "source": [
    "#fullname\n",
    "\n",
    "# Taking only brand name, as model can be segregated by remaining features.\n",
    "\n",
    "df[\"full_name\"].value_counts()"
   ]
  },
  {
   "cell_type": "code",
   "execution_count": 6,
   "id": "edf46451",
   "metadata": {},
   "outputs": [],
   "source": [
    "#ourbrand name is at first place\n",
    "\n",
    "def get_first_word(df):\n",
    "    a=df.split()\n",
    "    return a[0]"
   ]
  },
  {
   "cell_type": "code",
   "execution_count": 7,
   "id": "b4b3ecb5",
   "metadata": {},
   "outputs": [],
   "source": [
    "df[\"brand\"]=df[\"full_name\"].apply(get_first_word)"
   ]
  },
  {
   "cell_type": "code",
   "execution_count": 8,
   "id": "a8f16ce3",
   "metadata": {},
   "outputs": [
    {
     "data": {
      "text/plain": [
       "0          Maruti\n",
       "1         Hyundai\n",
       "2         Hyundai\n",
       "3          Maruti\n",
       "4            Ford\n",
       "           ...   \n",
       "19969      Toyota\n",
       "19970      Maruti\n",
       "19971       Skoda\n",
       "19972    Mahindra\n",
       "19973       Honda\n",
       "Name: brand, Length: 19974, dtype: object"
      ]
     },
     "execution_count": 8,
     "metadata": {},
     "output_type": "execute_result"
    }
   ],
   "source": [
    "df[\"brand\"]    #now we have to delete full_name coloumn in feature engineering."
   ]
  },
  {
   "cell_type": "code",
   "execution_count": null,
   "id": "065a4192",
   "metadata": {},
   "outputs": [],
   "source": []
  },
  {
   "cell_type": "code",
   "execution_count": 9,
   "id": "34acad04",
   "metadata": {},
   "outputs": [
    {
     "data": {
      "text/plain": [
       "((19974,), (19974,))"
      ]
     },
     "execution_count": 9,
     "metadata": {},
     "output_type": "execute_result"
    }
   ],
   "source": [
    "df[\"full_name\"].shape,df[\"brand\"].shape\n"
   ]
  },
  {
   "cell_type": "code",
   "execution_count": 10,
   "id": "e28dd43a",
   "metadata": {},
   "outputs": [
    {
     "data": {
      "text/plain": [
       "Maruti      5648\n",
       "Hyundai     3645\n",
       "Honda       1781\n",
       "Mahindra    1291\n",
       "Toyota      1205\n",
       "Name: brand, dtype: int64"
      ]
     },
     "execution_count": 10,
     "metadata": {},
     "output_type": "execute_result"
    }
   ],
   "source": [
    "df[\"brand\"].value_counts().head()"
   ]
  },
  {
   "cell_type": "code",
   "execution_count": 11,
   "id": "bd26ad4c",
   "metadata": {},
   "outputs": [],
   "source": [
    "#now we need to convert it into numeric column,as nominal hence will use ohe. #will do encoding of all at once in feature\n",
    "# engg.\n"
   ]
  },
  {
   "cell_type": "code",
   "execution_count": 12,
   "id": "584f7862",
   "metadata": {},
   "outputs": [
    {
     "data": {
      "text/plain": [
       "0"
      ]
     },
     "execution_count": 12,
     "metadata": {},
     "output_type": "execute_result"
    }
   ],
   "source": [
    "# checking for null values\n",
    "df[\"brand\"].isna().sum()"
   ]
  },
  {
   "cell_type": "code",
   "execution_count": 13,
   "id": "5be0d822",
   "metadata": {},
   "outputs": [
    {
     "data": {
      "text/plain": [
       "4.5 Lakh*      466\n",
       "3.5 Lakh*      434\n",
       "5.5 Lakh*      408\n",
       "6.5 Lakh*      378\n",
       "4 Lakh*        359\n",
       "              ... \n",
       "1.17 Lakh*       1\n",
       "10.64 Lakh*      1\n",
       "14.72 Lakh*      1\n",
       "4.27 Lakh*       1\n",
       "4.56 Lakh*       1\n",
       "Name: selling_price, Length: 1215, dtype: int64"
      ]
     },
     "execution_count": 13,
     "metadata": {},
     "output_type": "execute_result"
    }
   ],
   "source": [
    "#selling_price\n",
    "\n",
    "df[\"selling_price\"].value_counts()"
   ]
  },
  {
   "cell_type": "code",
   "execution_count": 14,
   "id": "911f7bb1",
   "metadata": {},
   "outputs": [],
   "source": [
    "#Here we will extract only int, the whole number will be coonverted into numerical whole, means 1.5 lack will become 150000\n",
    "# and 2 crore will become 20000000."
   ]
  },
  {
   "cell_type": "code",
   "execution_count": 15,
   "id": "adf4dd99",
   "metadata": {},
   "outputs": [
    {
     "data": {
      "text/plain": [
       "0     1.2 Lakh*\n",
       "1     5.5 Lakh*\n",
       "2    2.15 Lakh*\n",
       "3    2.26 Lakh*\n",
       "4     5.7 Lakh*\n",
       "Name: selling_price, dtype: object"
      ]
     },
     "execution_count": 15,
     "metadata": {},
     "output_type": "execute_result"
    }
   ],
   "source": [
    "df[\"selling_price\"].head()"
   ]
  },
  {
   "cell_type": "code",
   "execution_count": 16,
   "id": "1dd5802f",
   "metadata": {},
   "outputs": [
    {
     "data": {
      "text/plain": [
       "array(['75,000*', '95,000*', '71,000*', '85,000*', '55,000*', '2.35 Cr*',\n",
       "       '62,000*', '70,000*', '78,000*', '80,000*', '65,000*', '90,000*',\n",
       "       '95,585*', '1.45 Cr*', '77,000*', '82,608*', '42,000*', '32,500*',\n",
       "       '40,000*', '81,000*', '50,000*', '1.1 Cr*', '34,000*', '99,000*',\n",
       "       '60,000*', '89,000*', '1.5 Cr*', '59,000*', '3.95 Cr*', '45,000*',\n",
       "       '35,000*', '56,000*', '82,000*', '53,000*', '87,000*', '99,111*',\n",
       "       '25,000*', '41,694*', '57,000*', '88,000*', '66,000*', '30,000*',\n",
       "       '94,000*', '97,000*', '98,000*', '46,288*', '96,000*', '1.11 Cr*',\n",
       "       '72,308*', '74,000*', '93,750*', '1.3 Cr*', '92,000*', '1.32 Cr*',\n",
       "       '2.42 Cr*', '82,875*', '45,946*', '58,000*', '86,250*', '91,000*',\n",
       "       '69,000*', '93,000*', '72,000*', '52,000*', '51,000*', '68,000*',\n",
       "       '74,999*'], dtype=object)"
      ]
     },
     "execution_count": 16,
     "metadata": {},
     "output_type": "execute_result"
    }
   ],
   "source": [
    "# Checking except lakh is there any other range.\n",
    "def last_word(df):\n",
    "    a=df.split()\n",
    "    return a[-1]\n",
    "    \n",
    "\n",
    "df[\"selling_price\"].loc[(df[\"selling_price\"].apply(last_word)==\"Lakh*\")==False].unique()"
   ]
  },
  {
   "cell_type": "code",
   "execution_count": 17,
   "id": "13ad8bfd",
   "metadata": {},
   "outputs": [],
   "source": [
    "#hence the data having lakh needs to be converted into =no*100000\n",
    "#data having crore=no*10000000\n",
    "#data having only nos=needs to be converted into int"
   ]
  },
  {
   "cell_type": "code",
   "execution_count": 18,
   "id": "1c301ddb",
   "metadata": {},
   "outputs": [],
   "source": [
    "def price_convert(df):\n",
    "    a=df.split()\n",
    "    if a[-1]==\"Lakh*\":\n",
    "        val=eval(a[0])*100000\n",
    "    elif a[-1]==\"Cr*\":\n",
    "        val=eval(a[0])*10000000\n",
    "    else:\n",
    "        val=eval(df.replace(\",\",\"\").replace(\"*\",\"\"))\n",
    "    return val\n",
    "\n",
    "df[\"selling_price_new\"]=df[\"selling_price\"].apply(price_convert) #try to store in feature to every modification."
   ]
  },
  {
   "cell_type": "code",
   "execution_count": 19,
   "id": "d2ed4457",
   "metadata": {},
   "outputs": [
    {
     "data": {
      "text/plain": [
       "0         120000.0\n",
       "1         550000.0\n",
       "2         215000.0\n",
       "3         226000.0\n",
       "4         570000.0\n",
       "           ...    \n",
       "19969     650000.0\n",
       "19970     925000.0\n",
       "19971     425000.0\n",
       "19972    1225000.0\n",
       "19973    1200000.0\n",
       "Name: selling_price_new, Length: 19974, dtype: float64"
      ]
     },
     "execution_count": 19,
     "metadata": {},
     "output_type": "execute_result"
    }
   ],
   "source": [
    "df[\"selling_price_new\"]"
   ]
  },
  {
   "cell_type": "code",
   "execution_count": 20,
   "id": "584782bd",
   "metadata": {},
   "outputs": [
    {
     "data": {
      "text/plain": [
       "0"
      ]
     },
     "execution_count": 20,
     "metadata": {},
     "output_type": "execute_result"
    }
   ],
   "source": [
    "#cheking for null values\n",
    "df[\"selling_price_new\"].isna().sum()"
   ]
  },
  {
   "cell_type": "code",
   "execution_count": 21,
   "id": "6b3b2360",
   "metadata": {},
   "outputs": [
    {
     "data": {
      "text/plain": [
       "0                                                   NaN\n",
       "1          New Car (On-Road Price) : Rs.7.11-7.48 Lakh*\n",
       "2                                                   NaN\n",
       "3                                                   NaN\n",
       "4        New Car (On-Road Price) : Rs.10.14-13.79 Lakh*\n",
       "                              ...                      \n",
       "19969                                               NaN\n",
       "19970                                               NaN\n",
       "19971                                               NaN\n",
       "19972    New Car (On-Road Price) : Rs.17.83-24.91 Lakh*\n",
       "19973                                               NaN\n",
       "Name: new_price, Length: 19974, dtype: object"
      ]
     },
     "execution_count": 21,
     "metadata": {},
     "output_type": "execute_result"
    }
   ],
   "source": [
    "##new_price \n",
    "\n",
    "df[\"new_price\"]    #however it has so many null values,still cleaning this."
   ]
  },
  {
   "cell_type": "code",
   "execution_count": null,
   "id": "8f25c1c5",
   "metadata": {},
   "outputs": [],
   "source": []
  },
  {
   "cell_type": "code",
   "execution_count": 22,
   "id": "f6b9bd5d",
   "metadata": {},
   "outputs": [
    {
     "data": {
      "text/plain": [
       "1745"
      ]
     },
     "execution_count": 22,
     "metadata": {},
     "output_type": "execute_result"
    }
   ],
   "source": [
    "len(df[\"new_price\"].unique())"
   ]
  },
  {
   "cell_type": "code",
   "execution_count": null,
   "id": "89e02127",
   "metadata": {},
   "outputs": [],
   "source": []
  },
  {
   "cell_type": "code",
   "execution_count": 23,
   "id": "53d06339",
   "metadata": {},
   "outputs": [],
   "source": [
    "#if i split by \" \" 4th index will be ruppes, each one is in lakh so need to multiply each one by 100000\n",
    "\n"
   ]
  },
  {
   "cell_type": "code",
   "execution_count": 24,
   "id": "e54a798e",
   "metadata": {},
   "outputs": [
    {
     "data": {
      "text/plain": [
       "New Car (On-Road Price) : Rs.47.62-1.60 Cr*     15\n",
       "New Car (On-Road Price) : Rs.74.17-1.72 Cr*     13\n",
       "New Car (On-Road Price) : Rs.1.67 Cr*           11\n",
       "New Car (On-Road Price) : Rs.48.86-1.64 Cr*     11\n",
       "New Car (On-Road Price) : Rs.1.64Cr-3.19 Cr*    10\n",
       "New Car (On-Road Price) : Rs.1.62 Cr*            8\n",
       "Name: new_price, dtype: int64"
      ]
     },
     "execution_count": 24,
     "metadata": {},
     "output_type": "execute_result"
    }
   ],
   "source": [
    "#checking except \"Lakh*\" whether other scale avaliable\n",
    "def fun(df):\n",
    "    if type(df) !=float:\n",
    "        a=df.split()\n",
    "        return a[-1]\n",
    "df[\"new_price\"].loc[(df[\"new_price\"].apply(fun)==\"Lakh*\")==False].value_counts().head(6)  #so we have cr also"
   ]
  },
  {
   "cell_type": "raw",
   "id": "aa039ecf",
   "metadata": {},
   "source": [
    "New Car (On-Road Price) : Rs.47.62-1.60 Cr*\n",
    "New Car (On-Road Price) : Rs.1.67 Cr*\n",
    "New Car (On-Road Price) : Rs.7.11-7.48 c\n",
    "    "
   ]
  },
  {
   "cell_type": "code",
   "execution_count": 25,
   "id": "f7f6c543",
   "metadata": {},
   "outputs": [],
   "source": [
    "pattern1=\"\\d+[.]*\\d+[-]*\\d*[.]*\\d*\\b\""
   ]
  },
  {
   "cell_type": "code",
   "execution_count": 26,
   "id": "6f2ccf4f",
   "metadata": {},
   "outputs": [],
   "source": [
    "pattern2=\"\\d+.*\\b\""
   ]
  },
  {
   "cell_type": "code",
   "execution_count": 27,
   "id": "27852bbf",
   "metadata": {},
   "outputs": [
    {
     "data": {
      "text/plain": [
       "10410"
      ]
     },
     "execution_count": 27,
     "metadata": {},
     "output_type": "execute_result"
    }
   ],
   "source": [
    "df[\"new_price\"].isna().sum()"
   ]
  },
  {
   "cell_type": "code",
   "execution_count": 28,
   "id": "9bf93b7f",
   "metadata": {},
   "outputs": [
    {
     "data": {
      "text/plain": [
       "10410"
      ]
     },
     "execution_count": 28,
     "metadata": {},
     "output_type": "execute_result"
    }
   ],
   "source": [
    "def fun_reg(df):\n",
    "    import re\n",
    "    if type(df) !=float:\n",
    "        pattern1=r\"\\d+[.]*\\d+[-]*\\d*[.]*\\d*\\b\"\n",
    "        result=re.findall(pattern1,df)[0]\n",
    "        new_value=re.split(\"-\",result)\n",
    "        if len(new_value)==2:\n",
    "            first=eval(new_value[0])\n",
    "            second=eval(new_value[1])\n",
    "            avg=(first+second)/2\n",
    "        else:\n",
    "            avg=eval(new_value[0])\n",
    "        end_word_pattern=r\"Cr\\*$|Lakh\\*$\"\n",
    "        end_word=re.findall(end_word_pattern,df)[0]\n",
    "        if end_word==\"Cr*\":\n",
    "            price=avg*10000000\n",
    "        elif end_word==\"Lakh*\":\n",
    "            price=avg*100000\n",
    "        else:\n",
    "            price=avg\n",
    "        return price\n",
    "\n",
    "df[\"new_price_new\"]=df[\"new_price\"].apply(fun_reg)\n",
    "df[\"new_price_new\"].isna().sum()\n"
   ]
  },
  {
   "cell_type": "code",
   "execution_count": 29,
   "id": "26c6c3c9",
   "metadata": {},
   "outputs": [
    {
     "name": "stdout",
     "output_type": "stream",
     "text": [
      "<class 'pandas.core.frame.DataFrame'>\n",
      "RangeIndex: 19974 entries, 0 to 19973\n",
      "Data columns (total 16 columns):\n",
      " #   Column             Non-Null Count  Dtype  \n",
      "---  ------             --------------  -----  \n",
      " 0   full_name          19974 non-null  object \n",
      " 1   selling_price      19974 non-null  object \n",
      " 2   new_price          9564 non-null   object \n",
      " 3   year               19974 non-null  int64  \n",
      " 4   seller_type        19974 non-null  object \n",
      " 5   km_driven          19974 non-null  object \n",
      " 6   owner_type         19974 non-null  object \n",
      " 7   fuel_type          19974 non-null  object \n",
      " 8   transmission_type  19974 non-null  object \n",
      " 9   mileage            19814 non-null  object \n",
      " 10  engine             19864 non-null  object \n",
      " 11  max_power          19637 non-null  object \n",
      " 12  seats              19887 non-null  object \n",
      " 13  brand              19974 non-null  object \n",
      " 14  selling_price_new  19974 non-null  float64\n",
      " 15  new_price_new      9564 non-null   float64\n",
      "dtypes: float64(2), int64(1), object(13)\n",
      "memory usage: 2.4+ MB\n"
     ]
    }
   ],
   "source": [
    "df.info()"
   ]
  },
  {
   "cell_type": "code",
   "execution_count": 30,
   "id": "a5fb164b",
   "metadata": {},
   "outputs": [],
   "source": [
    "#year \n",
    "# will convert this feature into age of car, so that this feature will be useful for us."
   ]
  },
  {
   "cell_type": "code",
   "execution_count": 31,
   "id": "faee3f9a",
   "metadata": {},
   "outputs": [
    {
     "data": {
      "text/plain": [
       "0        2012\n",
       "1        2016\n",
       "2        2010\n",
       "3        2012\n",
       "4        2015\n",
       "         ... \n",
       "19969    2017\n",
       "19970    2019\n",
       "19971    2015\n",
       "19972    2016\n",
       "19973    2019\n",
       "Name: year, Length: 19974, dtype: int32"
      ]
     },
     "execution_count": 31,
     "metadata": {},
     "output_type": "execute_result"
    }
   ],
   "source": [
    "df[\"year\"].astype(\"int\")"
   ]
  },
  {
   "cell_type": "code",
   "execution_count": 32,
   "id": "74ef0764",
   "metadata": {},
   "outputs": [],
   "source": [
    "df[\"age\"]=2022-df[\"year\"]"
   ]
  },
  {
   "cell_type": "code",
   "execution_count": 33,
   "id": "8dfe022d",
   "metadata": {},
   "outputs": [
    {
     "data": {
      "text/plain": [
       "0"
      ]
     },
     "execution_count": 33,
     "metadata": {},
     "output_type": "execute_result"
    }
   ],
   "source": [
    "df[\"age\"].isna().sum()"
   ]
  },
  {
   "cell_type": "code",
   "execution_count": 34,
   "id": "8a522ccc",
   "metadata": {},
   "outputs": [
    {
     "data": {
      "text/plain": [
       "Dealer              11970\n",
       "Individual           7814\n",
       "Trustmark Dealer      190\n",
       "Name: seller_type, dtype: int64"
      ]
     },
     "execution_count": 34,
     "metadata": {},
     "output_type": "execute_result"
    }
   ],
   "source": [
    "#seller_type\n",
    "df[\"seller_type\"].value_counts()"
   ]
  },
  {
   "cell_type": "code",
   "execution_count": 35,
   "id": "f34a123c",
   "metadata": {},
   "outputs": [
    {
     "data": {
      "text/plain": [
       "0"
      ]
     },
     "execution_count": 35,
     "metadata": {},
     "output_type": "execute_result"
    }
   ],
   "source": [
    "df[\"seller_type\"].isna().sum()"
   ]
  },
  {
   "cell_type": "code",
   "execution_count": 36,
   "id": "c4620621",
   "metadata": {},
   "outputs": [],
   "source": [
    "#will one hot encoding "
   ]
  },
  {
   "cell_type": "code",
   "execution_count": 37,
   "id": "c8f1ffe9",
   "metadata": {},
   "outputs": [
    {
     "data": {
      "text/plain": [
       "0"
      ]
     },
     "execution_count": 37,
     "metadata": {},
     "output_type": "execute_result"
    }
   ],
   "source": [
    "#km_driven\n",
    "\n",
    "df[\"km_driven\"].isna().sum()"
   ]
  },
  {
   "cell_type": "code",
   "execution_count": 38,
   "id": "26fd9bd9",
   "metadata": {},
   "outputs": [
    {
     "data": {
      "text/plain": [
       "array(['1,20,000 kms', '20,000 kms', '60,000 kms', ..., '10,723 kms',\n",
       "       '69,480 kms', '38,00,000 kms'], dtype=object)"
      ]
     },
     "execution_count": 38,
     "metadata": {},
     "output_type": "execute_result"
    }
   ],
   "source": [
    "df[\"km_driven\"].unique()"
   ]
  },
  {
   "cell_type": "code",
   "execution_count": 39,
   "id": "0d5c8ce6",
   "metadata": {},
   "outputs": [
    {
     "data": {
      "text/plain": [
       "Series([], Name: km_driven, dtype: object)"
      ]
     },
     "execution_count": 39,
     "metadata": {},
     "output_type": "execute_result"
    }
   ],
   "source": [
    "#checking where other than kms in last.\n",
    "def fun_km(df):\n",
    "    import re\n",
    "    end_with_pattern=r\"kms$\"\n",
    "    result=re.findall(end_with_pattern,df)[0]\n",
    "    return result\n",
    "\n",
    "df[\"km_driven\"].loc[(df[\"km_driven\"].apply(fun_km)==\"kms\")==False]  #hence nothing is except kms in last"
   ]
  },
  {
   "cell_type": "code",
   "execution_count": 40,
   "id": "f482caef",
   "metadata": {},
   "outputs": [],
   "source": [
    "# hence we need to remove , and kms from data\n",
    "\n",
    "def km_driv(df):\n",
    "    import re\n",
    "    result=re.sub(\"[,kms ]\",\"\",df)\n",
    "    return eval(result)\n",
    "\n",
    "df[\"km_driven\"]=df[\"km_driven\"].apply(km_driv)"
   ]
  },
  {
   "cell_type": "code",
   "execution_count": 41,
   "id": "b7e5ae4e",
   "metadata": {},
   "outputs": [
    {
     "data": {
      "text/plain": [
       "0"
      ]
     },
     "execution_count": 41,
     "metadata": {},
     "output_type": "execute_result"
    }
   ],
   "source": [
    "df[\"km_driven\"].isna().sum()"
   ]
  },
  {
   "cell_type": "code",
   "execution_count": 42,
   "id": "c17c2636",
   "metadata": {},
   "outputs": [],
   "source": [
    "##owner_type         \n",
    "df[\"owner_type\"].value_counts()  #only 1 feature hence deleting it\n",
    "df.drop(\"owner_type\",axis=1,inplace=True)"
   ]
  },
  {
   "cell_type": "code",
   "execution_count": 43,
   "id": "b2ff7f6a",
   "metadata": {},
   "outputs": [
    {
     "data": {
      "text/plain": [
       "Diesel      9815\n",
       "Petrol      9763\n",
       "CNG          316\n",
       "LPG           66\n",
       "Electric      14\n",
       "Name: fuel_type, dtype: int64"
      ]
     },
     "execution_count": 43,
     "metadata": {},
     "output_type": "execute_result"
    }
   ],
   "source": [
    "#fuel_type\n",
    "df[\"fuel_type\"].value_counts()"
   ]
  },
  {
   "cell_type": "code",
   "execution_count": 44,
   "id": "e579a330",
   "metadata": {},
   "outputs": [
    {
     "data": {
      "text/plain": [
       "0"
      ]
     },
     "execution_count": 44,
     "metadata": {},
     "output_type": "execute_result"
    }
   ],
   "source": [
    "df[\"fuel_type\"].isna().sum()"
   ]
  },
  {
   "cell_type": "code",
   "execution_count": 45,
   "id": "52f6c2f6",
   "metadata": {},
   "outputs": [],
   "source": [
    "#one hot enconding"
   ]
  },
  {
   "cell_type": "code",
   "execution_count": 46,
   "id": "f48341a7",
   "metadata": {},
   "outputs": [
    {
     "data": {
      "text/plain": [
       "Manual       16025\n",
       "Automatic     3949\n",
       "Name: transmission_type, dtype: int64"
      ]
     },
     "execution_count": 46,
     "metadata": {},
     "output_type": "execute_result"
    }
   ],
   "source": [
    "#transmission_type  \n",
    "\n",
    "df[\"transmission_type\"].value_counts()"
   ]
  },
  {
   "cell_type": "code",
   "execution_count": 47,
   "id": "6bbcb0bf",
   "metadata": {},
   "outputs": [],
   "source": [
    "#one hot encoding"
   ]
  },
  {
   "cell_type": "code",
   "execution_count": 48,
   "id": "a1750470",
   "metadata": {},
   "outputs": [
    {
     "data": {
      "text/plain": [
       "0"
      ]
     },
     "execution_count": 48,
     "metadata": {},
     "output_type": "execute_result"
    }
   ],
   "source": [
    "df[\"transmission_type\"].isna().sum()"
   ]
  },
  {
   "cell_type": "code",
   "execution_count": 49,
   "id": "a3b4e29e",
   "metadata": {},
   "outputs": [
    {
     "data": {
      "text/plain": [
       "Mileage18.9 kmpl      624\n",
       "Mileage18.6 kmpl      476\n",
       "Mileage17.0 kmpl      444\n",
       "Mileage24.3 kmpl      292\n",
       "Mileage28.4 kmpl      279\n",
       "                     ... \n",
       "Mileage24.07 kmpl       1\n",
       "Mileage9.1 kmpl         1\n",
       "Mileage20.2 kmpl        1\n",
       "Mileage14.41 kmpl       1\n",
       "Mileage18.15 km/kg      1\n",
       "Name: mileage, Length: 561, dtype: int64"
      ]
     },
     "execution_count": 49,
     "metadata": {},
     "output_type": "execute_result"
    }
   ],
   "source": [
    "#mileage\n",
    "df[\"mileage\"].value_counts()"
   ]
  },
  {
   "cell_type": "code",
   "execution_count": 50,
   "id": "d0f36678",
   "metadata": {},
   "outputs": [
    {
     "data": {
      "text/plain": [
       "160"
      ]
     },
     "execution_count": 50,
     "metadata": {},
     "output_type": "execute_result"
    }
   ],
   "source": [
    "df[\"mileage\"].isna().sum()"
   ]
  },
  {
   "cell_type": "code",
   "execution_count": 51,
   "id": "40c2cce1",
   "metadata": {},
   "outputs": [],
   "source": [
    "#need to handle string then will handle null values.\n",
    "#checking values except kmpl\n",
    "\n",
    "def mil(df1):\n",
    "    import re\n",
    "    \n",
    "    if type(df1)!=float :\n",
    "        pat=r\"kmpl$\"\n",
    "        result=re.findall(pat,df1)\n",
    "        if result:\n",
    "            result1= result[0]\n",
    "        else:\n",
    "            result1=df1\n",
    "        return result1\n",
    "            \n",
    "  \n",
    "\n",
    "val=df[\"mileage\"].loc[(df[\"mileage\"].apply(mil)==\"kmpl\")==False].value_counts()\n",
    "\n",
    "#so we havle km/kg,kn/hr,kmpl,nan\n",
    "#1kg=1tr\n",
    "# taking all equal\n",
    "\n"
   ]
  },
  {
   "cell_type": "code",
   "execution_count": 52,
   "id": "fc7f18ef",
   "metadata": {},
   "outputs": [
    {
     "data": {
      "text/plain": [
       "Hyundai Santro Xing GL                 28\n",
       "Hyundai Santro Xing XL                 23\n",
       "Mercedes-Benz M-Class ML 350 4Matic    10\n",
       "Ford Figo Aspire Facelift               7\n",
       "Toyota Fortuner 4X2 AT                  7\n",
       "Hyundai Santro Xing XP                  4\n",
       "Mahindra Jeep MM 540                    4\n",
       "Hyundai Santro GLS I - Euro II          4\n",
       "Jeep Compass 1.4 Sport                  4\n",
       "Land Rover Freelander 2 TD4 SE          4\n",
       "Name: full_name, dtype: int64"
      ]
     },
     "execution_count": 52,
     "metadata": {},
     "output_type": "execute_result"
    }
   ],
   "source": [
    "def mileag(f1):\n",
    "    if type(f1) !=float:\n",
    "        import re\n",
    "        pattern=r\"\\d+[.]*\\d*\\b\" \n",
    "        result=eval(re.findall(pattern,f1)[0])\n",
    "    else:\n",
    "        result=f1\n",
    "    return result\n",
    "\n",
    "df[\"mileage_new\"]=df[\"mileage\"].apply(mileag)\n",
    "df[\"full_name\"].loc[df[\"mileage_new\"].isna()].value_counts().head(10)\n",
    "\n",
    "  "
   ]
  },
  {
   "cell_type": "code",
   "execution_count": 53,
   "id": "ca348e83",
   "metadata": {},
   "outputs": [
    {
     "name": "stderr",
     "output_type": "stream",
     "text": [
      "C:\\Users\\kannu\\AppData\\Local\\Temp\\ipykernel_11084\\3877064986.py:1: SettingWithCopyWarning: \n",
      "A value is trying to be set on a copy of a slice from a DataFrame\n",
      "\n",
      "See the caveats in the documentation: https://pandas.pydata.org/pandas-docs/stable/user_guide/indexing.html#returning-a-view-versus-a-copy\n",
      "  df[\"mileage_new\"].loc[df[\"full_name\"]==\"Hyundai Santro Xing GL\"]=12.8\n"
     ]
    }
   ],
   "source": [
    "df[\"mileage_new\"].loc[df[\"full_name\"]==\"Hyundai Santro Xing GL\"]=12.8\n",
    "#checking values from net"
   ]
  },
  {
   "cell_type": "code",
   "execution_count": 54,
   "id": "8cade4a4",
   "metadata": {},
   "outputs": [
    {
     "name": "stderr",
     "output_type": "stream",
     "text": [
      "C:\\Users\\kannu\\AppData\\Local\\Temp\\ipykernel_11084\\3053733673.py:1: SettingWithCopyWarning: \n",
      "A value is trying to be set on a copy of a slice from a DataFrame\n",
      "\n",
      "See the caveats in the documentation: https://pandas.pydata.org/pandas-docs/stable/user_guide/indexing.html#returning-a-view-versus-a-copy\n",
      "  df[\"mileage_new\"].loc[df[\"full_name\"]==\"Hyundai Santro Xing XL\"]=12\n",
      "C:\\Users\\kannu\\AppData\\Local\\Temp\\ipykernel_11084\\3053733673.py:2: SettingWithCopyWarning: \n",
      "A value is trying to be set on a copy of a slice from a DataFrame\n",
      "\n",
      "See the caveats in the documentation: https://pandas.pydata.org/pandas-docs/stable/user_guide/indexing.html#returning-a-view-versus-a-copy\n",
      "  df[\"mileage_new\"].loc[df[\"full_name\"]==\"Mercedes-Benz M-Class ML 350 4Matic\"]=15.26\n",
      "C:\\Users\\kannu\\AppData\\Local\\Temp\\ipykernel_11084\\3053733673.py:3: SettingWithCopyWarning: \n",
      "A value is trying to be set on a copy of a slice from a DataFrame\n",
      "\n",
      "See the caveats in the documentation: https://pandas.pydata.org/pandas-docs/stable/user_guide/indexing.html#returning-a-view-versus-a-copy\n",
      "  df[\"mileage_new\"].loc[df[\"full_name\"]==\"Ford Figo Aspire Facelift\"]=25.64\n",
      "C:\\Users\\kannu\\AppData\\Local\\Temp\\ipykernel_11084\\3053733673.py:4: SettingWithCopyWarning: \n",
      "A value is trying to be set on a copy of a slice from a DataFrame\n",
      "\n",
      "See the caveats in the documentation: https://pandas.pydata.org/pandas-docs/stable/user_guide/indexing.html#returning-a-view-versus-a-copy\n",
      "  df[\"mileage_new\"].loc[df[\"full_name\"]==\"Toyota Fortuner 4X2 AT\"]=10.3\n"
     ]
    },
    {
     "data": {
      "text/plain": [
       "85"
      ]
     },
     "execution_count": 54,
     "metadata": {},
     "output_type": "execute_result"
    }
   ],
   "source": [
    "df[\"mileage_new\"].loc[df[\"full_name\"]==\"Hyundai Santro Xing XL\"]=12\n",
    "df[\"mileage_new\"].loc[df[\"full_name\"]==\"Mercedes-Benz M-Class ML 350 4Matic\"]=15.26\n",
    "df[\"mileage_new\"].loc[df[\"full_name\"]==\"Ford Figo Aspire Facelift\"]=25.64\n",
    "df[\"mileage_new\"].loc[df[\"full_name\"]==\"Toyota Fortuner 4X2 AT\"]=10.3\n",
    "df[\"mileage_new\"].isna().sum()"
   ]
  },
  {
   "cell_type": "code",
   "execution_count": 55,
   "id": "1809a302",
   "metadata": {},
   "outputs": [
    {
     "data": {
      "text/plain": [
       "85"
      ]
     },
     "execution_count": 55,
     "metadata": {},
     "output_type": "execute_result"
    }
   ],
   "source": [
    "df[\"mileage_new\"].isna().sum()"
   ]
  },
  {
   "cell_type": "code",
   "execution_count": 56,
   "id": "a4bda28b",
   "metadata": {},
   "outputs": [
    {
     "data": {
      "text/plain": [
       "Mahindra Jeep MM 540                                     4\n",
       "Hyundai Santro Xing XP                                   4\n",
       "Hyundai Santro GLS I - Euro II                           4\n",
       "Jeep Compass 1.4 Sport                                   4\n",
       "Land Rover Freelander 2 TD4 SE                           4\n",
       "Hyundai Santro DX                                        3\n",
       "Hyundai Santro AT                                        3\n",
       "Hyundai Santro Xing ECO                                  2\n",
       "Hyundai Santro GLS II - Euro II                          2\n",
       "Honda City 1.5 GXI                                       2\n",
       "Hyundai Santro GS                                        2\n",
       "Mercedes-Benz GLC 220d 4MATIC                            2\n",
       "Mahindra E Verito D2                                     2\n",
       "Mercedes-Benz GLA Class Facelift                         2\n",
       "Mahindra Ingenio CRDe                                    2\n",
       "Hyundai Santro LP - Euro II                              2\n",
       "Mahindra Renault Logan 1.5 DLSX                          1\n",
       "Porsche Cayenne Base                                     1\n",
       "Mahindra Thar LX 4-Str Hard Top Diesel AT                1\n",
       "Land Rover Range Rover Evoque 2.0 R-Dynamic SE diesel    1\n",
       "Hyundai Creta Facelift                                   1\n",
       "Volvo S40 Petrol                                         1\n",
       "Ford Figo Diesel                                         1\n",
       "Hyundai Santro LP                                        1\n",
       "Volkswagen Polo GT TSI BSIV                              1\n",
       "Toyota Innova Crysta 2.4 VX 8 STR                        1\n",
       "Mahindra Jeep Commander 750 DI                           1\n",
       "Tata Sierra Std                                          1\n",
       "Toyota Innova 2.5 E Diesel PS 8-Seater                   1\n",
       "Hyundai Santro Xing (Non-AC)                             1\n",
       "Mahindra E Verito D6                                     1\n",
       "Tata Nexon EV XM                                         1\n",
       "Nissan Infiniti Petrol                                   1\n",
       "Toyota Qualis RS E3                                      1\n",
       "Hyundai Kona Premium                                     1\n",
       "Tata Nexon 1.5 Diesel                                    1\n",
       "Toyota Qualis FS F3                                      1\n",
       "Hyundai Santro Xing ABS                                  1\n",
       "Mercedes-Benz E-Class 220 petrol                         1\n",
       "Hyundai Santro GLS II - Euro I                           1\n",
       "Mahindra Jeep CJ 340                                     1\n",
       "Toyota Qualis GS G9                                      1\n",
       "Toyota Fortuner 4X2 Diesel AT                            1\n",
       "Tata Tigor EV XM                                         1\n",
       "MG Hector Sharp Diesel MT                                1\n",
       "Fiat 500 Lounge                                          1\n",
       "Toyota Innova Crysta 2.4 ZX 7 STR AT                     1\n",
       "Mercedes-Benz C-Class 180 Classic                        1\n",
       "Mahindra Bolero Pik-Up FB 1.7T                           1\n",
       "Hyundai Santro LS                                        1\n",
       "Hyundai Terracan CRDi                                    1\n",
       "Toyota Innova Crysta 2.4 VX 7 STR                        1\n",
       "Hyundai Santro 2018 New                                  1\n",
       "Hyundai Santro GLS I - Euro I                            1\n",
       "Toyota Qualis GS C5                                      1\n",
       "Hyundai Santro Xing Base                                 1\n",
       "Mahindra Jeep MM 550 DP                                  1\n",
       "Name: full_name, dtype: int64"
      ]
     },
     "execution_count": 56,
     "metadata": {},
     "output_type": "execute_result"
    }
   ],
   "source": [
    "df[\"full_name\"].loc[df[\"mileage_new\"].isna()].value_counts()"
   ]
  },
  {
   "cell_type": "code",
   "execution_count": 57,
   "id": "d7a05f7d",
   "metadata": {},
   "outputs": [],
   "source": [
    "df[\"mileage_new\"].fillna(df[\"mileage_new\"].mean(),inplace=True)"
   ]
  },
  {
   "cell_type": "code",
   "execution_count": 58,
   "id": "3b80b4ca",
   "metadata": {},
   "outputs": [
    {
     "data": {
      "text/plain": [
       "0"
      ]
     },
     "execution_count": 58,
     "metadata": {},
     "output_type": "execute_result"
    }
   ],
   "source": [
    "df[\"mileage_new\"].isna().sum()"
   ]
  },
  {
   "cell_type": "code",
   "execution_count": 59,
   "id": "fec65aab",
   "metadata": {},
   "outputs": [
    {
     "data": {
      "text/plain": [
       "Max Power74 bhp        867\n",
       "Max Power88.5 bhp      615\n",
       "Max Power81.80 bhp     544\n",
       "Max Power98.6 bhp      479\n",
       "Max Power67.04 bhp     468\n",
       "                      ... \n",
       "Max Power507 bhp         1\n",
       "Max Power246 bhp         1\n",
       "Max Power420 bhp         1\n",
       "Max Power122.4 bhp       1\n",
       "Max Power177.01 bhp      1\n",
       "Name: max_power, Length: 493, dtype: int64"
      ]
     },
     "execution_count": 59,
     "metadata": {},
     "output_type": "execute_result"
    }
   ],
   "source": [
    "df[\"max_power\"].value_counts() "
   ]
  },
  {
   "cell_type": "code",
   "execution_count": 60,
   "id": "e008bb9a",
   "metadata": {},
   "outputs": [
    {
     "data": {
      "text/plain": [
       "Series([], Name: max_power, dtype: int64)"
      ]
     },
     "execution_count": 60,
     "metadata": {},
     "output_type": "execute_result"
    }
   ],
   "source": [
    "#checking whether anything else bhp\n",
    "def max_power_last_word(f1):\n",
    "    if type(f1) !=float:\n",
    "        import re\n",
    "        pattern=r\"bhp$\"\n",
    "        result=re.findall(pattern,f1)[0]\n",
    "    else:\n",
    "        result=f1\n",
    "    return result\n",
    "\n",
    "df[\"max_power\"].loc[(df[\"max_power\"].apply(max_power_last_word)==\"bhp\")==False].value_counts()  #hence we dont have anthing \n",
    "# else except bhp in last\n",
    "\n"
   ]
  },
  {
   "cell_type": "code",
   "execution_count": 61,
   "id": "68b5a643",
   "metadata": {},
   "outputs": [],
   "source": [
    "def max_power(f1):\n",
    "    if type(f1) !=float:\n",
    "        pattern=r\"\\d+[.]*\\d*\"\n",
    "        result=eval(re.findall(pattern,f1)[0])\n",
    "    else:\n",
    "        result=f1\n",
    "    return result\n",
    "\n",
    "df[\"max_power_new\"]=df[\"max_power\"].apply(max_power)"
   ]
  },
  {
   "cell_type": "code",
   "execution_count": 62,
   "id": "3f3e7019",
   "metadata": {},
   "outputs": [
    {
     "data": {
      "text/plain": [
       "337"
      ]
     },
     "execution_count": 62,
     "metadata": {},
     "output_type": "execute_result"
    }
   ],
   "source": [
    "df[\"max_power_new\"].isna().sum()"
   ]
  },
  {
   "cell_type": "code",
   "execution_count": 63,
   "id": "54683458",
   "metadata": {},
   "outputs": [
    {
     "name": "stdout",
     "output_type": "stream",
     "text": [
      "BMW 5 Series 520d Sedan\n",
      "BMW X1 sDrive 20D xLine\n",
      "Fiat Punto 1.3 Emotion\n",
      "Hyundai Santro Xing XL\n",
      "Hyundai Santro Xing XL eRLX Euro III\n",
      "Hyundai Santro Xing XO\n",
      "Maruti Estilo LXI\n",
      "Maruti Swift 1.3 LXI\n",
      "Maruti Swift 1.3 VXi\n",
      "Maruti Swift VDI BSIV\n",
      "Toyota Etios GD\n",
      "Toyota Etios Liva G\n",
      "Toyota Etios Liva GD\n",
      "Toyota Etios V\n"
     ]
    }
   ],
   "source": [
    "res=df.loc[df[\"max_power_new\"].isna()].groupby(\"full_name\")\n",
    "for i in res.groups:\n",
    "    if len(res.groups[i])>5:\n",
    "        print(i)\n"
   ]
  },
  {
   "cell_type": "code",
   "execution_count": 64,
   "id": "16822844",
   "metadata": {},
   "outputs": [
    {
     "data": {
      "text/plain": [
       "18       Max Power74 bhp\n",
       "53                   NaN\n",
       "134      Max Power74 bhp\n",
       "603                  NaN\n",
       "823      Max Power74 bhp\n",
       "              ...       \n",
       "19283                NaN\n",
       "19483                NaN\n",
       "19545    Max Power74 bhp\n",
       "19692                NaN\n",
       "19921    Max Power74 bhp\n",
       "Name: max_power, Length: 112, dtype: object"
      ]
     },
     "execution_count": 64,
     "metadata": {},
     "output_type": "execute_result"
    }
   ],
   "source": [
    "df[\"max_power\"].loc[df[\"full_name\"]==\"Maruti Swift VDI BSIV\"]"
   ]
  },
  {
   "cell_type": "code",
   "execution_count": 65,
   "id": "7dcb8941",
   "metadata": {},
   "outputs": [
    {
     "data": {
      "text/html": [
       "<div>\n",
       "<style scoped>\n",
       "    .dataframe tbody tr th:only-of-type {\n",
       "        vertical-align: middle;\n",
       "    }\n",
       "\n",
       "    .dataframe tbody tr th {\n",
       "        vertical-align: top;\n",
       "    }\n",
       "\n",
       "    .dataframe thead th {\n",
       "        text-align: right;\n",
       "    }\n",
       "</style>\n",
       "<table border=\"1\" class=\"dataframe\">\n",
       "  <thead>\n",
       "    <tr style=\"text-align: right;\">\n",
       "      <th></th>\n",
       "      <th>full_name</th>\n",
       "      <th>selling_price</th>\n",
       "      <th>new_price</th>\n",
       "      <th>year</th>\n",
       "      <th>seller_type</th>\n",
       "      <th>km_driven</th>\n",
       "      <th>fuel_type</th>\n",
       "      <th>transmission_type</th>\n",
       "      <th>mileage</th>\n",
       "      <th>engine</th>\n",
       "      <th>max_power</th>\n",
       "      <th>seats</th>\n",
       "      <th>brand</th>\n",
       "      <th>selling_price_new</th>\n",
       "      <th>new_price_new</th>\n",
       "      <th>age</th>\n",
       "      <th>mileage_new</th>\n",
       "      <th>max_power_new</th>\n",
       "    </tr>\n",
       "  </thead>\n",
       "  <tbody>\n",
       "    <tr>\n",
       "      <th>960</th>\n",
       "      <td>Maruti Estilo LXI</td>\n",
       "      <td>1.6 Lakh*</td>\n",
       "      <td>NaN</td>\n",
       "      <td>2010</td>\n",
       "      <td>Individual</td>\n",
       "      <td>60000</td>\n",
       "      <td>Petrol</td>\n",
       "      <td>Manual</td>\n",
       "      <td>Mileage19.5 kmpl</td>\n",
       "      <td>Engine1061 CC</td>\n",
       "      <td>NaN</td>\n",
       "      <td>NaN</td>\n",
       "      <td>Maruti</td>\n",
       "      <td>160000.0</td>\n",
       "      <td>NaN</td>\n",
       "      <td>12</td>\n",
       "      <td>19.5</td>\n",
       "      <td>NaN</td>\n",
       "    </tr>\n",
       "    <tr>\n",
       "      <th>3115</th>\n",
       "      <td>Maruti Estilo LXI</td>\n",
       "      <td>1.2 Lakh*</td>\n",
       "      <td>NaN</td>\n",
       "      <td>2009</td>\n",
       "      <td>Individual</td>\n",
       "      <td>100000</td>\n",
       "      <td>Petrol</td>\n",
       "      <td>Manual</td>\n",
       "      <td>Mileage19.5 kmpl</td>\n",
       "      <td>Engine1061 CC</td>\n",
       "      <td>NaN</td>\n",
       "      <td>NaN</td>\n",
       "      <td>Maruti</td>\n",
       "      <td>120000.0</td>\n",
       "      <td>NaN</td>\n",
       "      <td>13</td>\n",
       "      <td>19.5</td>\n",
       "      <td>NaN</td>\n",
       "    </tr>\n",
       "    <tr>\n",
       "      <th>4090</th>\n",
       "      <td>Maruti Estilo LXI</td>\n",
       "      <td>1.8 Lakh*</td>\n",
       "      <td>NaN</td>\n",
       "      <td>2009</td>\n",
       "      <td>Individual</td>\n",
       "      <td>30000</td>\n",
       "      <td>Petrol</td>\n",
       "      <td>Manual</td>\n",
       "      <td>Mileage19.5 kmpl</td>\n",
       "      <td>Engine1061 CC</td>\n",
       "      <td>NaN</td>\n",
       "      <td>NaN</td>\n",
       "      <td>Maruti</td>\n",
       "      <td>180000.0</td>\n",
       "      <td>NaN</td>\n",
       "      <td>13</td>\n",
       "      <td>19.5</td>\n",
       "      <td>NaN</td>\n",
       "    </tr>\n",
       "    <tr>\n",
       "      <th>9870</th>\n",
       "      <td>Maruti Estilo LXI</td>\n",
       "      <td>1.7 Lakh*</td>\n",
       "      <td>NaN</td>\n",
       "      <td>2010</td>\n",
       "      <td>Individual</td>\n",
       "      <td>35000</td>\n",
       "      <td>Petrol</td>\n",
       "      <td>Manual</td>\n",
       "      <td>Mileage19.5 kmpl</td>\n",
       "      <td>Engine1061 CC</td>\n",
       "      <td>NaN</td>\n",
       "      <td>NaN</td>\n",
       "      <td>Maruti</td>\n",
       "      <td>170000.0</td>\n",
       "      <td>NaN</td>\n",
       "      <td>12</td>\n",
       "      <td>19.5</td>\n",
       "      <td>NaN</td>\n",
       "    </tr>\n",
       "    <tr>\n",
       "      <th>11179</th>\n",
       "      <td>Maruti Estilo LXI</td>\n",
       "      <td>1 Lakh*</td>\n",
       "      <td>NaN</td>\n",
       "      <td>2009</td>\n",
       "      <td>Individual</td>\n",
       "      <td>70000</td>\n",
       "      <td>Petrol</td>\n",
       "      <td>Manual</td>\n",
       "      <td>Mileage19.5 kmpl</td>\n",
       "      <td>Engine1061 CC</td>\n",
       "      <td>NaN</td>\n",
       "      <td>NaN</td>\n",
       "      <td>Maruti</td>\n",
       "      <td>100000.0</td>\n",
       "      <td>NaN</td>\n",
       "      <td>13</td>\n",
       "      <td>19.5</td>\n",
       "      <td>NaN</td>\n",
       "    </tr>\n",
       "    <tr>\n",
       "      <th>11254</th>\n",
       "      <td>Maruti Estilo LXI</td>\n",
       "      <td>1.5 Lakh*</td>\n",
       "      <td>NaN</td>\n",
       "      <td>2010</td>\n",
       "      <td>Individual</td>\n",
       "      <td>60000</td>\n",
       "      <td>Petrol</td>\n",
       "      <td>Manual</td>\n",
       "      <td>Mileage19.5 kmpl</td>\n",
       "      <td>Engine1061 CC</td>\n",
       "      <td>NaN</td>\n",
       "      <td>NaN</td>\n",
       "      <td>Maruti</td>\n",
       "      <td>150000.0</td>\n",
       "      <td>NaN</td>\n",
       "      <td>12</td>\n",
       "      <td>19.5</td>\n",
       "      <td>NaN</td>\n",
       "    </tr>\n",
       "    <tr>\n",
       "      <th>11463</th>\n",
       "      <td>Maruti Estilo LXI</td>\n",
       "      <td>1.7 Lakh*</td>\n",
       "      <td>NaN</td>\n",
       "      <td>2009</td>\n",
       "      <td>Individual</td>\n",
       "      <td>109623</td>\n",
       "      <td>Petrol</td>\n",
       "      <td>Manual</td>\n",
       "      <td>Mileage19.5 kmpl</td>\n",
       "      <td>Engine1061 CC</td>\n",
       "      <td>NaN</td>\n",
       "      <td>NaN</td>\n",
       "      <td>Maruti</td>\n",
       "      <td>170000.0</td>\n",
       "      <td>NaN</td>\n",
       "      <td>13</td>\n",
       "      <td>19.5</td>\n",
       "      <td>NaN</td>\n",
       "    </tr>\n",
       "    <tr>\n",
       "      <th>11572</th>\n",
       "      <td>Maruti Estilo LXI</td>\n",
       "      <td>1.7 Lakh*</td>\n",
       "      <td>NaN</td>\n",
       "      <td>2010</td>\n",
       "      <td>Individual</td>\n",
       "      <td>60000</td>\n",
       "      <td>Petrol</td>\n",
       "      <td>Manual</td>\n",
       "      <td>Mileage19.5 kmpl</td>\n",
       "      <td>Engine1061 CC</td>\n",
       "      <td>NaN</td>\n",
       "      <td>NaN</td>\n",
       "      <td>Maruti</td>\n",
       "      <td>170000.0</td>\n",
       "      <td>NaN</td>\n",
       "      <td>12</td>\n",
       "      <td>19.5</td>\n",
       "      <td>NaN</td>\n",
       "    </tr>\n",
       "    <tr>\n",
       "      <th>11900</th>\n",
       "      <td>Maruti Estilo LXI</td>\n",
       "      <td>1.8 Lakh*</td>\n",
       "      <td>NaN</td>\n",
       "      <td>2010</td>\n",
       "      <td>Individual</td>\n",
       "      <td>15000</td>\n",
       "      <td>Petrol</td>\n",
       "      <td>Manual</td>\n",
       "      <td>Mileage19.5 kmpl</td>\n",
       "      <td>Engine1061 CC</td>\n",
       "      <td>NaN</td>\n",
       "      <td>NaN</td>\n",
       "      <td>Maruti</td>\n",
       "      <td>180000.0</td>\n",
       "      <td>NaN</td>\n",
       "      <td>12</td>\n",
       "      <td>19.5</td>\n",
       "      <td>NaN</td>\n",
       "    </tr>\n",
       "    <tr>\n",
       "      <th>12918</th>\n",
       "      <td>Maruti Estilo LXI</td>\n",
       "      <td>1.65 Lakh*</td>\n",
       "      <td>NaN</td>\n",
       "      <td>2010</td>\n",
       "      <td>Dealer</td>\n",
       "      <td>52028</td>\n",
       "      <td>Petrol</td>\n",
       "      <td>Manual</td>\n",
       "      <td>Mileage19.5 kmpl</td>\n",
       "      <td>Engine1061 CC</td>\n",
       "      <td>NaN</td>\n",
       "      <td>NaN</td>\n",
       "      <td>Maruti</td>\n",
       "      <td>165000.0</td>\n",
       "      <td>NaN</td>\n",
       "      <td>12</td>\n",
       "      <td>19.5</td>\n",
       "      <td>NaN</td>\n",
       "    </tr>\n",
       "    <tr>\n",
       "      <th>15254</th>\n",
       "      <td>Maruti Estilo LXI</td>\n",
       "      <td>1.5 Lakh*</td>\n",
       "      <td>NaN</td>\n",
       "      <td>2010</td>\n",
       "      <td>Individual</td>\n",
       "      <td>99000</td>\n",
       "      <td>Petrol</td>\n",
       "      <td>Manual</td>\n",
       "      <td>Mileage19.5 kmpl</td>\n",
       "      <td>Engine1061 CC</td>\n",
       "      <td>NaN</td>\n",
       "      <td>NaN</td>\n",
       "      <td>Maruti</td>\n",
       "      <td>150000.0</td>\n",
       "      <td>NaN</td>\n",
       "      <td>12</td>\n",
       "      <td>19.5</td>\n",
       "      <td>NaN</td>\n",
       "    </tr>\n",
       "    <tr>\n",
       "      <th>18593</th>\n",
       "      <td>Maruti Estilo LXI</td>\n",
       "      <td>3.9 Lakh*</td>\n",
       "      <td>NaN</td>\n",
       "      <td>2010</td>\n",
       "      <td>Individual</td>\n",
       "      <td>40000</td>\n",
       "      <td>Petrol</td>\n",
       "      <td>Manual</td>\n",
       "      <td>Mileage19.5 kmpl</td>\n",
       "      <td>Engine1061 CC</td>\n",
       "      <td>NaN</td>\n",
       "      <td>NaN</td>\n",
       "      <td>Maruti</td>\n",
       "      <td>390000.0</td>\n",
       "      <td>NaN</td>\n",
       "      <td>12</td>\n",
       "      <td>19.5</td>\n",
       "      <td>NaN</td>\n",
       "    </tr>\n",
       "    <tr>\n",
       "      <th>18837</th>\n",
       "      <td>Maruti Estilo LXI</td>\n",
       "      <td>1.6 Lakh*</td>\n",
       "      <td>NaN</td>\n",
       "      <td>2010</td>\n",
       "      <td>Individual</td>\n",
       "      <td>43000</td>\n",
       "      <td>Petrol</td>\n",
       "      <td>Manual</td>\n",
       "      <td>Mileage19.5 kmpl</td>\n",
       "      <td>Engine1061 CC</td>\n",
       "      <td>NaN</td>\n",
       "      <td>NaN</td>\n",
       "      <td>Maruti</td>\n",
       "      <td>160000.0</td>\n",
       "      <td>NaN</td>\n",
       "      <td>12</td>\n",
       "      <td>19.5</td>\n",
       "      <td>NaN</td>\n",
       "    </tr>\n",
       "  </tbody>\n",
       "</table>\n",
       "</div>"
      ],
      "text/plain": [
       "               full_name selling_price new_price  year seller_type  km_driven  \\\n",
       "960    Maruti Estilo LXI     1.6 Lakh*       NaN  2010  Individual      60000   \n",
       "3115   Maruti Estilo LXI     1.2 Lakh*       NaN  2009  Individual     100000   \n",
       "4090   Maruti Estilo LXI     1.8 Lakh*       NaN  2009  Individual      30000   \n",
       "9870   Maruti Estilo LXI     1.7 Lakh*       NaN  2010  Individual      35000   \n",
       "11179  Maruti Estilo LXI       1 Lakh*       NaN  2009  Individual      70000   \n",
       "11254  Maruti Estilo LXI     1.5 Lakh*       NaN  2010  Individual      60000   \n",
       "11463  Maruti Estilo LXI     1.7 Lakh*       NaN  2009  Individual     109623   \n",
       "11572  Maruti Estilo LXI     1.7 Lakh*       NaN  2010  Individual      60000   \n",
       "11900  Maruti Estilo LXI     1.8 Lakh*       NaN  2010  Individual      15000   \n",
       "12918  Maruti Estilo LXI    1.65 Lakh*       NaN  2010      Dealer      52028   \n",
       "15254  Maruti Estilo LXI     1.5 Lakh*       NaN  2010  Individual      99000   \n",
       "18593  Maruti Estilo LXI     3.9 Lakh*       NaN  2010  Individual      40000   \n",
       "18837  Maruti Estilo LXI     1.6 Lakh*       NaN  2010  Individual      43000   \n",
       "\n",
       "      fuel_type transmission_type           mileage         engine max_power  \\\n",
       "960      Petrol            Manual  Mileage19.5 kmpl  Engine1061 CC       NaN   \n",
       "3115     Petrol            Manual  Mileage19.5 kmpl  Engine1061 CC       NaN   \n",
       "4090     Petrol            Manual  Mileage19.5 kmpl  Engine1061 CC       NaN   \n",
       "9870     Petrol            Manual  Mileage19.5 kmpl  Engine1061 CC       NaN   \n",
       "11179    Petrol            Manual  Mileage19.5 kmpl  Engine1061 CC       NaN   \n",
       "11254    Petrol            Manual  Mileage19.5 kmpl  Engine1061 CC       NaN   \n",
       "11463    Petrol            Manual  Mileage19.5 kmpl  Engine1061 CC       NaN   \n",
       "11572    Petrol            Manual  Mileage19.5 kmpl  Engine1061 CC       NaN   \n",
       "11900    Petrol            Manual  Mileage19.5 kmpl  Engine1061 CC       NaN   \n",
       "12918    Petrol            Manual  Mileage19.5 kmpl  Engine1061 CC       NaN   \n",
       "15254    Petrol            Manual  Mileage19.5 kmpl  Engine1061 CC       NaN   \n",
       "18593    Petrol            Manual  Mileage19.5 kmpl  Engine1061 CC       NaN   \n",
       "18837    Petrol            Manual  Mileage19.5 kmpl  Engine1061 CC       NaN   \n",
       "\n",
       "      seats   brand  selling_price_new  new_price_new  age  mileage_new  \\\n",
       "960     NaN  Maruti           160000.0            NaN   12         19.5   \n",
       "3115    NaN  Maruti           120000.0            NaN   13         19.5   \n",
       "4090    NaN  Maruti           180000.0            NaN   13         19.5   \n",
       "9870    NaN  Maruti           170000.0            NaN   12         19.5   \n",
       "11179   NaN  Maruti           100000.0            NaN   13         19.5   \n",
       "11254   NaN  Maruti           150000.0            NaN   12         19.5   \n",
       "11463   NaN  Maruti           170000.0            NaN   13         19.5   \n",
       "11572   NaN  Maruti           170000.0            NaN   12         19.5   \n",
       "11900   NaN  Maruti           180000.0            NaN   12         19.5   \n",
       "12918   NaN  Maruti           165000.0            NaN   12         19.5   \n",
       "15254   NaN  Maruti           150000.0            NaN   12         19.5   \n",
       "18593   NaN  Maruti           390000.0            NaN   12         19.5   \n",
       "18837   NaN  Maruti           160000.0            NaN   12         19.5   \n",
       "\n",
       "       max_power_new  \n",
       "960              NaN  \n",
       "3115             NaN  \n",
       "4090             NaN  \n",
       "9870             NaN  \n",
       "11179            NaN  \n",
       "11254            NaN  \n",
       "11463            NaN  \n",
       "11572            NaN  \n",
       "11900            NaN  \n",
       "12918            NaN  \n",
       "15254            NaN  \n",
       "18593            NaN  \n",
       "18837            NaN  "
      ]
     },
     "execution_count": 65,
     "metadata": {},
     "output_type": "execute_result"
    }
   ],
   "source": [
    "df.loc[df[\"full_name\"]==\"Maruti Estilo LXI\"]"
   ]
  },
  {
   "cell_type": "raw",
   "id": "0940a885",
   "metadata": {},
   "source": [
    "Maruti Swift VDI BSIV=74\n",
    "Hyundai Santro LP=59.17\n",
    "Hyundai Santro AT=59.17\n",
    "Hyundai Santro Xing XL=63\n",
    "BMW 5 Series 520d Sedan=188\n",
    "Maruti Estilo LXI=67\n",
    "Toyota Etios GD=67.04\n",
    "Toyota Etios Liva G=78.9\n",
    "Toyota Etios Liva GD=67.04\n",
    "\n",
    "\n",
    "\n"
   ]
  },
  {
   "cell_type": "code",
   "execution_count": 66,
   "id": "d1e8dc2b",
   "metadata": {},
   "outputs": [
    {
     "data": {
      "text/html": [
       "<div>\n",
       "<style scoped>\n",
       "    .dataframe tbody tr th:only-of-type {\n",
       "        vertical-align: middle;\n",
       "    }\n",
       "\n",
       "    .dataframe tbody tr th {\n",
       "        vertical-align: top;\n",
       "    }\n",
       "\n",
       "    .dataframe thead th {\n",
       "        text-align: right;\n",
       "    }\n",
       "</style>\n",
       "<table border=\"1\" class=\"dataframe\">\n",
       "  <thead>\n",
       "    <tr style=\"text-align: right;\">\n",
       "      <th></th>\n",
       "      <th>full_name</th>\n",
       "      <th>selling_price</th>\n",
       "      <th>new_price</th>\n",
       "      <th>year</th>\n",
       "      <th>seller_type</th>\n",
       "      <th>km_driven</th>\n",
       "      <th>fuel_type</th>\n",
       "      <th>transmission_type</th>\n",
       "      <th>mileage</th>\n",
       "      <th>engine</th>\n",
       "      <th>max_power</th>\n",
       "      <th>seats</th>\n",
       "      <th>brand</th>\n",
       "      <th>selling_price_new</th>\n",
       "      <th>new_price_new</th>\n",
       "      <th>age</th>\n",
       "      <th>mileage_new</th>\n",
       "      <th>max_power_new</th>\n",
       "    </tr>\n",
       "  </thead>\n",
       "  <tbody>\n",
       "    <tr>\n",
       "      <th>351</th>\n",
       "      <td>Hyundai Santro Xing XL</td>\n",
       "      <td>1.15 Lakh*</td>\n",
       "      <td>NaN</td>\n",
       "      <td>2005</td>\n",
       "      <td>Individual</td>\n",
       "      <td>120000</td>\n",
       "      <td>Petrol</td>\n",
       "      <td>Manual</td>\n",
       "      <td>NaN</td>\n",
       "      <td>Engine1086 CC</td>\n",
       "      <td>NaN</td>\n",
       "      <td>Seats5</td>\n",
       "      <td>Hyundai</td>\n",
       "      <td>115000.0</td>\n",
       "      <td>NaN</td>\n",
       "      <td>17</td>\n",
       "      <td>12.0</td>\n",
       "      <td>NaN</td>\n",
       "    </tr>\n",
       "    <tr>\n",
       "      <th>2553</th>\n",
       "      <td>Hyundai Santro Xing XL</td>\n",
       "      <td>95,000*</td>\n",
       "      <td>NaN</td>\n",
       "      <td>2006</td>\n",
       "      <td>Individual</td>\n",
       "      <td>30000</td>\n",
       "      <td>Petrol</td>\n",
       "      <td>Manual</td>\n",
       "      <td>NaN</td>\n",
       "      <td>Engine1086 CC</td>\n",
       "      <td>NaN</td>\n",
       "      <td>Seats5</td>\n",
       "      <td>Hyundai</td>\n",
       "      <td>95000.0</td>\n",
       "      <td>NaN</td>\n",
       "      <td>16</td>\n",
       "      <td>12.0</td>\n",
       "      <td>NaN</td>\n",
       "    </tr>\n",
       "    <tr>\n",
       "      <th>4873</th>\n",
       "      <td>Hyundai Santro Xing XL</td>\n",
       "      <td>1.25 Lakh*</td>\n",
       "      <td>NaN</td>\n",
       "      <td>2007</td>\n",
       "      <td>Dealer</td>\n",
       "      <td>88571</td>\n",
       "      <td>Petrol</td>\n",
       "      <td>Manual</td>\n",
       "      <td>NaN</td>\n",
       "      <td>Engine1086 CC</td>\n",
       "      <td>NaN</td>\n",
       "      <td>Seats5</td>\n",
       "      <td>Hyundai</td>\n",
       "      <td>125000.0</td>\n",
       "      <td>NaN</td>\n",
       "      <td>15</td>\n",
       "      <td>12.0</td>\n",
       "      <td>NaN</td>\n",
       "    </tr>\n",
       "    <tr>\n",
       "      <th>4925</th>\n",
       "      <td>Hyundai Santro Xing XL</td>\n",
       "      <td>90,000*</td>\n",
       "      <td>NaN</td>\n",
       "      <td>2006</td>\n",
       "      <td>Individual</td>\n",
       "      <td>120000</td>\n",
       "      <td>Petrol</td>\n",
       "      <td>Manual</td>\n",
       "      <td>NaN</td>\n",
       "      <td>Engine1086 CC</td>\n",
       "      <td>NaN</td>\n",
       "      <td>Seats5</td>\n",
       "      <td>Hyundai</td>\n",
       "      <td>90000.0</td>\n",
       "      <td>NaN</td>\n",
       "      <td>16</td>\n",
       "      <td>12.0</td>\n",
       "      <td>NaN</td>\n",
       "    </tr>\n",
       "    <tr>\n",
       "      <th>5437</th>\n",
       "      <td>Hyundai Santro Xing XL</td>\n",
       "      <td>1 Lakh*</td>\n",
       "      <td>NaN</td>\n",
       "      <td>2006</td>\n",
       "      <td>Individual</td>\n",
       "      <td>80000</td>\n",
       "      <td>Petrol</td>\n",
       "      <td>Manual</td>\n",
       "      <td>NaN</td>\n",
       "      <td>Engine1086 CC</td>\n",
       "      <td>NaN</td>\n",
       "      <td>Seats5</td>\n",
       "      <td>Hyundai</td>\n",
       "      <td>100000.0</td>\n",
       "      <td>NaN</td>\n",
       "      <td>16</td>\n",
       "      <td>12.0</td>\n",
       "      <td>NaN</td>\n",
       "    </tr>\n",
       "    <tr>\n",
       "      <th>6295</th>\n",
       "      <td>Hyundai Santro Xing XL</td>\n",
       "      <td>1.3 Lakh*</td>\n",
       "      <td>NaN</td>\n",
       "      <td>2006</td>\n",
       "      <td>Individual</td>\n",
       "      <td>80000</td>\n",
       "      <td>Petrol</td>\n",
       "      <td>Manual</td>\n",
       "      <td>NaN</td>\n",
       "      <td>Engine1086 CC</td>\n",
       "      <td>NaN</td>\n",
       "      <td>Seats5</td>\n",
       "      <td>Hyundai</td>\n",
       "      <td>130000.0</td>\n",
       "      <td>NaN</td>\n",
       "      <td>16</td>\n",
       "      <td>12.0</td>\n",
       "      <td>NaN</td>\n",
       "    </tr>\n",
       "    <tr>\n",
       "      <th>7984</th>\n",
       "      <td>Hyundai Santro Xing XL</td>\n",
       "      <td>2.35 Lakh*</td>\n",
       "      <td>NaN</td>\n",
       "      <td>2007</td>\n",
       "      <td>Individual</td>\n",
       "      <td>10900</td>\n",
       "      <td>Petrol</td>\n",
       "      <td>Manual</td>\n",
       "      <td>NaN</td>\n",
       "      <td>Engine1086 CC</td>\n",
       "      <td>NaN</td>\n",
       "      <td>Seats5</td>\n",
       "      <td>Hyundai</td>\n",
       "      <td>235000.0</td>\n",
       "      <td>NaN</td>\n",
       "      <td>15</td>\n",
       "      <td>12.0</td>\n",
       "      <td>NaN</td>\n",
       "    </tr>\n",
       "    <tr>\n",
       "      <th>8900</th>\n",
       "      <td>Hyundai Santro Xing XL</td>\n",
       "      <td>1.2 Lakh*</td>\n",
       "      <td>NaN</td>\n",
       "      <td>2006</td>\n",
       "      <td>Dealer</td>\n",
       "      <td>78523</td>\n",
       "      <td>Petrol</td>\n",
       "      <td>Manual</td>\n",
       "      <td>NaN</td>\n",
       "      <td>Engine1086 CC</td>\n",
       "      <td>NaN</td>\n",
       "      <td>Seats5</td>\n",
       "      <td>Hyundai</td>\n",
       "      <td>120000.0</td>\n",
       "      <td>NaN</td>\n",
       "      <td>16</td>\n",
       "      <td>12.0</td>\n",
       "      <td>NaN</td>\n",
       "    </tr>\n",
       "    <tr>\n",
       "      <th>9602</th>\n",
       "      <td>Hyundai Santro Xing XL</td>\n",
       "      <td>25,000*</td>\n",
       "      <td>NaN</td>\n",
       "      <td>2006</td>\n",
       "      <td>Dealer</td>\n",
       "      <td>71238</td>\n",
       "      <td>Petrol</td>\n",
       "      <td>Manual</td>\n",
       "      <td>NaN</td>\n",
       "      <td>Engine1086 CC</td>\n",
       "      <td>NaN</td>\n",
       "      <td>Seats5</td>\n",
       "      <td>Hyundai</td>\n",
       "      <td>25000.0</td>\n",
       "      <td>NaN</td>\n",
       "      <td>16</td>\n",
       "      <td>12.0</td>\n",
       "      <td>NaN</td>\n",
       "    </tr>\n",
       "    <tr>\n",
       "      <th>9864</th>\n",
       "      <td>Hyundai Santro Xing XL</td>\n",
       "      <td>65,000*</td>\n",
       "      <td>NaN</td>\n",
       "      <td>2006</td>\n",
       "      <td>Individual</td>\n",
       "      <td>80000</td>\n",
       "      <td>Petrol</td>\n",
       "      <td>Manual</td>\n",
       "      <td>NaN</td>\n",
       "      <td>Engine1086 CC</td>\n",
       "      <td>NaN</td>\n",
       "      <td>Seats5</td>\n",
       "      <td>Hyundai</td>\n",
       "      <td>65000.0</td>\n",
       "      <td>NaN</td>\n",
       "      <td>16</td>\n",
       "      <td>12.0</td>\n",
       "      <td>NaN</td>\n",
       "    </tr>\n",
       "    <tr>\n",
       "      <th>12358</th>\n",
       "      <td>Hyundai Santro Xing XL</td>\n",
       "      <td>1.05 Lakh*</td>\n",
       "      <td>NaN</td>\n",
       "      <td>2007</td>\n",
       "      <td>Individual</td>\n",
       "      <td>95000</td>\n",
       "      <td>Petrol</td>\n",
       "      <td>Manual</td>\n",
       "      <td>NaN</td>\n",
       "      <td>Engine1086 CC</td>\n",
       "      <td>NaN</td>\n",
       "      <td>Seats5</td>\n",
       "      <td>Hyundai</td>\n",
       "      <td>105000.0</td>\n",
       "      <td>NaN</td>\n",
       "      <td>15</td>\n",
       "      <td>12.0</td>\n",
       "      <td>NaN</td>\n",
       "    </tr>\n",
       "    <tr>\n",
       "      <th>12441</th>\n",
       "      <td>Hyundai Santro Xing XL</td>\n",
       "      <td>50,000*</td>\n",
       "      <td>NaN</td>\n",
       "      <td>2005</td>\n",
       "      <td>Individual</td>\n",
       "      <td>100000</td>\n",
       "      <td>Petrol</td>\n",
       "      <td>Manual</td>\n",
       "      <td>NaN</td>\n",
       "      <td>Engine1086 CC</td>\n",
       "      <td>NaN</td>\n",
       "      <td>Seats5</td>\n",
       "      <td>Hyundai</td>\n",
       "      <td>50000.0</td>\n",
       "      <td>NaN</td>\n",
       "      <td>17</td>\n",
       "      <td>12.0</td>\n",
       "      <td>NaN</td>\n",
       "    </tr>\n",
       "    <tr>\n",
       "      <th>12710</th>\n",
       "      <td>Hyundai Santro Xing XL</td>\n",
       "      <td>93,750*</td>\n",
       "      <td>NaN</td>\n",
       "      <td>2007</td>\n",
       "      <td>Dealer</td>\n",
       "      <td>78222</td>\n",
       "      <td>Petrol</td>\n",
       "      <td>Manual</td>\n",
       "      <td>NaN</td>\n",
       "      <td>Engine1086 CC</td>\n",
       "      <td>NaN</td>\n",
       "      <td>Seats5</td>\n",
       "      <td>Hyundai</td>\n",
       "      <td>93750.0</td>\n",
       "      <td>NaN</td>\n",
       "      <td>15</td>\n",
       "      <td>12.0</td>\n",
       "      <td>NaN</td>\n",
       "    </tr>\n",
       "    <tr>\n",
       "      <th>13565</th>\n",
       "      <td>Hyundai Santro Xing XL</td>\n",
       "      <td>70,000*</td>\n",
       "      <td>NaN</td>\n",
       "      <td>2006</td>\n",
       "      <td>Individual</td>\n",
       "      <td>69000</td>\n",
       "      <td>Petrol</td>\n",
       "      <td>Manual</td>\n",
       "      <td>NaN</td>\n",
       "      <td>Engine1086 CC</td>\n",
       "      <td>NaN</td>\n",
       "      <td>Seats5</td>\n",
       "      <td>Hyundai</td>\n",
       "      <td>70000.0</td>\n",
       "      <td>NaN</td>\n",
       "      <td>16</td>\n",
       "      <td>12.0</td>\n",
       "      <td>NaN</td>\n",
       "    </tr>\n",
       "    <tr>\n",
       "      <th>16067</th>\n",
       "      <td>Hyundai Santro Xing XL</td>\n",
       "      <td>1.85 Lakh*</td>\n",
       "      <td>NaN</td>\n",
       "      <td>2006</td>\n",
       "      <td>Dealer</td>\n",
       "      <td>60000</td>\n",
       "      <td>Petrol</td>\n",
       "      <td>Manual</td>\n",
       "      <td>NaN</td>\n",
       "      <td>Engine1086 CC</td>\n",
       "      <td>NaN</td>\n",
       "      <td>Seats5</td>\n",
       "      <td>Hyundai</td>\n",
       "      <td>185000.0</td>\n",
       "      <td>NaN</td>\n",
       "      <td>16</td>\n",
       "      <td>12.0</td>\n",
       "      <td>NaN</td>\n",
       "    </tr>\n",
       "    <tr>\n",
       "      <th>17209</th>\n",
       "      <td>Hyundai Santro Xing XL</td>\n",
       "      <td>1.6 Lakh*</td>\n",
       "      <td>NaN</td>\n",
       "      <td>2006</td>\n",
       "      <td>Dealer</td>\n",
       "      <td>42653</td>\n",
       "      <td>Petrol</td>\n",
       "      <td>Manual</td>\n",
       "      <td>NaN</td>\n",
       "      <td>Engine1086 CC</td>\n",
       "      <td>NaN</td>\n",
       "      <td>Seats5</td>\n",
       "      <td>Hyundai</td>\n",
       "      <td>160000.0</td>\n",
       "      <td>NaN</td>\n",
       "      <td>16</td>\n",
       "      <td>12.0</td>\n",
       "      <td>NaN</td>\n",
       "    </tr>\n",
       "    <tr>\n",
       "      <th>17237</th>\n",
       "      <td>Hyundai Santro Xing XL</td>\n",
       "      <td>90,000*</td>\n",
       "      <td>NaN</td>\n",
       "      <td>2007</td>\n",
       "      <td>Individual</td>\n",
       "      <td>34000</td>\n",
       "      <td>Petrol</td>\n",
       "      <td>Manual</td>\n",
       "      <td>NaN</td>\n",
       "      <td>Engine1086 CC</td>\n",
       "      <td>NaN</td>\n",
       "      <td>Seats5</td>\n",
       "      <td>Hyundai</td>\n",
       "      <td>90000.0</td>\n",
       "      <td>NaN</td>\n",
       "      <td>15</td>\n",
       "      <td>12.0</td>\n",
       "      <td>NaN</td>\n",
       "    </tr>\n",
       "    <tr>\n",
       "      <th>18087</th>\n",
       "      <td>Hyundai Santro Xing XL</td>\n",
       "      <td>1.35 Lakh*</td>\n",
       "      <td>NaN</td>\n",
       "      <td>2007</td>\n",
       "      <td>Dealer</td>\n",
       "      <td>49000</td>\n",
       "      <td>Petrol</td>\n",
       "      <td>Manual</td>\n",
       "      <td>NaN</td>\n",
       "      <td>Engine1086 CC</td>\n",
       "      <td>NaN</td>\n",
       "      <td>Seats5</td>\n",
       "      <td>Hyundai</td>\n",
       "      <td>135000.0</td>\n",
       "      <td>NaN</td>\n",
       "      <td>15</td>\n",
       "      <td>12.0</td>\n",
       "      <td>NaN</td>\n",
       "    </tr>\n",
       "    <tr>\n",
       "      <th>18324</th>\n",
       "      <td>Hyundai Santro Xing XL</td>\n",
       "      <td>2.1 Lakh*</td>\n",
       "      <td>NaN</td>\n",
       "      <td>2006</td>\n",
       "      <td>Dealer</td>\n",
       "      <td>74300</td>\n",
       "      <td>Petrol</td>\n",
       "      <td>Manual</td>\n",
       "      <td>NaN</td>\n",
       "      <td>Engine1086 CC</td>\n",
       "      <td>NaN</td>\n",
       "      <td>Seats5</td>\n",
       "      <td>Hyundai</td>\n",
       "      <td>210000.0</td>\n",
       "      <td>NaN</td>\n",
       "      <td>16</td>\n",
       "      <td>12.0</td>\n",
       "      <td>NaN</td>\n",
       "    </tr>\n",
       "    <tr>\n",
       "      <th>18447</th>\n",
       "      <td>Hyundai Santro Xing XL</td>\n",
       "      <td>72,000*</td>\n",
       "      <td>NaN</td>\n",
       "      <td>2006</td>\n",
       "      <td>Individual</td>\n",
       "      <td>90000</td>\n",
       "      <td>Petrol</td>\n",
       "      <td>Manual</td>\n",
       "      <td>NaN</td>\n",
       "      <td>Engine1086 CC</td>\n",
       "      <td>NaN</td>\n",
       "      <td>Seats5</td>\n",
       "      <td>Hyundai</td>\n",
       "      <td>72000.0</td>\n",
       "      <td>NaN</td>\n",
       "      <td>16</td>\n",
       "      <td>12.0</td>\n",
       "      <td>NaN</td>\n",
       "    </tr>\n",
       "    <tr>\n",
       "      <th>18828</th>\n",
       "      <td>Hyundai Santro Xing XL</td>\n",
       "      <td>1.25 Lakh*</td>\n",
       "      <td>NaN</td>\n",
       "      <td>2006</td>\n",
       "      <td>Individual</td>\n",
       "      <td>60000</td>\n",
       "      <td>Petrol</td>\n",
       "      <td>Manual</td>\n",
       "      <td>NaN</td>\n",
       "      <td>Engine1086 CC</td>\n",
       "      <td>NaN</td>\n",
       "      <td>Seats5</td>\n",
       "      <td>Hyundai</td>\n",
       "      <td>125000.0</td>\n",
       "      <td>NaN</td>\n",
       "      <td>16</td>\n",
       "      <td>12.0</td>\n",
       "      <td>NaN</td>\n",
       "    </tr>\n",
       "    <tr>\n",
       "      <th>19095</th>\n",
       "      <td>Hyundai Santro Xing XL</td>\n",
       "      <td>1.7 Lakh*</td>\n",
       "      <td>NaN</td>\n",
       "      <td>2009</td>\n",
       "      <td>Dealer</td>\n",
       "      <td>45902</td>\n",
       "      <td>Petrol</td>\n",
       "      <td>Manual</td>\n",
       "      <td>NaN</td>\n",
       "      <td>Engine1086 CC</td>\n",
       "      <td>NaN</td>\n",
       "      <td>Seats5</td>\n",
       "      <td>Hyundai</td>\n",
       "      <td>170000.0</td>\n",
       "      <td>NaN</td>\n",
       "      <td>13</td>\n",
       "      <td>12.0</td>\n",
       "      <td>NaN</td>\n",
       "    </tr>\n",
       "    <tr>\n",
       "      <th>19424</th>\n",
       "      <td>Hyundai Santro Xing XL</td>\n",
       "      <td>80,000*</td>\n",
       "      <td>NaN</td>\n",
       "      <td>2006</td>\n",
       "      <td>Individual</td>\n",
       "      <td>50000</td>\n",
       "      <td>Petrol</td>\n",
       "      <td>Manual</td>\n",
       "      <td>NaN</td>\n",
       "      <td>Engine1086 CC</td>\n",
       "      <td>NaN</td>\n",
       "      <td>Seats5</td>\n",
       "      <td>Hyundai</td>\n",
       "      <td>80000.0</td>\n",
       "      <td>NaN</td>\n",
       "      <td>16</td>\n",
       "      <td>12.0</td>\n",
       "      <td>NaN</td>\n",
       "    </tr>\n",
       "  </tbody>\n",
       "</table>\n",
       "</div>"
      ],
      "text/plain": [
       "                    full_name selling_price new_price  year seller_type  \\\n",
       "351    Hyundai Santro Xing XL    1.15 Lakh*       NaN  2005  Individual   \n",
       "2553   Hyundai Santro Xing XL       95,000*       NaN  2006  Individual   \n",
       "4873   Hyundai Santro Xing XL    1.25 Lakh*       NaN  2007      Dealer   \n",
       "4925   Hyundai Santro Xing XL       90,000*       NaN  2006  Individual   \n",
       "5437   Hyundai Santro Xing XL       1 Lakh*       NaN  2006  Individual   \n",
       "6295   Hyundai Santro Xing XL     1.3 Lakh*       NaN  2006  Individual   \n",
       "7984   Hyundai Santro Xing XL    2.35 Lakh*       NaN  2007  Individual   \n",
       "8900   Hyundai Santro Xing XL     1.2 Lakh*       NaN  2006      Dealer   \n",
       "9602   Hyundai Santro Xing XL       25,000*       NaN  2006      Dealer   \n",
       "9864   Hyundai Santro Xing XL       65,000*       NaN  2006  Individual   \n",
       "12358  Hyundai Santro Xing XL    1.05 Lakh*       NaN  2007  Individual   \n",
       "12441  Hyundai Santro Xing XL       50,000*       NaN  2005  Individual   \n",
       "12710  Hyundai Santro Xing XL       93,750*       NaN  2007      Dealer   \n",
       "13565  Hyundai Santro Xing XL       70,000*       NaN  2006  Individual   \n",
       "16067  Hyundai Santro Xing XL    1.85 Lakh*       NaN  2006      Dealer   \n",
       "17209  Hyundai Santro Xing XL     1.6 Lakh*       NaN  2006      Dealer   \n",
       "17237  Hyundai Santro Xing XL       90,000*       NaN  2007  Individual   \n",
       "18087  Hyundai Santro Xing XL    1.35 Lakh*       NaN  2007      Dealer   \n",
       "18324  Hyundai Santro Xing XL     2.1 Lakh*       NaN  2006      Dealer   \n",
       "18447  Hyundai Santro Xing XL       72,000*       NaN  2006  Individual   \n",
       "18828  Hyundai Santro Xing XL    1.25 Lakh*       NaN  2006  Individual   \n",
       "19095  Hyundai Santro Xing XL     1.7 Lakh*       NaN  2009      Dealer   \n",
       "19424  Hyundai Santro Xing XL       80,000*       NaN  2006  Individual   \n",
       "\n",
       "       km_driven fuel_type transmission_type mileage         engine max_power  \\\n",
       "351       120000    Petrol            Manual     NaN  Engine1086 CC       NaN   \n",
       "2553       30000    Petrol            Manual     NaN  Engine1086 CC       NaN   \n",
       "4873       88571    Petrol            Manual     NaN  Engine1086 CC       NaN   \n",
       "4925      120000    Petrol            Manual     NaN  Engine1086 CC       NaN   \n",
       "5437       80000    Petrol            Manual     NaN  Engine1086 CC       NaN   \n",
       "6295       80000    Petrol            Manual     NaN  Engine1086 CC       NaN   \n",
       "7984       10900    Petrol            Manual     NaN  Engine1086 CC       NaN   \n",
       "8900       78523    Petrol            Manual     NaN  Engine1086 CC       NaN   \n",
       "9602       71238    Petrol            Manual     NaN  Engine1086 CC       NaN   \n",
       "9864       80000    Petrol            Manual     NaN  Engine1086 CC       NaN   \n",
       "12358      95000    Petrol            Manual     NaN  Engine1086 CC       NaN   \n",
       "12441     100000    Petrol            Manual     NaN  Engine1086 CC       NaN   \n",
       "12710      78222    Petrol            Manual     NaN  Engine1086 CC       NaN   \n",
       "13565      69000    Petrol            Manual     NaN  Engine1086 CC       NaN   \n",
       "16067      60000    Petrol            Manual     NaN  Engine1086 CC       NaN   \n",
       "17209      42653    Petrol            Manual     NaN  Engine1086 CC       NaN   \n",
       "17237      34000    Petrol            Manual     NaN  Engine1086 CC       NaN   \n",
       "18087      49000    Petrol            Manual     NaN  Engine1086 CC       NaN   \n",
       "18324      74300    Petrol            Manual     NaN  Engine1086 CC       NaN   \n",
       "18447      90000    Petrol            Manual     NaN  Engine1086 CC       NaN   \n",
       "18828      60000    Petrol            Manual     NaN  Engine1086 CC       NaN   \n",
       "19095      45902    Petrol            Manual     NaN  Engine1086 CC       NaN   \n",
       "19424      50000    Petrol            Manual     NaN  Engine1086 CC       NaN   \n",
       "\n",
       "        seats    brand  selling_price_new  new_price_new  age  mileage_new  \\\n",
       "351    Seats5  Hyundai           115000.0            NaN   17         12.0   \n",
       "2553   Seats5  Hyundai            95000.0            NaN   16         12.0   \n",
       "4873   Seats5  Hyundai           125000.0            NaN   15         12.0   \n",
       "4925   Seats5  Hyundai            90000.0            NaN   16         12.0   \n",
       "5437   Seats5  Hyundai           100000.0            NaN   16         12.0   \n",
       "6295   Seats5  Hyundai           130000.0            NaN   16         12.0   \n",
       "7984   Seats5  Hyundai           235000.0            NaN   15         12.0   \n",
       "8900   Seats5  Hyundai           120000.0            NaN   16         12.0   \n",
       "9602   Seats5  Hyundai            25000.0            NaN   16         12.0   \n",
       "9864   Seats5  Hyundai            65000.0            NaN   16         12.0   \n",
       "12358  Seats5  Hyundai           105000.0            NaN   15         12.0   \n",
       "12441  Seats5  Hyundai            50000.0            NaN   17         12.0   \n",
       "12710  Seats5  Hyundai            93750.0            NaN   15         12.0   \n",
       "13565  Seats5  Hyundai            70000.0            NaN   16         12.0   \n",
       "16067  Seats5  Hyundai           185000.0            NaN   16         12.0   \n",
       "17209  Seats5  Hyundai           160000.0            NaN   16         12.0   \n",
       "17237  Seats5  Hyundai            90000.0            NaN   15         12.0   \n",
       "18087  Seats5  Hyundai           135000.0            NaN   15         12.0   \n",
       "18324  Seats5  Hyundai           210000.0            NaN   16         12.0   \n",
       "18447  Seats5  Hyundai            72000.0            NaN   16         12.0   \n",
       "18828  Seats5  Hyundai           125000.0            NaN   16         12.0   \n",
       "19095  Seats5  Hyundai           170000.0            NaN   13         12.0   \n",
       "19424  Seats5  Hyundai            80000.0            NaN   16         12.0   \n",
       "\n",
       "       max_power_new  \n",
       "351              NaN  \n",
       "2553             NaN  \n",
       "4873             NaN  \n",
       "4925             NaN  \n",
       "5437             NaN  \n",
       "6295             NaN  \n",
       "7984             NaN  \n",
       "8900             NaN  \n",
       "9602             NaN  \n",
       "9864             NaN  \n",
       "12358            NaN  \n",
       "12441            NaN  \n",
       "12710            NaN  \n",
       "13565            NaN  \n",
       "16067            NaN  \n",
       "17209            NaN  \n",
       "17237            NaN  \n",
       "18087            NaN  \n",
       "18324            NaN  \n",
       "18447            NaN  \n",
       "18828            NaN  \n",
       "19095            NaN  \n",
       "19424            NaN  "
      ]
     },
     "execution_count": 66,
     "metadata": {},
     "output_type": "execute_result"
    }
   ],
   "source": [
    "df.groupby(\"full_name\").get_group(\"Hyundai Santro Xing XL\")"
   ]
  },
  {
   "cell_type": "raw",
   "id": "6ac780bc",
   "metadata": {},
   "source": [
    "Maruti Swift VDI BSIV=74\n",
    "Hyundai Santro LP=59.17\n",
    "Hyundai Santro AT=59.17\n",
    "Hyundai Santro Xing XL=63\n",
    "BMW 5 Series 520d Sedan=188\n",
    "Maruti Estilo LXI=67\n",
    "Toyota Etios GD=67.04\n",
    "Toyota Etios Liva G=78.9\n",
    "Toyota Etios Liva GD=67.04"
   ]
  },
  {
   "cell_type": "code",
   "execution_count": 67,
   "id": "c50a24e9",
   "metadata": {},
   "outputs": [
    {
     "name": "stderr",
     "output_type": "stream",
     "text": [
      "C:\\Users\\kannu\\AppData\\Local\\Temp\\ipykernel_11084\\544710047.py:1: SettingWithCopyWarning: \n",
      "A value is trying to be set on a copy of a slice from a DataFrame\n",
      "\n",
      "See the caveats in the documentation: https://pandas.pydata.org/pandas-docs/stable/user_guide/indexing.html#returning-a-view-versus-a-copy\n",
      "  df[\"max_power_new\"].loc[df[\"full_name\"]==\"Maruti Swift VDI BSIV\"]=74\n"
     ]
    }
   ],
   "source": [
    "df[\"max_power_new\"].loc[df[\"full_name\"]==\"Maruti Swift VDI BSIV\"]=74"
   ]
  },
  {
   "cell_type": "code",
   "execution_count": 68,
   "id": "c716eb66",
   "metadata": {},
   "outputs": [
    {
     "name": "stderr",
     "output_type": "stream",
     "text": [
      "C:\\Users\\kannu\\AppData\\Local\\Temp\\ipykernel_11084\\3537078979.py:1: SettingWithCopyWarning: \n",
      "A value is trying to be set on a copy of a slice from a DataFrame\n",
      "\n",
      "See the caveats in the documentation: https://pandas.pydata.org/pandas-docs/stable/user_guide/indexing.html#returning-a-view-versus-a-copy\n",
      "  df[\"max_power_new\"].loc[df[\"full_name\"]==\"Hyundai Santro LP\"]=59.17\n",
      "C:\\Users\\kannu\\AppData\\Local\\Temp\\ipykernel_11084\\3537078979.py:2: SettingWithCopyWarning: \n",
      "A value is trying to be set on a copy of a slice from a DataFrame\n",
      "\n",
      "See the caveats in the documentation: https://pandas.pydata.org/pandas-docs/stable/user_guide/indexing.html#returning-a-view-versus-a-copy\n",
      "  df[\"max_power_new\"].loc[df[\"full_name\"]==\"Hyundai Santro AT\"]=59.17\n",
      "C:\\Users\\kannu\\AppData\\Local\\Temp\\ipykernel_11084\\3537078979.py:3: SettingWithCopyWarning: \n",
      "A value is trying to be set on a copy of a slice from a DataFrame\n",
      "\n",
      "See the caveats in the documentation: https://pandas.pydata.org/pandas-docs/stable/user_guide/indexing.html#returning-a-view-versus-a-copy\n",
      "  df[\"max_power_new\"].loc[df[\"full_name\"]==\"Hyundai Santro Xing XL\"]=63\n",
      "C:\\Users\\kannu\\AppData\\Local\\Temp\\ipykernel_11084\\3537078979.py:4: SettingWithCopyWarning: \n",
      "A value is trying to be set on a copy of a slice from a DataFrame\n",
      "\n",
      "See the caveats in the documentation: https://pandas.pydata.org/pandas-docs/stable/user_guide/indexing.html#returning-a-view-versus-a-copy\n",
      "  df[\"max_power_new\"].loc[df[\"full_name\"]==\"BMW 5 Series 520d Sedan\"]=188\n",
      "C:\\Users\\kannu\\AppData\\Local\\Temp\\ipykernel_11084\\3537078979.py:5: SettingWithCopyWarning: \n",
      "A value is trying to be set on a copy of a slice from a DataFrame\n",
      "\n",
      "See the caveats in the documentation: https://pandas.pydata.org/pandas-docs/stable/user_guide/indexing.html#returning-a-view-versus-a-copy\n",
      "  df[\"max_power_new\"].loc[df[\"full_name\"]==\"Maruti Estilo LXI\"]=67\n",
      "C:\\Users\\kannu\\AppData\\Local\\Temp\\ipykernel_11084\\3537078979.py:6: SettingWithCopyWarning: \n",
      "A value is trying to be set on a copy of a slice from a DataFrame\n",
      "\n",
      "See the caveats in the documentation: https://pandas.pydata.org/pandas-docs/stable/user_guide/indexing.html#returning-a-view-versus-a-copy\n",
      "  df[\"max_power_new\"].loc[df[\"full_name\"]==\"Toyota Etios GD\"]=67.04\n",
      "C:\\Users\\kannu\\AppData\\Local\\Temp\\ipykernel_11084\\3537078979.py:7: SettingWithCopyWarning: \n",
      "A value is trying to be set on a copy of a slice from a DataFrame\n",
      "\n",
      "See the caveats in the documentation: https://pandas.pydata.org/pandas-docs/stable/user_guide/indexing.html#returning-a-view-versus-a-copy\n",
      "  df[\"max_power_new\"].loc[df[\"full_name\"]==\"Toyota Etios Liva G\"]=78.9\n",
      "C:\\Users\\kannu\\AppData\\Local\\Temp\\ipykernel_11084\\3537078979.py:8: SettingWithCopyWarning: \n",
      "A value is trying to be set on a copy of a slice from a DataFrame\n",
      "\n",
      "See the caveats in the documentation: https://pandas.pydata.org/pandas-docs/stable/user_guide/indexing.html#returning-a-view-versus-a-copy\n",
      "  df[\"max_power_new\"].loc[df[\"full_name\"]==\"Toyota Etios Liva GD\"]=67.04\n"
     ]
    }
   ],
   "source": [
    "df[\"max_power_new\"].loc[df[\"full_name\"]==\"Hyundai Santro LP\"]=59.17\n",
    "df[\"max_power_new\"].loc[df[\"full_name\"]==\"Hyundai Santro AT\"]=59.17\n",
    "df[\"max_power_new\"].loc[df[\"full_name\"]==\"Hyundai Santro Xing XL\"]=63\n",
    "df[\"max_power_new\"].loc[df[\"full_name\"]==\"BMW 5 Series 520d Sedan\"]=188\n",
    "df[\"max_power_new\"].loc[df[\"full_name\"]==\"Maruti Estilo LXI\"]=67\n",
    "df[\"max_power_new\"].loc[df[\"full_name\"]==\"Toyota Etios GD\"]=67.04\n",
    "df[\"max_power_new\"].loc[df[\"full_name\"]==\"Toyota Etios Liva G\"]=78.9\n",
    "df[\"max_power_new\"].loc[df[\"full_name\"]==\"Toyota Etios Liva GD\"]=67.04\n",
    "\n"
   ]
  },
  {
   "cell_type": "code",
   "execution_count": 69,
   "id": "07b9f40d",
   "metadata": {},
   "outputs": [],
   "source": [
    "df[\"max_power_new\"].fillna(df[\"max_power_new\"].median(),inplace=True)"
   ]
  },
  {
   "cell_type": "code",
   "execution_count": 70,
   "id": "e90fb23e",
   "metadata": {},
   "outputs": [
    {
     "data": {
      "text/plain": [
       "<AxesSubplot:xlabel='max_power_new', ylabel='Density'>"
      ]
     },
     "execution_count": 70,
     "metadata": {},
     "output_type": "execute_result"
    },
    {
     "data": {
      "image/png": "[encoded data removed]",
      "text/plain": [
       "<Figure size 640x480 with 1 Axes>"
      ]
     },
     "metadata": {},
     "output_type": "display_data"
    }
   ],
   "source": [
    "sns.kdeplot(df[\"max_power_new\"])"
   ]
  },
  {
   "cell_type": "code",
   "execution_count": 71,
   "id": "4c653513",
   "metadata": {},
   "outputs": [
    {
     "data": {
      "text/plain": [
       "0"
      ]
     },
     "execution_count": 71,
     "metadata": {},
     "output_type": "execute_result"
    }
   ],
   "source": [
    "df[\"max_power_new\"].isna().sum()"
   ]
  },
  {
   "cell_type": "code",
   "execution_count": 72,
   "id": "9967049d",
   "metadata": {},
   "outputs": [
    {
     "data": {
      "text/plain": [
       "Seats5     16585\n",
       "Seats7      2370\n",
       "Seats8       443\n",
       "Seats4       225\n",
       "Seats6       143\n",
       "Seats9        72\n",
       "Seats10       26\n",
       "Seats2        21\n",
       "Seats14        2\n",
       "Name: seats, dtype: int64"
      ]
     },
     "execution_count": 72,
     "metadata": {},
     "output_type": "execute_result"
    }
   ],
   "source": [
    "#seats\n",
    "df[\"seats\"].value_counts()"
   ]
  },
  {
   "cell_type": "code",
   "execution_count": 73,
   "id": "39b9865c",
   "metadata": {},
   "outputs": [
    {
     "data": {
      "text/plain": [
       "87"
      ]
     },
     "execution_count": 73,
     "metadata": {},
     "output_type": "execute_result"
    }
   ],
   "source": [
    "df[\"seats\"].isna().sum()"
   ]
  },
  {
   "cell_type": "code",
   "execution_count": 74,
   "id": "d85cdb72",
   "metadata": {},
   "outputs": [],
   "source": [
    "list1=list(df.loc[df[\"seats\"].isna()].groupby(\"full_name\").groups.keys())"
   ]
  },
  {
   "cell_type": "code",
   "execution_count": 75,
   "id": "f0386fbd",
   "metadata": {},
   "outputs": [
    {
     "name": "stdout",
     "output_type": "stream",
     "text": [
      "Audi A4 2008-2014 3.0 TDI Quattro \n",
      " 875     NaN\n",
      "7083    NaN\n",
      "Name: seats, dtype: object\n",
      "BMW X1 sDrive 20D xLine \n",
      " 3845     NaN\n",
      "3865     NaN\n",
      "5255     NaN\n",
      "8990     NaN\n",
      "14751    NaN\n",
      "19213    NaN\n",
      "Name: seats, dtype: object\n",
      "Fiat Punto 1.2 Dynamic \n",
      " 2445    NaN\n",
      "2566    NaN\n",
      "5926    NaN\n",
      "Name: seats, dtype: object\n",
      "Fiat Punto 1.3 Active \n",
      " 963      Seats5\n",
      "3129        NaN\n",
      "8495        NaN\n",
      "9212        NaN\n",
      "14468       NaN\n",
      "16673       NaN\n",
      "Name: seats, dtype: object\n",
      "Fiat Punto 1.3 Emotion \n",
      " 3216     NaN\n",
      "3369     NaN\n",
      "4454     NaN\n",
      "7895     NaN\n",
      "10852    NaN\n",
      "13261    NaN\n",
      "Name: seats, dtype: object\n",
      "Fiat Punto 1.4 Emotion \n",
      " 3784    NaN\n",
      "Name: seats, dtype: object\n",
      "Ford Endeavour Hurricane LE \n",
      " 9937    NaN\n",
      "Name: seats, dtype: object\n",
      "Ford Figo Aspire Facelift \n",
      " 304      NaN\n",
      "2759     NaN\n",
      "3554     NaN\n",
      "10737    NaN\n",
      "11415    NaN\n",
      "15982    NaN\n",
      "16957    NaN\n",
      "Name: seats, dtype: object\n",
      "Ford Figo Diesel \n",
      " 17081    NaN\n",
      "Name: seats, dtype: object\n",
      "Honda City 1.3 DX \n",
      " 11337       NaN\n",
      "17665    Seats5\n",
      "Name: seats, dtype: object\n",
      "Honda City 1.5 EXI \n",
      " 4193        NaN\n",
      "14384    Seats5\n",
      "17511    Seats5\n",
      "18549    Seats5\n",
      "Name: seats, dtype: object\n",
      "Honda Jazz Select Edition \n",
      " 1201    NaN\n",
      "9507    NaN\n",
      "Name: seats, dtype: object\n",
      "Maruti Estilo LXI \n",
      " 960      NaN\n",
      "3115     NaN\n",
      "4090     NaN\n",
      "9870     NaN\n",
      "11179    NaN\n",
      "11254    NaN\n",
      "11463    NaN\n",
      "11572    NaN\n",
      "11900    NaN\n",
      "12918    NaN\n",
      "15254    NaN\n",
      "18593    NaN\n",
      "18837    NaN\n",
      "Name: seats, dtype: object\n",
      "Maruti Omni E 8 Str STD \n",
      " 4621        NaN\n",
      "6047        NaN\n",
      "7454     Seats8\n",
      "8154        NaN\n",
      "10280    Seats8\n",
      "Name: seats, dtype: object\n",
      "Maruti Swift 1.3 LXI \n",
      " 2803     NaN\n",
      "4440     NaN\n",
      "9456     NaN\n",
      "13065    NaN\n",
      "13504    NaN\n",
      "14072    NaN\n",
      "17564    NaN\n",
      "Name: seats, dtype: object\n",
      "Maruti Swift 1.3 VXI ABS \n",
      " 4575    NaN\n",
      "6377    NaN\n",
      "9544    NaN\n",
      "Name: seats, dtype: object\n",
      "Maruti Swift 1.3 VXi \n",
      " 1060     NaN\n",
      "2489     NaN\n",
      "3406     NaN\n",
      "4483     NaN\n",
      "4747     NaN\n",
      "5257     NaN\n",
      "6233     NaN\n",
      "6356     NaN\n",
      "7333     NaN\n",
      "7383     NaN\n",
      "8103     NaN\n",
      "8625     NaN\n",
      "9626     NaN\n",
      "9711     NaN\n",
      "13917    NaN\n",
      "14086    NaN\n",
      "15198    NaN\n",
      "15731    NaN\n",
      "17445    NaN\n",
      "18458    NaN\n",
      "19947    NaN\n",
      "Name: seats, dtype: object\n",
      "Maruti Swift 1.3 ZXI \n",
      " 3442     NaN\n",
      "12539    NaN\n",
      "Name: seats, dtype: object\n",
      "Nissan Infiniti Petrol \n",
      " 19310    NaN\n",
      "Name: seats, dtype: object\n",
      "Nissan Kicks Diesel \n",
      " 16338    NaN\n",
      "Name: seats, dtype: object\n"
     ]
    }
   ],
   "source": [
    "for seat in list1:\n",
    "    print(seat,\"\\n\",df[\"seats\"].loc[df[\"full_name\"]==seat])"
   ]
  },
  {
   "cell_type": "raw",
   "id": "931bc75d",
   "metadata": {},
   "source": [
    "'Audi A4 2008-2014 3.0 TDI Quattro'-Seats5\n",
    "BMW X1 sDrive 20D xLine-Seats5\n",
    "'Fiat Punto 1.2 Dynamic',-Seats5\n",
    "'Fiat Punto 1.3 Active'-Seats5\n",
    "'Fiat Punto 1.3 Emotion'-Seats5\n",
    "'Fiat Punto 1.4 Emotion'-Seats5\n",
    "Honda City 1.3 DX-Seats5\n",
    "Honda City 1.5 EXI-Seats5\n",
    "Maruti Omni E 8 Str STD -Seats8"
   ]
  },
  {
   "cell_type": "code",
   "execution_count": 76,
   "id": "2559a280",
   "metadata": {},
   "outputs": [
    {
     "name": "stderr",
     "output_type": "stream",
     "text": [
      "C:\\Users\\kannu\\AppData\\Local\\Temp\\ipykernel_11084\\796157647.py:1: SettingWithCopyWarning: \n",
      "A value is trying to be set on a copy of a slice from a DataFrame\n",
      "\n",
      "See the caveats in the documentation: https://pandas.pydata.org/pandas-docs/stable/user_guide/indexing.html#returning-a-view-versus-a-copy\n",
      "  df[\"seats\"].loc[df[\"full_name\"].isin (['Audi A4 2008-2014 3.0 TDI Quattro','BMW X1 sDrive 20D xLine','Fiat Punto 1.2 Dynamic','Fiat Punto 1.3 Active','Fiat Punto 1.3 Emotion','Fiat Punto 1.4 Emotion','Honda City 1.3 DX','Honda City 1.5 EXI'])]=\"Seats5\"\n"
     ]
    }
   ],
   "source": [
    "df[\"seats\"].loc[df[\"full_name\"].isin (['Audi A4 2008-2014 3.0 TDI Quattro','BMW X1 sDrive 20D xLine','Fiat Punto 1.2 Dynamic','Fiat Punto 1.3 Active','Fiat Punto 1.3 Emotion','Fiat Punto 1.4 Emotion','Honda City 1.3 DX','Honda City 1.5 EXI'])]=\"Seats5\""
   ]
  },
  {
   "cell_type": "code",
   "execution_count": 77,
   "id": "635c53cd",
   "metadata": {},
   "outputs": [
    {
     "name": "stderr",
     "output_type": "stream",
     "text": [
      "C:\\Users\\kannu\\AppData\\Local\\Temp\\ipykernel_11084\\3344815205.py:1: SettingWithCopyWarning: \n",
      "A value is trying to be set on a copy of a slice from a DataFrame\n",
      "\n",
      "See the caveats in the documentation: https://pandas.pydata.org/pandas-docs/stable/user_guide/indexing.html#returning-a-view-versus-a-copy\n",
      "  df[\"seats\"].loc[df[\"full_name\"]==\"Maruti Omni E 8 Str STD\"]=\"Seats8\"\n"
     ]
    }
   ],
   "source": [
    "df[\"seats\"].loc[df[\"full_name\"]==\"Maruti Omni E 8 Str STD\"]=\"Seats8\""
   ]
  },
  {
   "cell_type": "code",
   "execution_count": 78,
   "id": "aa00f910",
   "metadata": {},
   "outputs": [
    {
     "data": {
      "text/plain": [
       "59"
      ]
     },
     "execution_count": 78,
     "metadata": {},
     "output_type": "execute_result"
    }
   ],
   "source": [
    "df[\"seats\"].isna().sum()"
   ]
  },
  {
   "cell_type": "code",
   "execution_count": 79,
   "id": "7ca3b839",
   "metadata": {},
   "outputs": [],
   "source": [
    "list2=list(df.loc[df[\"seats\"].isna()].groupby(\"full_name\").groups.keys())"
   ]
  },
  {
   "cell_type": "code",
   "execution_count": 80,
   "id": "f8c9a322",
   "metadata": {},
   "outputs": [
    {
     "name": "stdout",
     "output_type": "stream",
     "text": [
      "Ford Endeavour Hurricane LE \n",
      " 9937    NaN\n",
      "Name: seats, dtype: object\n",
      "Ford Figo Aspire Facelift \n",
      " 304      NaN\n",
      "2759     NaN\n",
      "3554     NaN\n",
      "10737    NaN\n",
      "11415    NaN\n",
      "15982    NaN\n",
      "16957    NaN\n",
      "Name: seats, dtype: object\n",
      "Ford Figo Diesel \n",
      " 17081    NaN\n",
      "Name: seats, dtype: object\n",
      "Honda Jazz Select Edition \n",
      " 1201    NaN\n",
      "9507    NaN\n",
      "Name: seats, dtype: object\n",
      "Maruti Estilo LXI \n",
      " 960      NaN\n",
      "3115     NaN\n",
      "4090     NaN\n",
      "9870     NaN\n",
      "11179    NaN\n",
      "11254    NaN\n",
      "11463    NaN\n",
      "11572    NaN\n",
      "11900    NaN\n",
      "12918    NaN\n",
      "15254    NaN\n",
      "18593    NaN\n",
      "18837    NaN\n",
      "Name: seats, dtype: object\n",
      "Maruti Swift 1.3 LXI \n",
      " 2803     NaN\n",
      "4440     NaN\n",
      "9456     NaN\n",
      "13065    NaN\n",
      "13504    NaN\n",
      "14072    NaN\n",
      "17564    NaN\n",
      "Name: seats, dtype: object\n",
      "Maruti Swift 1.3 VXI ABS \n",
      " 4575    NaN\n",
      "6377    NaN\n",
      "9544    NaN\n",
      "Name: seats, dtype: object\n",
      "Maruti Swift 1.3 VXi \n",
      " 1060     NaN\n",
      "2489     NaN\n",
      "3406     NaN\n",
      "4483     NaN\n",
      "4747     NaN\n",
      "5257     NaN\n",
      "6233     NaN\n",
      "6356     NaN\n",
      "7333     NaN\n",
      "7383     NaN\n",
      "8103     NaN\n",
      "8625     NaN\n",
      "9626     NaN\n",
      "9711     NaN\n",
      "13917    NaN\n",
      "14086    NaN\n",
      "15198    NaN\n",
      "15731    NaN\n",
      "17445    NaN\n",
      "18458    NaN\n",
      "19947    NaN\n",
      "Name: seats, dtype: object\n",
      "Maruti Swift 1.3 ZXI \n",
      " 3442     NaN\n",
      "12539    NaN\n",
      "Name: seats, dtype: object\n",
      "Nissan Infiniti Petrol \n",
      " 19310    NaN\n",
      "Name: seats, dtype: object\n",
      "Nissan Kicks Diesel \n",
      " 16338    NaN\n",
      "Name: seats, dtype: object\n"
     ]
    }
   ],
   "source": [
    "for seat in list2:\n",
    "    print(seat,\"\\n\",df[\"seats\"].loc[df[\"full_name\"]==seat])"
   ]
  },
  {
   "cell_type": "code",
   "execution_count": 81,
   "id": "b4215665",
   "metadata": {},
   "outputs": [
    {
     "data": {
      "text/plain": [
       "['Ford Endeavour Hurricane LE',\n",
       " 'Ford Figo Aspire Facelift',\n",
       " 'Ford Figo Diesel',\n",
       " 'Honda Jazz Select Edition',\n",
       " 'Maruti Estilo LXI',\n",
       " 'Maruti Swift 1.3 LXI',\n",
       " 'Maruti Swift 1.3 VXI ABS',\n",
       " 'Maruti Swift 1.3 VXi',\n",
       " 'Maruti Swift 1.3 ZXI',\n",
       " 'Nissan Infiniti Petrol',\n",
       " 'Nissan Kicks Diesel']"
      ]
     },
     "execution_count": 81,
     "metadata": {},
     "output_type": "execute_result"
    }
   ],
   "source": [
    "list2"
   ]
  },
  {
   "cell_type": "raw",
   "id": "0021cccf",
   "metadata": {},
   "source": [
    "'Ford Endeavour Hurricane LE',--7\n",
    " 'Ford Figo Aspire Facelift',-5\n",
    " 'Ford Figo Diesel',-5\n",
    " 'Honda Jazz Select Edition',-5\n",
    " 'Maruti Estilo LXI',-5\n",
    " 'Maruti Swift 1.3 LXI',-5\n",
    " 'Maruti Swift 1.3 VXI ABS',-5\n",
    " 'Maruti Swift 1.3 VXi',-5\n",
    " 'Maruti Swift 1.3 ZXI',-5\n",
    " 'Nissan Infiniti Petrol',7\n",
    " 'Nissan Kicks Diesel'-5"
   ]
  },
  {
   "cell_type": "code",
   "execution_count": 82,
   "id": "6d03612e",
   "metadata": {},
   "outputs": [
    {
     "name": "stderr",
     "output_type": "stream",
     "text": [
      "C:\\Users\\kannu\\AppData\\Local\\Temp\\ipykernel_11084\\1868728200.py:12: SettingWithCopyWarning: \n",
      "A value is trying to be set on a copy of a slice from a DataFrame\n",
      "\n",
      "See the caveats in the documentation: https://pandas.pydata.org/pandas-docs/stable/user_guide/indexing.html#returning-a-view-versus-a-copy\n",
      "  df[\"seats\"].loc[df[\"full_name\"].isin(l2)]=\"Seats5\"\n"
     ]
    }
   ],
   "source": [
    "l2=[\n",
    " 'Ford Figo Aspire Facelift',\n",
    " 'Ford Figo Diesel',\n",
    " 'Honda Jazz Select Edition',\n",
    " 'Maruti Estilo LXI',\n",
    " 'Maruti Swift 1.3 LXI',\n",
    " 'Maruti Swift 1.3 VXI ABS',\n",
    " 'Maruti Swift 1.3 VXi',\n",
    " 'Maruti Swift 1.3 ZXI',\n",
    " 'Nissan Kicks Diesel']\n",
    "\n",
    "df[\"seats\"].loc[df[\"full_name\"].isin(l2)]=\"Seats5\""
   ]
  },
  {
   "cell_type": "code",
   "execution_count": 83,
   "id": "bdf84380",
   "metadata": {},
   "outputs": [
    {
     "name": "stderr",
     "output_type": "stream",
     "text": [
      "C:\\Users\\kannu\\AppData\\Local\\Temp\\ipykernel_11084\\3708434814.py:1: SettingWithCopyWarning: \n",
      "A value is trying to be set on a copy of a slice from a DataFrame\n",
      "\n",
      "See the caveats in the documentation: https://pandas.pydata.org/pandas-docs/stable/user_guide/indexing.html#returning-a-view-versus-a-copy\n",
      "  df[\"seats\"].loc[df[\"full_name\"]=='Ford Endeavour Hurricane LE']=\"Seats7\"\n",
      "C:\\Users\\kannu\\AppData\\Local\\Temp\\ipykernel_11084\\3708434814.py:2: SettingWithCopyWarning: \n",
      "A value is trying to be set on a copy of a slice from a DataFrame\n",
      "\n",
      "See the caveats in the documentation: https://pandas.pydata.org/pandas-docs/stable/user_guide/indexing.html#returning-a-view-versus-a-copy\n",
      "  df[\"seats\"].loc[df[\"full_name\"]=='Nissan Infiniti Petrol']=\"Seats7\"\n"
     ]
    }
   ],
   "source": [
    "df[\"seats\"].loc[df[\"full_name\"]=='Ford Endeavour Hurricane LE']=\"Seats7\"\n",
    "df[\"seats\"].loc[df[\"full_name\"]=='Nissan Infiniti Petrol']=\"Seats7\""
   ]
  },
  {
   "cell_type": "code",
   "execution_count": 84,
   "id": "fa4afe90",
   "metadata": {},
   "outputs": [
    {
     "data": {
      "text/plain": [
       "Seats5     16667\n",
       "Seats7      2372\n",
       "Seats8       446\n",
       "Seats4       225\n",
       "Seats6       143\n",
       "Seats9        72\n",
       "Seats10       26\n",
       "Seats2        21\n",
       "Seats14        2\n",
       "Name: seats, dtype: int64"
      ]
     },
     "execution_count": 84,
     "metadata": {},
     "output_type": "execute_result"
    }
   ],
   "source": [
    "df[\"seats\"].value_counts()"
   ]
  },
  {
   "cell_type": "code",
   "execution_count": 85,
   "id": "eaa70ffd",
   "metadata": {},
   "outputs": [
    {
     "data": {
      "text/plain": [
       "0"
      ]
     },
     "execution_count": 85,
     "metadata": {},
     "output_type": "execute_result"
    }
   ],
   "source": [
    "df[\"seats\"].isna().sum()"
   ]
  },
  {
   "cell_type": "code",
   "execution_count": 86,
   "id": "897f254c",
   "metadata": {},
   "outputs": [
    {
     "name": "stdout",
     "output_type": "stream",
     "text": [
      "<class 'pandas.core.frame.DataFrame'>\n",
      "RangeIndex: 19974 entries, 0 to 19973\n",
      "Data columns (total 18 columns):\n",
      " #   Column             Non-Null Count  Dtype  \n",
      "---  ------             --------------  -----  \n",
      " 0   full_name          19974 non-null  object \n",
      " 1   selling_price      19974 non-null  object \n",
      " 2   new_price          9564 non-null   object \n",
      " 3   year               19974 non-null  int64  \n",
      " 4   seller_type        19974 non-null  object \n",
      " 5   km_driven          19974 non-null  int64  \n",
      " 6   fuel_type          19974 non-null  object \n",
      " 7   transmission_type  19974 non-null  object \n",
      " 8   mileage            19814 non-null  object \n",
      " 9   engine             19864 non-null  object \n",
      " 10  max_power          19637 non-null  object \n",
      " 11  seats              19974 non-null  object \n",
      " 12  brand              19974 non-null  object \n",
      " 13  selling_price_new  19974 non-null  float64\n",
      " 14  new_price_new      9564 non-null   float64\n",
      " 15  age                19974 non-null  int64  \n",
      " 16  mileage_new        19974 non-null  float64\n",
      " 17  max_power_new      19974 non-null  float64\n",
      "dtypes: float64(4), int64(3), object(11)\n",
      "memory usage: 2.7+ MB\n"
     ]
    }
   ],
   "source": [
    "df.info()"
   ]
  },
  {
   "cell_type": "code",
   "execution_count": 87,
   "id": "7f4e785c",
   "metadata": {},
   "outputs": [
    {
     "data": {
      "text/plain": [
       "full_name                0\n",
       "selling_price            0\n",
       "new_price            10410\n",
       "year                     0\n",
       "seller_type              0\n",
       "km_driven                0\n",
       "fuel_type                0\n",
       "transmission_type        0\n",
       "mileage                160\n",
       "engine                 110\n",
       "max_power              337\n",
       "seats                    0\n",
       "brand                    0\n",
       "selling_price_new        0\n",
       "new_price_new        10410\n",
       "age                      0\n",
       "mileage_new              0\n",
       "max_power_new            0\n",
       "dtype: int64"
      ]
     },
     "execution_count": 87,
     "metadata": {},
     "output_type": "execute_result"
    }
   ],
   "source": [
    "df.isna().sum()"
   ]
  },
  {
   "cell_type": "code",
   "execution_count": 88,
   "id": "1557cc5e",
   "metadata": {},
   "outputs": [
    {
     "data": {
      "text/plain": [
       "Engine1197 CC    2662\n",
       "Engine1248 CC    2159\n",
       "Engine998 CC     1303\n",
       "Engine1498 CC    1253\n",
       "Engine1497 CC     718\n",
       "                 ... \n",
       "Engine5204 CC       1\n",
       "Engine970 CC        1\n",
       "Engine1489 CC       1\n",
       "Engine1330 CC       1\n",
       "Engine2596 CC       1\n",
       "Name: engine, Length: 169, dtype: int64"
      ]
     },
     "execution_count": 88,
     "metadata": {},
     "output_type": "execute_result"
    }
   ],
   "source": [
    "#engine\n",
    "df[\"engine\"].value_counts()"
   ]
  },
  {
   "cell_type": "code",
   "execution_count": 89,
   "id": "14adef6b",
   "metadata": {},
   "outputs": [],
   "source": [
    "list3=list(df.loc[df[\"engine\"].isna()].groupby(\"full_name\").groups.keys())"
   ]
  },
  {
   "cell_type": "code",
   "execution_count": 90,
   "id": "f165aabb",
   "metadata": {},
   "outputs": [
    {
     "data": {
      "text/plain": [
       "['Audi A4 2008-2014 3.0 TDI Quattro',\n",
       " 'BMW 5 Series 520d Sedan',\n",
       " 'BMW X1 sDrive 20D xLine',\n",
       " 'BMW X3 2.0d SAV',\n",
       " 'Fiat Punto 1.2 Dynamic',\n",
       " 'Fiat Punto 1.3 Active',\n",
       " 'Fiat Punto 1.3 Emotion',\n",
       " 'Fiat Punto 1.4 Emotion',\n",
       " 'Honda CR-V AT With Sun Roof',\n",
       " 'Honda City 1.3 DX',\n",
       " 'Honda City 1.5 EX-S',\n",
       " 'Honda City 1.5 GXI',\n",
       " 'Honda Jazz Select Edition',\n",
       " 'Hyundai Kona Premium',\n",
       " 'Hyundai Santro 2018 New',\n",
       " 'Hyundai Santro GLS II - Euro II',\n",
       " 'Hyundai Santro LS',\n",
       " 'Hyundai Santro Xing XG',\n",
       " 'Mahindra e2o Premium',\n",
       " 'Mahindra e2o T2',\n",
       " 'Mahindra e2oPlus P6',\n",
       " 'Maruti Omni BSIII 8-STR W/ IMMOBILISER',\n",
       " 'Maruti Omni E 8 Str STD',\n",
       " 'Maruti Omni LPG STD BSIII 5-STR W IMMOBILISER',\n",
       " 'Maruti Omni LPG STD BSIV',\n",
       " 'Maruti Swift 1.3 LXI',\n",
       " 'Maruti Swift 1.3 VXI ABS',\n",
       " 'Maruti Swift 1.3 VXi',\n",
       " 'Maruti Swift 1.3 ZXI',\n",
       " 'Mercedes-Benz C-Class 180 Classic',\n",
       " 'Mercedes-Benz E-Class 220 petrol',\n",
       " 'Nissan Infiniti Petrol',\n",
       " 'Skoda Laura 1.8 TSI Ambition',\n",
       " 'Tata Nexon EV XM',\n",
       " 'Tata Tigor EV XM',\n",
       " 'Toyota Etios GD SP',\n",
       " 'Toyota Etios Liva GD SP',\n",
       " 'Toyota Etios Liva V']"
      ]
     },
     "execution_count": 90,
     "metadata": {},
     "output_type": "execute_result"
    }
   ],
   "source": [
    "list3"
   ]
  },
  {
   "cell_type": "code",
   "execution_count": 91,
   "id": "8c7d3f27",
   "metadata": {},
   "outputs": [
    {
     "name": "stdout",
     "output_type": "stream",
     "text": [
      "Audi A4 2008-2014 3.0 TDI Quattro \n",
      " 875     NaN\n",
      "7083    NaN\n",
      "Name: engine, dtype: object\n",
      "BMW 5 Series 520d Sedan \n",
      " 716      NaN\n",
      "2456     NaN\n",
      "4228     NaN\n",
      "4397     NaN\n",
      "4683     NaN\n",
      "4762     NaN\n",
      "5248     NaN\n",
      "5267     NaN\n",
      "7801     NaN\n",
      "10719    NaN\n",
      "12209    NaN\n",
      "14820    NaN\n",
      "14947    NaN\n",
      "15123    NaN\n",
      "19030    NaN\n",
      "Name: engine, dtype: object\n",
      "BMW X1 sDrive 20D xLine \n",
      " 3845     NaN\n",
      "3865     NaN\n",
      "5255     NaN\n",
      "8990     NaN\n",
      "14751    NaN\n",
      "19213    NaN\n",
      "Name: engine, dtype: object\n",
      "BMW X3 2.0d SAV \n",
      " 1596    NaN\n",
      "4389    NaN\n",
      "Name: engine, dtype: object\n",
      "Fiat Punto 1.2 Dynamic \n",
      " 2445    NaN\n",
      "2566    NaN\n",
      "5926    NaN\n",
      "Name: engine, dtype: object\n",
      "Fiat Punto 1.3 Active \n",
      " 963      Engine1248 CC\n",
      "3129               NaN\n",
      "8495               NaN\n",
      "9212               NaN\n",
      "14468              NaN\n",
      "16673              NaN\n",
      "Name: engine, dtype: object\n",
      "Fiat Punto 1.3 Emotion \n",
      " 3216     NaN\n",
      "3369     NaN\n",
      "4454     NaN\n",
      "7895     NaN\n",
      "10852    NaN\n",
      "13261    NaN\n",
      "Name: engine, dtype: object\n",
      "Fiat Punto 1.4 Emotion \n",
      " 3784    NaN\n",
      "Name: engine, dtype: object\n",
      "Honda CR-V AT With Sun Roof \n",
      " 14566    NaN\n",
      "17818    NaN\n",
      "17916    NaN\n",
      "Name: engine, dtype: object\n",
      "Honda City 1.3 DX \n",
      " 11337    Engine1298 CC\n",
      "17665              NaN\n",
      "Name: engine, dtype: object\n",
      "Honda City 1.5 EX-S \n",
      " 14089    NaN\n",
      "Name: engine, dtype: object\n",
      "Honda City 1.5 GXI \n",
      " 4780     Engine1493 CC\n",
      "6808               NaN\n",
      "19527              NaN\n",
      "Name: engine, dtype: object\n",
      "Honda Jazz Select Edition \n",
      " 1201    NaN\n",
      "9507    NaN\n",
      "Name: engine, dtype: object\n",
      "Hyundai Kona Premium \n",
      " 19767    NaN\n",
      "Name: engine, dtype: object\n",
      "Hyundai Santro 2018 New \n",
      " 7532    NaN\n",
      "Name: engine, dtype: object\n",
      "Hyundai Santro GLS II - Euro II \n",
      " 6177     NaN\n",
      "13877    NaN\n",
      "Name: engine, dtype: object\n",
      "Hyundai Santro LS \n",
      " 6257    NaN\n",
      "Name: engine, dtype: object\n",
      "Hyundai Santro Xing XG \n",
      " 2619    NaN\n",
      "4382    NaN\n",
      "6089    NaN\n",
      "Name: engine, dtype: object\n",
      "Mahindra e2o Premium \n",
      " 18396    NaN\n",
      "Name: engine, dtype: object\n",
      "Mahindra e2o T2 \n",
      " 15679    NaN\n",
      "17777    NaN\n",
      "Name: engine, dtype: object\n",
      "Mahindra e2oPlus P6 \n",
      " 11964    NaN\n",
      "Name: engine, dtype: object\n",
      "Maruti Omni BSIII 8-STR W/ IMMOBILISER \n",
      " 18123    NaN\n",
      "Name: engine, dtype: object\n",
      "Maruti Omni E 8 Str STD \n",
      " 4621              NaN\n",
      "6047              NaN\n",
      "7454     Engine796 CC\n",
      "8154              NaN\n",
      "10280    Engine796 CC\n",
      "Name: engine, dtype: object\n",
      "Maruti Omni LPG STD BSIII 5-STR W IMMOBILISER \n",
      " 4407    NaN\n",
      "Name: engine, dtype: object\n",
      "Maruti Omni LPG STD BSIV \n",
      " 8150     NaN\n",
      "11200    NaN\n",
      "Name: engine, dtype: object\n",
      "Maruti Swift 1.3 LXI \n",
      " 2803     NaN\n",
      "4440     NaN\n",
      "9456     NaN\n",
      "13065    NaN\n",
      "13504    NaN\n",
      "14072    NaN\n",
      "17564    NaN\n",
      "Name: engine, dtype: object\n",
      "Maruti Swift 1.3 VXI ABS \n",
      " 4575    NaN\n",
      "6377    NaN\n",
      "9544    NaN\n",
      "Name: engine, dtype: object\n",
      "Maruti Swift 1.3 VXi \n",
      " 1060     NaN\n",
      "2489     NaN\n",
      "3406     NaN\n",
      "4483     NaN\n",
      "4747     NaN\n",
      "5257     NaN\n",
      "6233     NaN\n",
      "6356     NaN\n",
      "7333     NaN\n",
      "7383     NaN\n",
      "8103     NaN\n",
      "8625     NaN\n",
      "9626     NaN\n",
      "9711     NaN\n",
      "13917    NaN\n",
      "14086    NaN\n",
      "15198    NaN\n",
      "15731    NaN\n",
      "17445    NaN\n",
      "18458    NaN\n",
      "19947    NaN\n",
      "Name: engine, dtype: object\n",
      "Maruti Swift 1.3 ZXI \n",
      " 3442     NaN\n",
      "12539    NaN\n",
      "Name: engine, dtype: object\n",
      "Mercedes-Benz C-Class 180 Classic \n",
      " 5952    NaN\n",
      "Name: engine, dtype: object\n",
      "Mercedes-Benz E-Class 220 petrol \n",
      " 10029    NaN\n",
      "Name: engine, dtype: object\n",
      "Nissan Infiniti Petrol \n",
      " 19310    NaN\n",
      "Name: engine, dtype: object\n",
      "Skoda Laura 1.8 TSI Ambition \n",
      " 10244    NaN\n",
      "Name: engine, dtype: object\n",
      "Tata Nexon EV XM \n",
      " 19109    NaN\n",
      "Name: engine, dtype: object\n",
      "Tata Tigor EV XM \n",
      " 3644    NaN\n",
      "Name: engine, dtype: object\n",
      "Toyota Etios GD SP \n",
      " 6241     Engine1364 CC\n",
      "12545              NaN\n",
      "Name: engine, dtype: object\n",
      "Toyota Etios Liva GD SP \n",
      " 8769               NaN\n",
      "16834    Engine1364 CC\n",
      "Name: engine, dtype: object\n",
      "Toyota Etios Liva V \n",
      " 15984    Engine1197 CC\n",
      "18166    Engine1197 CC\n",
      "18474              NaN\n",
      "Name: engine, dtype: object\n"
     ]
    }
   ],
   "source": [
    "for eng in list3:\n",
    "    print(eng,\"\\n\",df[\"engine\"].loc[df[\"full_name\"]==eng])"
   ]
  },
  {
   "cell_type": "raw",
   "id": "c5e728b4",
   "metadata": {},
   "source": [
    "Fiat Punto 1.3 Active--1248\n",
    "Honda City 1.3 DX -Engine1298 CC\n",
    "Honda City 1.5 GXI-Engine1493 CC\n",
    "Maruti Omni E 8 Str STD-Engine796 CC\n",
    "Toyota Etios GD SP- Engine1364 CC\n",
    "Toyota Etios Liva V-Engine1197 CC\n",
    "\n",
    "\n"
   ]
  },
  {
   "cell_type": "code",
   "execution_count": 92,
   "id": "93e51a48",
   "metadata": {},
   "outputs": [
    {
     "name": "stderr",
     "output_type": "stream",
     "text": [
      "C:\\Users\\kannu\\AppData\\Local\\Temp\\ipykernel_11084\\3174063740.py:1: SettingWithCopyWarning: \n",
      "A value is trying to be set on a copy of a slice from a DataFrame\n",
      "\n",
      "See the caveats in the documentation: https://pandas.pydata.org/pandas-docs/stable/user_guide/indexing.html#returning-a-view-versus-a-copy\n",
      "  df[\"engine\"].loc[df[\"full_name\"]==\"Fiat Punto 1.3 Active\"]=1248\n",
      "C:\\Users\\kannu\\AppData\\Local\\Temp\\ipykernel_11084\\3174063740.py:2: SettingWithCopyWarning: \n",
      "A value is trying to be set on a copy of a slice from a DataFrame\n",
      "\n",
      "See the caveats in the documentation: https://pandas.pydata.org/pandas-docs/stable/user_guide/indexing.html#returning-a-view-versus-a-copy\n",
      "  df[\"engine\"].loc[df[\"full_name\"]==\"Honda City 1.3 DX\"]=1298\n",
      "C:\\Users\\kannu\\AppData\\Local\\Temp\\ipykernel_11084\\3174063740.py:3: SettingWithCopyWarning: \n",
      "A value is trying to be set on a copy of a slice from a DataFrame\n",
      "\n",
      "See the caveats in the documentation: https://pandas.pydata.org/pandas-docs/stable/user_guide/indexing.html#returning-a-view-versus-a-copy\n",
      "  df[\"engine\"].loc[df[\"full_name\"]==\"Honda City 1.5 GXI\"]=1493\n",
      "C:\\Users\\kannu\\AppData\\Local\\Temp\\ipykernel_11084\\3174063740.py:4: SettingWithCopyWarning: \n",
      "A value is trying to be set on a copy of a slice from a DataFrame\n",
      "\n",
      "See the caveats in the documentation: https://pandas.pydata.org/pandas-docs/stable/user_guide/indexing.html#returning-a-view-versus-a-copy\n",
      "  df[\"engine\"].loc[df[\"full_name\"]==\"Maruti Omni E 8 Str STD\"]=796\n",
      "C:\\Users\\kannu\\AppData\\Local\\Temp\\ipykernel_11084\\3174063740.py:5: SettingWithCopyWarning: \n",
      "A value is trying to be set on a copy of a slice from a DataFrame\n",
      "\n",
      "See the caveats in the documentation: https://pandas.pydata.org/pandas-docs/stable/user_guide/indexing.html#returning-a-view-versus-a-copy\n",
      "  df[\"engine\"].loc[df[\"full_name\"]==\"Toyota Etios GD SP\"]=1364\n",
      "C:\\Users\\kannu\\AppData\\Local\\Temp\\ipykernel_11084\\3174063740.py:6: SettingWithCopyWarning: \n",
      "A value is trying to be set on a copy of a slice from a DataFrame\n",
      "\n",
      "See the caveats in the documentation: https://pandas.pydata.org/pandas-docs/stable/user_guide/indexing.html#returning-a-view-versus-a-copy\n",
      "  df[\"engine\"].loc[df[\"full_name\"]==\"Toyota Etios Liva V\"]=1197\n"
     ]
    }
   ],
   "source": [
    "df[\"engine\"].loc[df[\"full_name\"]==\"Fiat Punto 1.3 Active\"]=1248\n",
    "df[\"engine\"].loc[df[\"full_name\"]==\"Honda City 1.3 DX\"]=1298\n",
    "df[\"engine\"].loc[df[\"full_name\"]==\"Honda City 1.5 GXI\"]=1493\n",
    "df[\"engine\"].loc[df[\"full_name\"]==\"Maruti Omni E 8 Str STD\"]=796\n",
    "df[\"engine\"].loc[df[\"full_name\"]==\"Toyota Etios GD SP\"]=1364\n",
    "df[\"engine\"].loc[df[\"full_name\"]==\"Toyota Etios Liva V\"]=1197\n",
    "\n"
   ]
  },
  {
   "cell_type": "code",
   "execution_count": 93,
   "id": "3e27d3a5",
   "metadata": {},
   "outputs": [
    {
     "data": {
      "text/plain": [
       "97"
      ]
     },
     "execution_count": 93,
     "metadata": {},
     "output_type": "execute_result"
    }
   ],
   "source": [
    "df[\"engine\"].isna().sum()"
   ]
  },
  {
   "cell_type": "code",
   "execution_count": 94,
   "id": "390c10d6",
   "metadata": {},
   "outputs": [
    {
     "data": {
      "text/plain": [
       "['Audi A4 2008-2014 3.0 TDI Quattro',\n",
       " 'BMW 5 Series 520d Sedan',\n",
       " 'BMW X1 sDrive 20D xLine',\n",
       " 'BMW X3 2.0d SAV',\n",
       " 'Fiat Punto 1.2 Dynamic',\n",
       " 'Fiat Punto 1.3 Emotion',\n",
       " 'Fiat Punto 1.4 Emotion',\n",
       " 'Honda CR-V AT With Sun Roof',\n",
       " 'Honda City 1.5 EX-S',\n",
       " 'Honda Jazz Select Edition',\n",
       " 'Hyundai Kona Premium',\n",
       " 'Hyundai Santro 2018 New',\n",
       " 'Hyundai Santro GLS II - Euro II',\n",
       " 'Hyundai Santro LS',\n",
       " 'Hyundai Santro Xing XG',\n",
       " 'Mahindra e2o Premium',\n",
       " 'Mahindra e2o T2',\n",
       " 'Mahindra e2oPlus P6',\n",
       " 'Maruti Omni BSIII 8-STR W/ IMMOBILISER',\n",
       " 'Maruti Omni LPG STD BSIII 5-STR W IMMOBILISER',\n",
       " 'Maruti Omni LPG STD BSIV',\n",
       " 'Maruti Swift 1.3 LXI',\n",
       " 'Maruti Swift 1.3 VXI ABS',\n",
       " 'Maruti Swift 1.3 VXi',\n",
       " 'Maruti Swift 1.3 ZXI',\n",
       " 'Mercedes-Benz C-Class 180 Classic',\n",
       " 'Mercedes-Benz E-Class 220 petrol',\n",
       " 'Nissan Infiniti Petrol',\n",
       " 'Skoda Laura 1.8 TSI Ambition',\n",
       " 'Tata Nexon EV XM',\n",
       " 'Tata Tigor EV XM',\n",
       " 'Toyota Etios Liva GD SP']"
      ]
     },
     "execution_count": 94,
     "metadata": {},
     "output_type": "execute_result"
    }
   ],
   "source": [
    "#checking remaining null in engine feature,needs to fill from net\n",
    "list4=list(df.loc[df[\"engine\"].isna()].groupby(\"full_name\").groups.keys())\n",
    "list4"
   ]
  },
  {
   "cell_type": "code",
   "execution_count": 95,
   "id": "6ab39993",
   "metadata": {},
   "outputs": [],
   "source": [
    "dict1={'Audi A4 2008-2014 3.0 TDI Quattro':2967,\n",
    " 'BMW 5 Series 520d Sedan':1995,\n",
    " 'BMW X1 sDrive 20D xLine':1995,\n",
    " 'BMW X3 2.0d SAV':2996,\n",
    " 'Fiat Punto 1.2 Dynamic':1172,\n",
    " 'Fiat Punto 1.3 Emotion':1248,\n",
    " 'Fiat Punto 1.4 Emotion':1368,\n",
    " 'Honda CR-V AT With Sun Roof':2354,\n",
    " 'Honda City 1.5 EX-S':1498,\n",
    " 'Honda Jazz Select Edition':1198,\n",
    " 'Hyundai Kona Premium':0,\n",
    " 'Hyundai Santro 2018 New':1086,\n",
    " 'Hyundai Santro GLS II - Euro II':1086,\n",
    " 'Hyundai Santro LS':1086,\n",
    " 'Hyundai Santro Xing XG':1086,\n",
    " 'Mahindra e2o Premium':0,\n",
    " 'Mahindra e2o T2':0,\n",
    " 'Mahindra e2oPlus P6':0,\n",
    " 'Maruti Omni BSIII 8-STR W/ IMMOBILISER':796,\n",
    " 'Maruti Omni LPG STD BSIII 5-STR W IMMOBILISER':796,\n",
    " 'Maruti Omni LPG STD BSIV':796,\n",
    " 'Maruti Swift 1.3 LXI':796,\n",
    " 'Maruti Swift 1.3 VXI ABS':1197,\n",
    " 'Maruti Swift 1.3 VXi':1197,\n",
    " 'Maruti Swift 1.3 ZXI':1298,\n",
    " 'Mercedes-Benz C-Class 180 Classic':1998,\n",
    " 'Mercedes-Benz E-Class 220 petrol':1991,\n",
    " 'Nissan Infiniti Petrol':1595,\n",
    " 'Skoda Laura 1.8 TSI Ambition':1798,\n",
    " 'Tata Nexon EV XM':624,\n",
    " 'Tata Tigor EV XM':1199,\n",
    " 'Toyota Etios Liva GD SP':1364}"
   ]
  },
  {
   "cell_type": "code",
   "execution_count": 96,
   "id": "d9995a6b",
   "metadata": {},
   "outputs": [
    {
     "name": "stderr",
     "output_type": "stream",
     "text": [
      "C:\\Users\\kannu\\AppData\\Local\\Temp\\ipykernel_11084\\1467800427.py:2: SettingWithCopyWarning: \n",
      "A value is trying to be set on a copy of a slice from a DataFrame\n",
      "\n",
      "See the caveats in the documentation: https://pandas.pydata.org/pandas-docs/stable/user_guide/indexing.html#returning-a-view-versus-a-copy\n",
      "  df[\"engine\"].loc[df[\"full_name\"]==key]=value\n"
     ]
    }
   ],
   "source": [
    "for key,value in dict1.items():\n",
    "    df[\"engine\"].loc[df[\"full_name\"]==key]=value"
   ]
  },
  {
   "cell_type": "code",
   "execution_count": 97,
   "id": "36d8135f",
   "metadata": {},
   "outputs": [
    {
     "data": {
      "text/plain": [
       "0         Engine796 CC\n",
       "1        Engine1197 CC\n",
       "2        Engine1197 CC\n",
       "3         Engine998 CC\n",
       "4        Engine1498 CC\n",
       "             ...      \n",
       "19969    Engine1364 CC\n",
       "19970    Engine1373 CC\n",
       "19971    Engine1498 CC\n",
       "19972    Engine2179 CC\n",
       "19973    Engine1497 CC\n",
       "Name: engine, Length: 19974, dtype: object"
      ]
     },
     "execution_count": 97,
     "metadata": {},
     "output_type": "execute_result"
    }
   ],
   "source": [
    "df[\"engine\"]"
   ]
  },
  {
   "cell_type": "code",
   "execution_count": 98,
   "id": "159785fc",
   "metadata": {},
   "outputs": [],
   "source": [
    "\n",
    "def fun_engine(f1):\n",
    "    if type(f1)==str:\n",
    "        pattern=r\"\\d+\"\n",
    "        result=eval(re.findall(pattern,f1)[0])\n",
    "    else:\n",
    "        result=f1\n",
    "    return result\n",
    "\n",
    "df[\"engine_new\"]=df[\"engine\"].apply(fun_engine)"
   ]
  },
  {
   "cell_type": "code",
   "execution_count": 99,
   "id": "ff00805b",
   "metadata": {},
   "outputs": [
    {
     "data": {
      "text/plain": [
       "0"
      ]
     },
     "execution_count": 99,
     "metadata": {},
     "output_type": "execute_result"
    }
   ],
   "source": [
    "df[\"engine_new\"].isna().sum()"
   ]
  },
  {
   "cell_type": "code",
   "execution_count": 100,
   "id": "725ed8da",
   "metadata": {},
   "outputs": [
    {
     "name": "stdout",
     "output_type": "stream",
     "text": [
      "<class 'pandas.core.frame.DataFrame'>\n",
      "RangeIndex: 19974 entries, 0 to 19973\n",
      "Data columns (total 19 columns):\n",
      " #   Column             Non-Null Count  Dtype  \n",
      "---  ------             --------------  -----  \n",
      " 0   full_name          19974 non-null  object \n",
      " 1   selling_price      19974 non-null  object \n",
      " 2   new_price          9564 non-null   object \n",
      " 3   year               19974 non-null  int64  \n",
      " 4   seller_type        19974 non-null  object \n",
      " 5   km_driven          19974 non-null  int64  \n",
      " 6   fuel_type          19974 non-null  object \n",
      " 7   transmission_type  19974 non-null  object \n",
      " 8   mileage            19814 non-null  object \n",
      " 9   engine             19974 non-null  object \n",
      " 10  max_power          19637 non-null  object \n",
      " 11  seats              19974 non-null  object \n",
      " 12  brand              19974 non-null  object \n",
      " 13  selling_price_new  19974 non-null  float64\n",
      " 14  new_price_new      9564 non-null   float64\n",
      " 15  age                19974 non-null  int64  \n",
      " 16  mileage_new        19974 non-null  float64\n",
      " 17  max_power_new      19974 non-null  float64\n",
      " 18  engine_new         19974 non-null  int64  \n",
      "dtypes: float64(4), int64(4), object(11)\n",
      "memory usage: 2.9+ MB\n"
     ]
    }
   ],
   "source": [
    "#feature selection\n",
    "df.info()\n",
    "del_col=[\"full_name\",\"selling_price\",\"year\",\"new_price\",\"engine\",\"max_power\",\"new_price_new\",\"mileage\"]\n",
    "new_df=df.drop(del_col,axis=1)"
   ]
  },
  {
   "cell_type": "code",
   "execution_count": 101,
   "id": "cc09104a",
   "metadata": {},
   "outputs": [
    {
     "name": "stdout",
     "output_type": "stream",
     "text": [
      "<class 'pandas.core.frame.DataFrame'>\n",
      "RangeIndex: 19974 entries, 0 to 19973\n",
      "Data columns (total 11 columns):\n",
      " #   Column             Non-Null Count  Dtype  \n",
      "---  ------             --------------  -----  \n",
      " 0   seller_type        19974 non-null  object \n",
      " 1   km_driven          19974 non-null  int64  \n",
      " 2   fuel_type          19974 non-null  object \n",
      " 3   transmission_type  19974 non-null  object \n",
      " 4   seats              19974 non-null  object \n",
      " 5   brand              19974 non-null  object \n",
      " 6   selling_price_new  19974 non-null  float64\n",
      " 7   age                19974 non-null  int64  \n",
      " 8   mileage_new        19974 non-null  float64\n",
      " 9   max_power_new      19974 non-null  float64\n",
      " 10  engine_new         19974 non-null  int64  \n",
      "dtypes: float64(3), int64(3), object(5)\n",
      "memory usage: 1.7+ MB\n"
     ]
    }
   ],
   "source": [
    "new_df.info()"
   ]
  },
  {
   "cell_type": "code",
   "execution_count": 102,
   "id": "973123c6",
   "metadata": {},
   "outputs": [
    {
     "name": "stdout",
     "output_type": "stream",
     "text": [
      "<class 'pandas.core.frame.DataFrame'>\n",
      "RangeIndex: 19974 entries, 0 to 19973\n",
      "Data columns (total 11 columns):\n",
      " #   Column             Non-Null Count  Dtype  \n",
      "---  ------             --------------  -----  \n",
      " 0   seller_type        19974 non-null  object \n",
      " 1   km_driven          19974 non-null  int64  \n",
      " 2   fuel_type          19974 non-null  object \n",
      " 3   transmission_type  19974 non-null  object \n",
      " 4   seats              19974 non-null  object \n",
      " 5   brand              19974 non-null  object \n",
      " 6   selling_price_new  19974 non-null  float64\n",
      " 7   age                19974 non-null  int64  \n",
      " 8   mileage_new        19974 non-null  float64\n",
      " 9   max_power_new      19974 non-null  float64\n",
      " 10  engine_new         19974 non-null  int64  \n",
      "dtypes: float64(3), int64(3), object(5)\n",
      "memory usage: 1.7+ MB\n"
     ]
    }
   ],
   "source": [
    "new_df.info()"
   ]
  },
  {
   "cell_type": "code",
   "execution_count": 103,
   "id": "4b757fff",
   "metadata": {},
   "outputs": [
    {
     "name": "stdout",
     "output_type": "stream",
     "text": [
      "\n"
     ]
    },
    {
     "data": {
      "text/plain": [
       "Seats5     16667\n",
       "Seats7      2372\n",
       "Seats8       446\n",
       "Seats4       225\n",
       "Seats6       143\n",
       "Seats9        72\n",
       "Seats10       26\n",
       "Seats2        21\n",
       "Seats14        2\n",
       "Name: seats, dtype: int64"
      ]
     },
     "execution_count": 103,
     "metadata": {},
     "output_type": "execute_result"
    }
   ],
   "source": [
    "df[\"seller_type\"]   #--nominal\n",
    "df[\"fuel_type\"].value_counts() #nominal\n",
    "df[\"transmission_type\"].value_counts()  #nominal\n",
    "df[\"seats\"].value_counts() #ordinal\n",
    "df[\"brand\"].value_counts()#nominal #pick values having freq more than 100\n",
    "\n",
    "\n",
    "print()\n",
    "df[\"seats\"].value_counts()"
   ]
  },
  {
   "cell_type": "code",
   "execution_count": 104,
   "id": "c620467b",
   "metadata": {},
   "outputs": [],
   "source": [
    "#brand having more than 100 freq\n",
    "s1=new_df[\"brand\"].value_counts()\n",
    "top_100_freq_brand=list(s1[s1>=100].index)\n"
   ]
  },
  {
   "cell_type": "code",
   "execution_count": 105,
   "id": "1268e867",
   "metadata": {},
   "outputs": [
    {
     "name": "stderr",
     "output_type": "stream",
     "text": [
      "C:\\Users\\kannu\\AppData\\Local\\Temp\\ipykernel_11084\\1545025105.py:1: SettingWithCopyWarning: \n",
      "A value is trying to be set on a copy of a slice from a DataFrame\n",
      "\n",
      "See the caveats in the documentation: https://pandas.pydata.org/pandas-docs/stable/user_guide/indexing.html#returning-a-view-versus-a-copy\n",
      "  new_df[\"brand\"].loc[new_df[\"brand\"].isin(top_100_freq_brand)==False]=\"Common\"\n"
     ]
    }
   ],
   "source": [
    "new_df[\"brand\"].loc[new_df[\"brand\"].isin(top_100_freq_brand)==False]=\"Common\""
   ]
  },
  {
   "cell_type": "code",
   "execution_count": 106,
   "id": "4b05badb",
   "metadata": {},
   "outputs": [
    {
     "data": {
      "text/plain": [
       "Maruti           5648\n",
       "Hyundai          3645\n",
       "Honda            1781\n",
       "Mahindra         1291\n",
       "Toyota           1205\n",
       "Tata              975\n",
       "Ford              908\n",
       "Volkswagen        762\n",
       "Renault           636\n",
       "Mercedes-Benz     501\n",
       "BMW               483\n",
       "Skoda             421\n",
       "Common            415\n",
       "Chevrolet         406\n",
       "Audi              324\n",
       "Nissan            289\n",
       "Datsun            170\n",
       "Fiat              114\n",
       "Name: brand, dtype: int64"
      ]
     },
     "execution_count": 106,
     "metadata": {},
     "output_type": "execute_result"
    }
   ],
   "source": [
    "new_df[\"brand\"].value_counts()"
   ]
  },
  {
   "cell_type": "code",
   "execution_count": 107,
   "id": "4b02c89e",
   "metadata": {},
   "outputs": [
    {
     "data": {
      "text/plain": [
       "Index(['seller_type', 'km_driven', 'fuel_type', 'transmission_type', 'seats',\n",
       "       'brand', 'selling_price_new', 'age', 'mileage_new', 'max_power_new',\n",
       "       'engine_new'],\n",
       "      dtype='object')"
      ]
     },
     "execution_count": 107,
     "metadata": {},
     "output_type": "execute_result"
    }
   ],
   "source": [
    "new_df.columns"
   ]
  },
  {
   "cell_type": "code",
   "execution_count": 108,
   "id": "36b2763d",
   "metadata": {},
   "outputs": [],
   "source": [
    "x=new_df.drop(\"selling_price_new\",axis=1)\n",
    "y=new_df[\"selling_price_new\"]"
   ]
  },
  {
   "cell_type": "code",
   "execution_count": 109,
   "id": "dc1515e7",
   "metadata": {},
   "outputs": [],
   "source": [
    "oe=OrdinalEncoder(categories=[[\"Seats2\",\"Seats4\",\"Seats5\",\"Seats6\",\"Seats7\",\"Seats8\",\"Seats9\",\"Seats10\",\"Seats14\"]],dtype=\"int\")\n",
    "ohe=OneHotEncoder(drop=\"first\",sparse=False,dtype=\"int\")"
   ]
  },
  {
   "cell_type": "code",
   "execution_count": 110,
   "id": "dfcadd92",
   "metadata": {},
   "outputs": [],
   "source": [
    "transformer=ColumnTransformer(transformers=[(\"ohe\",ohe,[\"seller_type\",\"fuel_type\",\"transmission_type\",\"brand\"]),(\"oe\",oe,[\"seats\"])],remainder=\"passthrough\")"
   ]
  },
  {
   "cell_type": "code",
   "execution_count": 111,
   "id": "05ad4690",
   "metadata": {},
   "outputs": [],
   "source": [
    "x_array=transformer.fit_transform(x)"
   ]
  },
  {
   "cell_type": "code",
   "execution_count": 112,
   "id": "07965403",
   "metadata": {},
   "outputs": [
    {
     "data": {
      "text/html": [
       "<div>\n",
       "<style scoped>\n",
       "    .dataframe tbody tr th:only-of-type {\n",
       "        vertical-align: middle;\n",
       "    }\n",
       "\n",
       "    .dataframe tbody tr th {\n",
       "        vertical-align: top;\n",
       "    }\n",
       "\n",
       "    .dataframe thead th {\n",
       "        text-align: right;\n",
       "    }\n",
       "</style>\n",
       "<table border=\"1\" class=\"dataframe\">\n",
       "  <thead>\n",
       "    <tr style=\"text-align: right;\">\n",
       "      <th></th>\n",
       "      <th>ohe__seller_type_Individual</th>\n",
       "      <th>ohe__seller_type_Trustmark Dealer</th>\n",
       "      <th>ohe__fuel_type_Diesel</th>\n",
       "      <th>ohe__fuel_type_Electric</th>\n",
       "      <th>ohe__fuel_type_LPG</th>\n",
       "      <th>ohe__fuel_type_Petrol</th>\n",
       "      <th>ohe__transmission_type_Manual</th>\n",
       "      <th>ohe__brand_BMW</th>\n",
       "      <th>ohe__brand_Chevrolet</th>\n",
       "      <th>ohe__brand_Common</th>\n",
       "      <th>...</th>\n",
       "      <th>ohe__brand_Skoda</th>\n",
       "      <th>ohe__brand_Tata</th>\n",
       "      <th>ohe__brand_Toyota</th>\n",
       "      <th>ohe__brand_Volkswagen</th>\n",
       "      <th>oe__seats</th>\n",
       "      <th>remainder__km_driven</th>\n",
       "      <th>remainder__age</th>\n",
       "      <th>remainder__mileage_new</th>\n",
       "      <th>remainder__max_power_new</th>\n",
       "      <th>remainder__engine_new</th>\n",
       "    </tr>\n",
       "  </thead>\n",
       "  <tbody>\n",
       "    <tr>\n",
       "      <th>0</th>\n",
       "      <td>1.0</td>\n",
       "      <td>0.0</td>\n",
       "      <td>0.0</td>\n",
       "      <td>0.0</td>\n",
       "      <td>0.0</td>\n",
       "      <td>1.0</td>\n",
       "      <td>1.0</td>\n",
       "      <td>0.0</td>\n",
       "      <td>0.0</td>\n",
       "      <td>0.0</td>\n",
       "      <td>...</td>\n",
       "      <td>0.0</td>\n",
       "      <td>0.0</td>\n",
       "      <td>0.0</td>\n",
       "      <td>0.0</td>\n",
       "      <td>2.0</td>\n",
       "      <td>120000.0</td>\n",
       "      <td>10.0</td>\n",
       "      <td>19.70</td>\n",
       "      <td>46.30</td>\n",
       "      <td>796.0</td>\n",
       "    </tr>\n",
       "    <tr>\n",
       "      <th>1</th>\n",
       "      <td>1.0</td>\n",
       "      <td>0.0</td>\n",
       "      <td>0.0</td>\n",
       "      <td>0.0</td>\n",
       "      <td>0.0</td>\n",
       "      <td>1.0</td>\n",
       "      <td>1.0</td>\n",
       "      <td>0.0</td>\n",
       "      <td>0.0</td>\n",
       "      <td>0.0</td>\n",
       "      <td>...</td>\n",
       "      <td>0.0</td>\n",
       "      <td>0.0</td>\n",
       "      <td>0.0</td>\n",
       "      <td>0.0</td>\n",
       "      <td>2.0</td>\n",
       "      <td>20000.0</td>\n",
       "      <td>6.0</td>\n",
       "      <td>18.90</td>\n",
       "      <td>82.00</td>\n",
       "      <td>1197.0</td>\n",
       "    </tr>\n",
       "    <tr>\n",
       "      <th>2</th>\n",
       "      <td>1.0</td>\n",
       "      <td>0.0</td>\n",
       "      <td>0.0</td>\n",
       "      <td>0.0</td>\n",
       "      <td>0.0</td>\n",
       "      <td>1.0</td>\n",
       "      <td>1.0</td>\n",
       "      <td>0.0</td>\n",
       "      <td>0.0</td>\n",
       "      <td>0.0</td>\n",
       "      <td>...</td>\n",
       "      <td>0.0</td>\n",
       "      <td>0.0</td>\n",
       "      <td>0.0</td>\n",
       "      <td>0.0</td>\n",
       "      <td>2.0</td>\n",
       "      <td>60000.0</td>\n",
       "      <td>12.0</td>\n",
       "      <td>17.00</td>\n",
       "      <td>80.00</td>\n",
       "      <td>1197.0</td>\n",
       "    </tr>\n",
       "    <tr>\n",
       "      <th>3</th>\n",
       "      <td>1.0</td>\n",
       "      <td>0.0</td>\n",
       "      <td>0.0</td>\n",
       "      <td>0.0</td>\n",
       "      <td>0.0</td>\n",
       "      <td>1.0</td>\n",
       "      <td>1.0</td>\n",
       "      <td>0.0</td>\n",
       "      <td>0.0</td>\n",
       "      <td>0.0</td>\n",
       "      <td>...</td>\n",
       "      <td>0.0</td>\n",
       "      <td>0.0</td>\n",
       "      <td>0.0</td>\n",
       "      <td>0.0</td>\n",
       "      <td>2.0</td>\n",
       "      <td>37000.0</td>\n",
       "      <td>10.0</td>\n",
       "      <td>20.92</td>\n",
       "      <td>67.10</td>\n",
       "      <td>998.0</td>\n",
       "    </tr>\n",
       "    <tr>\n",
       "      <th>4</th>\n",
       "      <td>0.0</td>\n",
       "      <td>0.0</td>\n",
       "      <td>1.0</td>\n",
       "      <td>0.0</td>\n",
       "      <td>0.0</td>\n",
       "      <td>0.0</td>\n",
       "      <td>1.0</td>\n",
       "      <td>0.0</td>\n",
       "      <td>0.0</td>\n",
       "      <td>0.0</td>\n",
       "      <td>...</td>\n",
       "      <td>0.0</td>\n",
       "      <td>0.0</td>\n",
       "      <td>0.0</td>\n",
       "      <td>0.0</td>\n",
       "      <td>2.0</td>\n",
       "      <td>30000.0</td>\n",
       "      <td>7.0</td>\n",
       "      <td>22.77</td>\n",
       "      <td>98.59</td>\n",
       "      <td>1498.0</td>\n",
       "    </tr>\n",
       "    <tr>\n",
       "      <th>...</th>\n",
       "      <td>...</td>\n",
       "      <td>...</td>\n",
       "      <td>...</td>\n",
       "      <td>...</td>\n",
       "      <td>...</td>\n",
       "      <td>...</td>\n",
       "      <td>...</td>\n",
       "      <td>...</td>\n",
       "      <td>...</td>\n",
       "      <td>...</td>\n",
       "      <td>...</td>\n",
       "      <td>...</td>\n",
       "      <td>...</td>\n",
       "      <td>...</td>\n",
       "      <td>...</td>\n",
       "      <td>...</td>\n",
       "      <td>...</td>\n",
       "      <td>...</td>\n",
       "      <td>...</td>\n",
       "      <td>...</td>\n",
       "      <td>...</td>\n",
       "    </tr>\n",
       "    <tr>\n",
       "      <th>19969</th>\n",
       "      <td>0.0</td>\n",
       "      <td>0.0</td>\n",
       "      <td>1.0</td>\n",
       "      <td>0.0</td>\n",
       "      <td>0.0</td>\n",
       "      <td>0.0</td>\n",
       "      <td>1.0</td>\n",
       "      <td>0.0</td>\n",
       "      <td>0.0</td>\n",
       "      <td>0.0</td>\n",
       "      <td>...</td>\n",
       "      <td>0.0</td>\n",
       "      <td>0.0</td>\n",
       "      <td>1.0</td>\n",
       "      <td>0.0</td>\n",
       "      <td>2.0</td>\n",
       "      <td>69480.0</td>\n",
       "      <td>5.0</td>\n",
       "      <td>23.59</td>\n",
       "      <td>67.05</td>\n",
       "      <td>1364.0</td>\n",
       "    </tr>\n",
       "    <tr>\n",
       "      <th>19970</th>\n",
       "      <td>0.0</td>\n",
       "      <td>0.0</td>\n",
       "      <td>0.0</td>\n",
       "      <td>0.0</td>\n",
       "      <td>0.0</td>\n",
       "      <td>1.0</td>\n",
       "      <td>1.0</td>\n",
       "      <td>0.0</td>\n",
       "      <td>0.0</td>\n",
       "      <td>0.0</td>\n",
       "      <td>...</td>\n",
       "      <td>0.0</td>\n",
       "      <td>0.0</td>\n",
       "      <td>0.0</td>\n",
       "      <td>0.0</td>\n",
       "      <td>4.0</td>\n",
       "      <td>18000.0</td>\n",
       "      <td>3.0</td>\n",
       "      <td>17.50</td>\n",
       "      <td>91.10</td>\n",
       "      <td>1373.0</td>\n",
       "    </tr>\n",
       "    <tr>\n",
       "      <th>19971</th>\n",
       "      <td>0.0</td>\n",
       "      <td>0.0</td>\n",
       "      <td>1.0</td>\n",
       "      <td>0.0</td>\n",
       "      <td>0.0</td>\n",
       "      <td>0.0</td>\n",
       "      <td>1.0</td>\n",
       "      <td>0.0</td>\n",
       "      <td>0.0</td>\n",
       "      <td>0.0</td>\n",
       "      <td>...</td>\n",
       "      <td>1.0</td>\n",
       "      <td>0.0</td>\n",
       "      <td>0.0</td>\n",
       "      <td>0.0</td>\n",
       "      <td>2.0</td>\n",
       "      <td>67000.0</td>\n",
       "      <td>7.0</td>\n",
       "      <td>21.14</td>\n",
       "      <td>103.52</td>\n",
       "      <td>1498.0</td>\n",
       "    </tr>\n",
       "    <tr>\n",
       "      <th>19972</th>\n",
       "      <td>0.0</td>\n",
       "      <td>0.0</td>\n",
       "      <td>1.0</td>\n",
       "      <td>0.0</td>\n",
       "      <td>0.0</td>\n",
       "      <td>0.0</td>\n",
       "      <td>1.0</td>\n",
       "      <td>0.0</td>\n",
       "      <td>0.0</td>\n",
       "      <td>0.0</td>\n",
       "      <td>...</td>\n",
       "      <td>0.0</td>\n",
       "      <td>0.0</td>\n",
       "      <td>0.0</td>\n",
       "      <td>0.0</td>\n",
       "      <td>4.0</td>\n",
       "      <td>3800000.0</td>\n",
       "      <td>6.0</td>\n",
       "      <td>16.00</td>\n",
       "      <td>140.00</td>\n",
       "      <td>2179.0</td>\n",
       "    </tr>\n",
       "    <tr>\n",
       "      <th>19973</th>\n",
       "      <td>0.0</td>\n",
       "      <td>0.0</td>\n",
       "      <td>0.0</td>\n",
       "      <td>0.0</td>\n",
       "      <td>0.0</td>\n",
       "      <td>1.0</td>\n",
       "      <td>0.0</td>\n",
       "      <td>0.0</td>\n",
       "      <td>0.0</td>\n",
       "      <td>0.0</td>\n",
       "      <td>...</td>\n",
       "      <td>0.0</td>\n",
       "      <td>0.0</td>\n",
       "      <td>0.0</td>\n",
       "      <td>0.0</td>\n",
       "      <td>2.0</td>\n",
       "      <td>13000.0</td>\n",
       "      <td>3.0</td>\n",
       "      <td>18.00</td>\n",
       "      <td>117.60</td>\n",
       "      <td>1497.0</td>\n",
       "    </tr>\n",
       "  </tbody>\n",
       "</table>\n",
       "<p>19974 rows × 30 columns</p>\n",
       "</div>"
      ],
      "text/plain": [
       "       ohe__seller_type_Individual  ohe__seller_type_Trustmark Dealer  \\\n",
       "0                              1.0                                0.0   \n",
       "1                              1.0                                0.0   \n",
       "2                              1.0                                0.0   \n",
       "3                              1.0                                0.0   \n",
       "4                              0.0                                0.0   \n",
       "...                            ...                                ...   \n",
       "19969                          0.0                                0.0   \n",
       "19970                          0.0                                0.0   \n",
       "19971                          0.0                                0.0   \n",
       "19972                          0.0                                0.0   \n",
       "19973                          0.0                                0.0   \n",
       "\n",
       "       ohe__fuel_type_Diesel  ohe__fuel_type_Electric  ohe__fuel_type_LPG  \\\n",
       "0                        0.0                      0.0                 0.0   \n",
       "1                        0.0                      0.0                 0.0   \n",
       "2                        0.0                      0.0                 0.0   \n",
       "3                        0.0                      0.0                 0.0   \n",
       "4                        1.0                      0.0                 0.0   \n",
       "...                      ...                      ...                 ...   \n",
       "19969                    1.0                      0.0                 0.0   \n",
       "19970                    0.0                      0.0                 0.0   \n",
       "19971                    1.0                      0.0                 0.0   \n",
       "19972                    1.0                      0.0                 0.0   \n",
       "19973                    0.0                      0.0                 0.0   \n",
       "\n",
       "       ohe__fuel_type_Petrol  ohe__transmission_type_Manual  ohe__brand_BMW  \\\n",
       "0                        1.0                            1.0             0.0   \n",
       "1                        1.0                            1.0             0.0   \n",
       "2                        1.0                            1.0             0.0   \n",
       "3                        1.0                            1.0             0.0   \n",
       "4                        0.0                            1.0             0.0   \n",
       "...                      ...                            ...             ...   \n",
       "19969                    0.0                            1.0             0.0   \n",
       "19970                    1.0                            1.0             0.0   \n",
       "19971                    0.0                            1.0             0.0   \n",
       "19972                    0.0                            1.0             0.0   \n",
       "19973                    1.0                            0.0             0.0   \n",
       "\n",
       "       ohe__brand_Chevrolet  ohe__brand_Common  ...  ohe__brand_Skoda  \\\n",
       "0                       0.0                0.0  ...               0.0   \n",
       "1                       0.0                0.0  ...               0.0   \n",
       "2                       0.0                0.0  ...               0.0   \n",
       "3                       0.0                0.0  ...               0.0   \n",
       "4                       0.0                0.0  ...               0.0   \n",
       "...                     ...                ...  ...               ...   \n",
       "19969                   0.0                0.0  ...               0.0   \n",
       "19970                   0.0                0.0  ...               0.0   \n",
       "19971                   0.0                0.0  ...               1.0   \n",
       "19972                   0.0                0.0  ...               0.0   \n",
       "19973                   0.0                0.0  ...               0.0   \n",
       "\n",
       "       ohe__brand_Tata  ohe__brand_Toyota  ohe__brand_Volkswagen  oe__seats  \\\n",
       "0                  0.0                0.0                    0.0        2.0   \n",
       "1                  0.0                0.0                    0.0        2.0   \n",
       "2                  0.0                0.0                    0.0        2.0   \n",
       "3                  0.0                0.0                    0.0        2.0   \n",
       "4                  0.0                0.0                    0.0        2.0   \n",
       "...                ...                ...                    ...        ...   \n",
       "19969              0.0                1.0                    0.0        2.0   \n",
       "19970              0.0                0.0                    0.0        4.0   \n",
       "19971              0.0                0.0                    0.0        2.0   \n",
       "19972              0.0                0.0                    0.0        4.0   \n",
       "19973              0.0                0.0                    0.0        2.0   \n",
       "\n",
       "       remainder__km_driven  remainder__age  remainder__mileage_new  \\\n",
       "0                  120000.0            10.0                   19.70   \n",
       "1                   20000.0             6.0                   18.90   \n",
       "2                   60000.0            12.0                   17.00   \n",
       "3                   37000.0            10.0                   20.92   \n",
       "4                   30000.0             7.0                   22.77   \n",
       "...                     ...             ...                     ...   \n",
       "19969               69480.0             5.0                   23.59   \n",
       "19970               18000.0             3.0                   17.50   \n",
       "19971               67000.0             7.0                   21.14   \n",
       "19972             3800000.0             6.0                   16.00   \n",
       "19973               13000.0             3.0                   18.00   \n",
       "\n",
       "       remainder__max_power_new  remainder__engine_new  \n",
       "0                         46.30                  796.0  \n",
       "1                         82.00                 1197.0  \n",
       "2                         80.00                 1197.0  \n",
       "3                         67.10                  998.0  \n",
       "4                         98.59                 1498.0  \n",
       "...                         ...                    ...  \n",
       "19969                     67.05                 1364.0  \n",
       "19970                     91.10                 1373.0  \n",
       "19971                    103.52                 1498.0  \n",
       "19972                    140.00                 2179.0  \n",
       "19973                    117.60                 1497.0  \n",
       "\n",
       "[19974 rows x 30 columns]"
      ]
     },
     "execution_count": 112,
     "metadata": {},
     "output_type": "execute_result"
    }
   ],
   "source": [
    "x_new=pd.DataFrame(x_array)\n",
    "x_new.columns=transformer.get_feature_names_out()\n",
    "x_new"
   ]
  },
  {
   "cell_type": "code",
   "execution_count": 113,
   "id": "04696950",
   "metadata": {},
   "outputs": [],
   "source": [
    "x_train,x_test,y_train,y_test=train_test_split(x_new,y,test_size=.2,random_state=5)"
   ]
  },
  {
   "cell_type": "code",
   "execution_count": 114,
   "id": "4e8e5b5c",
   "metadata": {},
   "outputs": [
    {
     "data": {
      "text/html": [
       "<style>#sk-container-id-1 {color: black;background-color: white;}#sk-container-id-1 pre{padding: 0;}#sk-container-id-1 div.sk-toggleable {background-color: white;}#sk-container-id-1 label.sk-toggleable__label {cursor: pointer;display: block;width: 100%;margin-bottom: 0;padding: 0.3em;box-sizing: border-box;text-align: center;}#sk-container-id-1 label.sk-toggleable__label-arrow:before {content: \"▸\";float: left;margin-right: 0.25em;color: #696969;}#sk-container-id-1 label.sk-toggleable__label-arrow:hover:before {color: black;}#sk-container-id-1 div.sk-estimator:hover label.sk-toggleable__label-arrow:before {color: black;}#sk-container-id-1 div.sk-toggleable__content {max-height: 0;max-width: 0;overflow: hidden;text-align: left;background-color: #f0f8ff;}#sk-container-id-1 div.sk-toggleable__content pre {margin: 0.2em;color: black;border-radius: 0.25em;background-color: #f0f8ff;}#sk-container-id-1 input.sk-toggleable__control:checked~div.sk-toggleable__content {max-height: 200px;max-width: 100%;overflow: auto;}#sk-container-id-1 input.sk-toggleable__control:checked~label.sk-toggleable__label-arrow:before {content: \"▾\";}#sk-container-id-1 div.sk-estimator input.sk-toggleable__control:checked~label.sk-toggleable__label {background-color: #d4ebff;}#sk-container-id-1 div.sk-label input.sk-toggleable__control:checked~label.sk-toggleable__label {background-color: #d4ebff;}#sk-container-id-1 input.sk-hidden--visually {border: 0;clip: rect(1px 1px 1px 1px);clip: rect(1px, 1px, 1px, 1px);height: 1px;margin: -1px;overflow: hidden;padding: 0;position: absolute;width: 1px;}#sk-container-id-1 div.sk-estimator {font-family: monospace;background-color: #f0f8ff;border: 1px dotted black;border-radius: 0.25em;box-sizing: border-box;margin-bottom: 0.5em;}#sk-container-id-1 div.sk-estimator:hover {background-color: #d4ebff;}#sk-container-id-1 div.sk-parallel-item::after {content: \"\";width: 100%;border-bottom: 1px solid gray;flex-grow: 1;}#sk-container-id-1 div.sk-label:hover label.sk-toggleable__label {background-color: #d4ebff;}#sk-container-id-1 div.sk-serial::before {content: \"\";position: absolute;border-left: 1px solid gray;box-sizing: border-box;top: 0;bottom: 0;left: 50%;z-index: 0;}#sk-container-id-1 div.sk-serial {display: flex;flex-direction: column;align-items: center;background-color: white;padding-right: 0.2em;padding-left: 0.2em;position: relative;}#sk-container-id-1 div.sk-item {position: relative;z-index: 1;}#sk-container-id-1 div.sk-parallel {display: flex;align-items: stretch;justify-content: center;background-color: white;position: relative;}#sk-container-id-1 div.sk-item::before, #sk-container-id-1 div.sk-parallel-item::before {content: \"\";position: absolute;border-left: 1px solid gray;box-sizing: border-box;top: 0;bottom: 0;left: 50%;z-index: -1;}#sk-container-id-1 div.sk-parallel-item {display: flex;flex-direction: column;z-index: 1;position: relative;background-color: white;}#sk-container-id-1 div.sk-parallel-item:first-child::after {align-self: flex-end;width: 50%;}#sk-container-id-1 div.sk-parallel-item:last-child::after {align-self: flex-start;width: 50%;}#sk-container-id-1 div.sk-parallel-item:only-child::after {width: 0;}#sk-container-id-1 div.sk-dashed-wrapped {border: 1px dashed gray;margin: 0 0.4em 0.5em 0.4em;box-sizing: border-box;padding-bottom: 0.4em;background-color: white;}#sk-container-id-1 div.sk-label label {font-family: monospace;font-weight: bold;display: inline-block;line-height: 1.2em;}#sk-container-id-1 div.sk-label-container {text-align: center;}#sk-container-id-1 div.sk-container {/* jupyter's `normalize.less` sets `[hidden] { display: none; }` but bootstrap.min.css set `[hidden] { display: none !important; }` so we also need the `!important` here to be able to override the default hidden behavior on the sphinx rendered scikit-learn.org. See: https://github.com/scikit-learn/scikit-learn/issues/21755 */display: inline-block !important;position: relative;}#sk-container-id-1 div.sk-text-repr-fallback {display: none;}</style><div id=\"sk-container-id-1\" class=\"sk-top-container\"><div class=\"sk-text-repr-fallback\"><pre>LinearRegression()</pre><b>In a Jupyter environment, please rerun this cell to show the HTML representation or trust the notebook. <br />On GitHub, the HTML representation is unable to render, please try loading this page with nbviewer.org.</b></div><div class=\"sk-container\" hidden><div class=\"sk-item\"><div class=\"sk-estimator sk-toggleable\"><input class=\"sk-toggleable__control sk-hidden--visually\" id=\"sk-estimator-id-1\" type=\"checkbox\" checked><label for=\"sk-estimator-id-1\" class=\"sk-toggleable__label sk-toggleable__label-arrow\">LinearRegression</label><div class=\"sk-toggleable__content\"><pre>LinearRegression()</pre></div></div></div></div></div>"
      ],
      "text/plain": [
       "LinearRegression()"
      ]
     },
     "execution_count": 114,
     "metadata": {},
     "output_type": "execute_result"
    }
   ],
   "source": [
    "###LinearRegression\n",
    "lin_reg=LinearRegression()\n",
    "lin_reg.fit(x_train,y_train)"
   ]
  },
  {
   "cell_type": "code",
   "execution_count": 115,
   "id": "6565a08f",
   "metadata": {},
   "outputs": [],
   "source": [
    "def metrics(model):\n",
    "    y_train_pred=model.predict(x_train)\n",
    "    y_test_pred=model.predict(x_test)\n",
    "    mse_train=mean_squared_error(y_train,y_train_pred)\n",
    "    mse_test=mean_squared_error(y_test,y_test_pred)\n",
    "    mae_train=mean_absolute_error(y_train,y_train_pred)\n",
    "    mae_test=mean_absolute_error(y_test,y_test_pred)\n",
    "    r2_score_train=r2_score(y_train,y_train_pred)\n",
    "    r2_score_test=r2_score(y_test,y_test_pred)\n",
    "    print(f\"{mse_train=}\")\n",
    "    print(f\"{mse_test=}\")\n",
    "    print(f\"{mae_train=}\")\n",
    "    print(f\"{mae_test=}\")\n",
    "    print(f\"{r2_score_train=}\")\n",
    "    print(f\"{r2_score_test=}\")\n",
    "    return \"Done\"\n",
    "         "
   ]
  },
  {
   "cell_type": "code",
   "execution_count": 116,
   "id": "ef74439f",
   "metadata": {},
   "outputs": [
    {
     "name": "stdout",
     "output_type": "stream",
     "text": [
      "mse_train=301191361063.6918\n",
      "mse_test=199891578346.13843\n",
      "mae_train=245166.7527295696\n",
      "mae_test=240060.8220372161\n",
      "r2_score_train=0.6512724403304682\n",
      "r2_score_test=0.7099597967644231\n"
     ]
    },
    {
     "data": {
      "text/plain": [
       "'Done'"
      ]
     },
     "execution_count": 116,
     "metadata": {},
     "output_type": "execute_result"
    }
   ],
   "source": [
    "metrics(lin_reg)"
   ]
  },
  {
   "cell_type": "code",
   "execution_count": 117,
   "id": "0534210b",
   "metadata": {},
   "outputs": [],
   "source": [
    "#low bias"
   ]
  },
  {
   "cell_type": "code",
   "execution_count": 118,
   "id": "258d6af6",
   "metadata": {},
   "outputs": [],
   "source": [
    "#not using knn because it will take time during prediction due to large dataset.{bcs it works during prediction only}"
   ]
  },
  {
   "cell_type": "code",
   "execution_count": 127,
   "id": "152ad089",
   "metadata": {},
   "outputs": [
    {
     "ename": "KeyboardInterrupt",
     "evalue": "",
     "output_type": "error",
     "traceback": [
      "\u001b[1;31m---------------------------------------------------------------------------\u001b[0m",
      "\u001b[1;31mKeyboardInterrupt\u001b[0m                         Traceback (most recent call last)",
      "Input \u001b[1;32mIn [127]\u001b[0m, in \u001b[0;36m<cell line: 10>\u001b[1;34m()\u001b[0m\n\u001b[0;32m      2\u001b[0m hyp\u001b[38;5;241m=\u001b[39m{   \u001b[38;5;124m\"\u001b[39m\u001b[38;5;124mcriterion\u001b[39m\u001b[38;5;124m\"\u001b[39m:[\u001b[38;5;124m'\u001b[39m\u001b[38;5;124msquared_error\u001b[39m\u001b[38;5;124m'\u001b[39m,\u001b[38;5;124m'\u001b[39m\u001b[38;5;124mabsolute_error\u001b[39m\u001b[38;5;124m'\u001b[39m],\n\u001b[0;32m      3\u001b[0m         \u001b[38;5;124m\"\u001b[39m\u001b[38;5;124mmax_depth\u001b[39m\u001b[38;5;124m\"\u001b[39m:np\u001b[38;5;241m.\u001b[39marange(\u001b[38;5;241m3\u001b[39m,\u001b[38;5;241m8\u001b[39m),\n\u001b[0;32m      4\u001b[0m         \u001b[38;5;124m\"\u001b[39m\u001b[38;5;124mmin_samples_split\u001b[39m\u001b[38;5;124m\"\u001b[39m:np\u001b[38;5;241m.\u001b[39marange(\u001b[38;5;241m4\u001b[39m,\u001b[38;5;241m8\u001b[39m),\n\u001b[0;32m      5\u001b[0m         \u001b[38;5;124m\"\u001b[39m\u001b[38;5;124mmin_samples_leaf\u001b[39m\u001b[38;5;124m\"\u001b[39m:np\u001b[38;5;241m.\u001b[39marange(\u001b[38;5;241m3\u001b[39m,\u001b[38;5;241m8\u001b[39m),\n\u001b[0;32m      6\u001b[0m          \u001b[38;5;124m\"\u001b[39m\u001b[38;5;124mrandom_state\u001b[39m\u001b[38;5;124m\"\u001b[39m:[\u001b[38;5;241m25\u001b[39m]\n\u001b[0;32m      7\u001b[0m     }\n\u001b[0;32m      9\u001b[0m rscv\u001b[38;5;241m=\u001b[39mRandomizedSearchCV(dt_reg,hyp,cv\u001b[38;5;241m=\u001b[39m\u001b[38;5;241m5\u001b[39m)\n\u001b[1;32m---> 10\u001b[0m \u001b[43mrscv\u001b[49m\u001b[38;5;241;43m.\u001b[39;49m\u001b[43mfit\u001b[49m\u001b[43m(\u001b[49m\u001b[43mx_train\u001b[49m\u001b[43m,\u001b[49m\u001b[43my_train\u001b[49m\u001b[43m)\u001b[49m\n",
      "File \u001b[1;32m~\\anaconda3\\envs\\car\\lib\\site-packages\\sklearn\\model_selection\\_search.py:875\u001b[0m, in \u001b[0;36mBaseSearchCV.fit\u001b[1;34m(self, X, y, groups, **fit_params)\u001b[0m\n\u001b[0;32m    869\u001b[0m     results \u001b[38;5;241m=\u001b[39m \u001b[38;5;28mself\u001b[39m\u001b[38;5;241m.\u001b[39m_format_results(\n\u001b[0;32m    870\u001b[0m         all_candidate_params, n_splits, all_out, all_more_results\n\u001b[0;32m    871\u001b[0m     )\n\u001b[0;32m    873\u001b[0m     \u001b[38;5;28;01mreturn\u001b[39;00m results\n\u001b[1;32m--> 875\u001b[0m \u001b[38;5;28;43mself\u001b[39;49m\u001b[38;5;241;43m.\u001b[39;49m\u001b[43m_run_search\u001b[49m\u001b[43m(\u001b[49m\u001b[43mevaluate_candidates\u001b[49m\u001b[43m)\u001b[49m\n\u001b[0;32m    877\u001b[0m \u001b[38;5;66;03m# multimetric is determined here because in the case of a callable\u001b[39;00m\n\u001b[0;32m    878\u001b[0m \u001b[38;5;66;03m# self.scoring the return type is only known after calling\u001b[39;00m\n\u001b[0;32m    879\u001b[0m first_test_score \u001b[38;5;241m=\u001b[39m all_out[\u001b[38;5;241m0\u001b[39m][\u001b[38;5;124m\"\u001b[39m\u001b[38;5;124mtest_scores\u001b[39m\u001b[38;5;124m\"\u001b[39m]\n",
      "File \u001b[1;32m~\\anaconda3\\envs\\car\\lib\\site-packages\\sklearn\\model_selection\\_search.py:1753\u001b[0m, in \u001b[0;36mRandomizedSearchCV._run_search\u001b[1;34m(self, evaluate_candidates)\u001b[0m\n\u001b[0;32m   1751\u001b[0m \u001b[38;5;28;01mdef\u001b[39;00m \u001b[38;5;21m_run_search\u001b[39m(\u001b[38;5;28mself\u001b[39m, evaluate_candidates):\n\u001b[0;32m   1752\u001b[0m     \u001b[38;5;124;03m\"\"\"Search n_iter candidates from param_distributions\"\"\"\u001b[39;00m\n\u001b[1;32m-> 1753\u001b[0m     \u001b[43mevaluate_candidates\u001b[49m\u001b[43m(\u001b[49m\n\u001b[0;32m   1754\u001b[0m \u001b[43m        \u001b[49m\u001b[43mParameterSampler\u001b[49m\u001b[43m(\u001b[49m\n\u001b[0;32m   1755\u001b[0m \u001b[43m            \u001b[49m\u001b[38;5;28;43mself\u001b[39;49m\u001b[38;5;241;43m.\u001b[39;49m\u001b[43mparam_distributions\u001b[49m\u001b[43m,\u001b[49m\u001b[43m \u001b[49m\u001b[38;5;28;43mself\u001b[39;49m\u001b[38;5;241;43m.\u001b[39;49m\u001b[43mn_iter\u001b[49m\u001b[43m,\u001b[49m\u001b[43m \u001b[49m\u001b[43mrandom_state\u001b[49m\u001b[38;5;241;43m=\u001b[39;49m\u001b[38;5;28;43mself\u001b[39;49m\u001b[38;5;241;43m.\u001b[39;49m\u001b[43mrandom_state\u001b[49m\n\u001b[0;32m   1756\u001b[0m \u001b[43m        \u001b[49m\u001b[43m)\u001b[49m\n\u001b[0;32m   1757\u001b[0m \u001b[43m    \u001b[49m\u001b[43m)\u001b[49m\n",
      "File \u001b[1;32m~\\anaconda3\\envs\\car\\lib\\site-packages\\sklearn\\model_selection\\_search.py:822\u001b[0m, in \u001b[0;36mBaseSearchCV.fit.<locals>.evaluate_candidates\u001b[1;34m(candidate_params, cv, more_results)\u001b[0m\n\u001b[0;32m    814\u001b[0m \u001b[38;5;28;01mif\u001b[39;00m \u001b[38;5;28mself\u001b[39m\u001b[38;5;241m.\u001b[39mverbose \u001b[38;5;241m>\u001b[39m \u001b[38;5;241m0\u001b[39m:\n\u001b[0;32m    815\u001b[0m     \u001b[38;5;28mprint\u001b[39m(\n\u001b[0;32m    816\u001b[0m         \u001b[38;5;124m\"\u001b[39m\u001b[38;5;124mFitting \u001b[39m\u001b[38;5;132;01m{0}\u001b[39;00m\u001b[38;5;124m folds for each of \u001b[39m\u001b[38;5;132;01m{1}\u001b[39;00m\u001b[38;5;124m candidates,\u001b[39m\u001b[38;5;124m\"\u001b[39m\n\u001b[0;32m    817\u001b[0m         \u001b[38;5;124m\"\u001b[39m\u001b[38;5;124m totalling \u001b[39m\u001b[38;5;132;01m{2}\u001b[39;00m\u001b[38;5;124m fits\u001b[39m\u001b[38;5;124m\"\u001b[39m\u001b[38;5;241m.\u001b[39mformat(\n\u001b[0;32m    818\u001b[0m             n_splits, n_candidates, n_candidates \u001b[38;5;241m*\u001b[39m n_splits\n\u001b[0;32m    819\u001b[0m         )\n\u001b[0;32m    820\u001b[0m     )\n\u001b[1;32m--> 822\u001b[0m out \u001b[38;5;241m=\u001b[39m \u001b[43mparallel\u001b[49m\u001b[43m(\u001b[49m\n\u001b[0;32m    823\u001b[0m \u001b[43m    \u001b[49m\u001b[43mdelayed\u001b[49m\u001b[43m(\u001b[49m\u001b[43m_fit_and_score\u001b[49m\u001b[43m)\u001b[49m\u001b[43m(\u001b[49m\n\u001b[0;32m    824\u001b[0m \u001b[43m        \u001b[49m\u001b[43mclone\u001b[49m\u001b[43m(\u001b[49m\u001b[43mbase_estimator\u001b[49m\u001b[43m)\u001b[49m\u001b[43m,\u001b[49m\n\u001b[0;32m    825\u001b[0m \u001b[43m        \u001b[49m\u001b[43mX\u001b[49m\u001b[43m,\u001b[49m\n\u001b[0;32m    826\u001b[0m \u001b[43m        \u001b[49m\u001b[43my\u001b[49m\u001b[43m,\u001b[49m\n\u001b[0;32m    827\u001b[0m \u001b[43m        \u001b[49m\u001b[43mtrain\u001b[49m\u001b[38;5;241;43m=\u001b[39;49m\u001b[43mtrain\u001b[49m\u001b[43m,\u001b[49m\n\u001b[0;32m    828\u001b[0m \u001b[43m        \u001b[49m\u001b[43mtest\u001b[49m\u001b[38;5;241;43m=\u001b[39;49m\u001b[43mtest\u001b[49m\u001b[43m,\u001b[49m\n\u001b[0;32m    829\u001b[0m \u001b[43m        \u001b[49m\u001b[43mparameters\u001b[49m\u001b[38;5;241;43m=\u001b[39;49m\u001b[43mparameters\u001b[49m\u001b[43m,\u001b[49m\n\u001b[0;32m    830\u001b[0m \u001b[43m        \u001b[49m\u001b[43msplit_progress\u001b[49m\u001b[38;5;241;43m=\u001b[39;49m\u001b[43m(\u001b[49m\u001b[43msplit_idx\u001b[49m\u001b[43m,\u001b[49m\u001b[43m \u001b[49m\u001b[43mn_splits\u001b[49m\u001b[43m)\u001b[49m\u001b[43m,\u001b[49m\n\u001b[0;32m    831\u001b[0m \u001b[43m        \u001b[49m\u001b[43mcandidate_progress\u001b[49m\u001b[38;5;241;43m=\u001b[39;49m\u001b[43m(\u001b[49m\u001b[43mcand_idx\u001b[49m\u001b[43m,\u001b[49m\u001b[43m \u001b[49m\u001b[43mn_candidates\u001b[49m\u001b[43m)\u001b[49m\u001b[43m,\u001b[49m\n\u001b[0;32m    832\u001b[0m \u001b[43m        \u001b[49m\u001b[38;5;241;43m*\u001b[39;49m\u001b[38;5;241;43m*\u001b[39;49m\u001b[43mfit_and_score_kwargs\u001b[49m\u001b[43m,\u001b[49m\n\u001b[0;32m    833\u001b[0m \u001b[43m    \u001b[49m\u001b[43m)\u001b[49m\n\u001b[0;32m    834\u001b[0m \u001b[43m    \u001b[49m\u001b[38;5;28;43;01mfor\u001b[39;49;00m\u001b[43m \u001b[49m\u001b[43m(\u001b[49m\u001b[43mcand_idx\u001b[49m\u001b[43m,\u001b[49m\u001b[43m \u001b[49m\u001b[43mparameters\u001b[49m\u001b[43m)\u001b[49m\u001b[43m,\u001b[49m\u001b[43m \u001b[49m\u001b[43m(\u001b[49m\u001b[43msplit_idx\u001b[49m\u001b[43m,\u001b[49m\u001b[43m \u001b[49m\u001b[43m(\u001b[49m\u001b[43mtrain\u001b[49m\u001b[43m,\u001b[49m\u001b[43m \u001b[49m\u001b[43mtest\u001b[49m\u001b[43m)\u001b[49m\u001b[43m)\u001b[49m\u001b[43m \u001b[49m\u001b[38;5;129;43;01min\u001b[39;49;00m\u001b[43m \u001b[49m\u001b[43mproduct\u001b[49m\u001b[43m(\u001b[49m\n\u001b[0;32m    835\u001b[0m \u001b[43m        \u001b[49m\u001b[38;5;28;43menumerate\u001b[39;49m\u001b[43m(\u001b[49m\u001b[43mcandidate_params\u001b[49m\u001b[43m)\u001b[49m\u001b[43m,\u001b[49m\u001b[43m \u001b[49m\u001b[38;5;28;43menumerate\u001b[39;49m\u001b[43m(\u001b[49m\u001b[43mcv\u001b[49m\u001b[38;5;241;43m.\u001b[39;49m\u001b[43msplit\u001b[49m\u001b[43m(\u001b[49m\u001b[43mX\u001b[49m\u001b[43m,\u001b[49m\u001b[43m \u001b[49m\u001b[43my\u001b[49m\u001b[43m,\u001b[49m\u001b[43m \u001b[49m\u001b[43mgroups\u001b[49m\u001b[43m)\u001b[49m\u001b[43m)\u001b[49m\n\u001b[0;32m    836\u001b[0m \u001b[43m    \u001b[49m\u001b[43m)\u001b[49m\n\u001b[0;32m    837\u001b[0m \u001b[43m\u001b[49m\u001b[43m)\u001b[49m\n\u001b[0;32m    839\u001b[0m \u001b[38;5;28;01mif\u001b[39;00m \u001b[38;5;28mlen\u001b[39m(out) \u001b[38;5;241m<\u001b[39m \u001b[38;5;241m1\u001b[39m:\n\u001b[0;32m    840\u001b[0m     \u001b[38;5;28;01mraise\u001b[39;00m \u001b[38;5;167;01mValueError\u001b[39;00m(\n\u001b[0;32m    841\u001b[0m         \u001b[38;5;124m\"\u001b[39m\u001b[38;5;124mNo fits were performed. \u001b[39m\u001b[38;5;124m\"\u001b[39m\n\u001b[0;32m    842\u001b[0m         \u001b[38;5;124m\"\u001b[39m\u001b[38;5;124mWas the CV iterator empty? \u001b[39m\u001b[38;5;124m\"\u001b[39m\n\u001b[0;32m    843\u001b[0m         \u001b[38;5;124m\"\u001b[39m\u001b[38;5;124mWere there no candidates?\u001b[39m\u001b[38;5;124m\"\u001b[39m\n\u001b[0;32m    844\u001b[0m     )\n",
      "File \u001b[1;32m~\\anaconda3\\envs\\car\\lib\\site-packages\\joblib\\parallel.py:1046\u001b[0m, in \u001b[0;36mParallel.__call__\u001b[1;34m(self, iterable)\u001b[0m\n\u001b[0;32m   1043\u001b[0m \u001b[38;5;28;01mif\u001b[39;00m \u001b[38;5;28mself\u001b[39m\u001b[38;5;241m.\u001b[39mdispatch_one_batch(iterator):\n\u001b[0;32m   1044\u001b[0m     \u001b[38;5;28mself\u001b[39m\u001b[38;5;241m.\u001b[39m_iterating \u001b[38;5;241m=\u001b[39m \u001b[38;5;28mself\u001b[39m\u001b[38;5;241m.\u001b[39m_original_iterator \u001b[38;5;129;01mis\u001b[39;00m \u001b[38;5;129;01mnot\u001b[39;00m \u001b[38;5;28;01mNone\u001b[39;00m\n\u001b[1;32m-> 1046\u001b[0m \u001b[38;5;28;01mwhile\u001b[39;00m \u001b[38;5;28;43mself\u001b[39;49m\u001b[38;5;241;43m.\u001b[39;49m\u001b[43mdispatch_one_batch\u001b[49m\u001b[43m(\u001b[49m\u001b[43miterator\u001b[49m\u001b[43m)\u001b[49m:\n\u001b[0;32m   1047\u001b[0m     \u001b[38;5;28;01mpass\u001b[39;00m\n\u001b[0;32m   1049\u001b[0m \u001b[38;5;28;01mif\u001b[39;00m pre_dispatch \u001b[38;5;241m==\u001b[39m \u001b[38;5;124m\"\u001b[39m\u001b[38;5;124mall\u001b[39m\u001b[38;5;124m\"\u001b[39m \u001b[38;5;129;01mor\u001b[39;00m n_jobs \u001b[38;5;241m==\u001b[39m \u001b[38;5;241m1\u001b[39m:\n\u001b[0;32m   1050\u001b[0m     \u001b[38;5;66;03m# The iterable was consumed all at once by the above for loop.\u001b[39;00m\n\u001b[0;32m   1051\u001b[0m     \u001b[38;5;66;03m# No need to wait for async callbacks to trigger to\u001b[39;00m\n\u001b[0;32m   1052\u001b[0m     \u001b[38;5;66;03m# consumption.\u001b[39;00m\n",
      "File \u001b[1;32m~\\anaconda3\\envs\\car\\lib\\site-packages\\joblib\\parallel.py:861\u001b[0m, in \u001b[0;36mParallel.dispatch_one_batch\u001b[1;34m(self, iterator)\u001b[0m\n\u001b[0;32m    859\u001b[0m     \u001b[38;5;28;01mreturn\u001b[39;00m \u001b[38;5;28;01mFalse\u001b[39;00m\n\u001b[0;32m    860\u001b[0m \u001b[38;5;28;01melse\u001b[39;00m:\n\u001b[1;32m--> 861\u001b[0m     \u001b[38;5;28;43mself\u001b[39;49m\u001b[38;5;241;43m.\u001b[39;49m\u001b[43m_dispatch\u001b[49m\u001b[43m(\u001b[49m\u001b[43mtasks\u001b[49m\u001b[43m)\u001b[49m\n\u001b[0;32m    862\u001b[0m     \u001b[38;5;28;01mreturn\u001b[39;00m \u001b[38;5;28;01mTrue\u001b[39;00m\n",
      "File \u001b[1;32m~\\anaconda3\\envs\\car\\lib\\site-packages\\joblib\\parallel.py:779\u001b[0m, in \u001b[0;36mParallel._dispatch\u001b[1;34m(self, batch)\u001b[0m\n\u001b[0;32m    777\u001b[0m \u001b[38;5;28;01mwith\u001b[39;00m \u001b[38;5;28mself\u001b[39m\u001b[38;5;241m.\u001b[39m_lock:\n\u001b[0;32m    778\u001b[0m     job_idx \u001b[38;5;241m=\u001b[39m \u001b[38;5;28mlen\u001b[39m(\u001b[38;5;28mself\u001b[39m\u001b[38;5;241m.\u001b[39m_jobs)\n\u001b[1;32m--> 779\u001b[0m     job \u001b[38;5;241m=\u001b[39m \u001b[38;5;28;43mself\u001b[39;49m\u001b[38;5;241;43m.\u001b[39;49m\u001b[43m_backend\u001b[49m\u001b[38;5;241;43m.\u001b[39;49m\u001b[43mapply_async\u001b[49m\u001b[43m(\u001b[49m\u001b[43mbatch\u001b[49m\u001b[43m,\u001b[49m\u001b[43m \u001b[49m\u001b[43mcallback\u001b[49m\u001b[38;5;241;43m=\u001b[39;49m\u001b[43mcb\u001b[49m\u001b[43m)\u001b[49m\n\u001b[0;32m    780\u001b[0m     \u001b[38;5;66;03m# A job can complete so quickly than its callback is\u001b[39;00m\n\u001b[0;32m    781\u001b[0m     \u001b[38;5;66;03m# called before we get here, causing self._jobs to\u001b[39;00m\n\u001b[0;32m    782\u001b[0m     \u001b[38;5;66;03m# grow. To ensure correct results ordering, .insert is\u001b[39;00m\n\u001b[0;32m    783\u001b[0m     \u001b[38;5;66;03m# used (rather than .append) in the following line\u001b[39;00m\n\u001b[0;32m    784\u001b[0m     \u001b[38;5;28mself\u001b[39m\u001b[38;5;241m.\u001b[39m_jobs\u001b[38;5;241m.\u001b[39minsert(job_idx, job)\n",
      "File \u001b[1;32m~\\anaconda3\\envs\\car\\lib\\site-packages\\joblib\\_parallel_backends.py:208\u001b[0m, in \u001b[0;36mSequentialBackend.apply_async\u001b[1;34m(self, func, callback)\u001b[0m\n\u001b[0;32m    206\u001b[0m \u001b[38;5;28;01mdef\u001b[39;00m \u001b[38;5;21mapply_async\u001b[39m(\u001b[38;5;28mself\u001b[39m, func, callback\u001b[38;5;241m=\u001b[39m\u001b[38;5;28;01mNone\u001b[39;00m):\n\u001b[0;32m    207\u001b[0m     \u001b[38;5;124;03m\"\"\"Schedule a func to be run\"\"\"\u001b[39;00m\n\u001b[1;32m--> 208\u001b[0m     result \u001b[38;5;241m=\u001b[39m \u001b[43mImmediateResult\u001b[49m\u001b[43m(\u001b[49m\u001b[43mfunc\u001b[49m\u001b[43m)\u001b[49m\n\u001b[0;32m    209\u001b[0m     \u001b[38;5;28;01mif\u001b[39;00m callback:\n\u001b[0;32m    210\u001b[0m         callback(result)\n",
      "File \u001b[1;32m~\\anaconda3\\envs\\car\\lib\\site-packages\\joblib\\_parallel_backends.py:572\u001b[0m, in \u001b[0;36mImmediateResult.__init__\u001b[1;34m(self, batch)\u001b[0m\n\u001b[0;32m    569\u001b[0m \u001b[38;5;28;01mdef\u001b[39;00m \u001b[38;5;21m__init__\u001b[39m(\u001b[38;5;28mself\u001b[39m, batch):\n\u001b[0;32m    570\u001b[0m     \u001b[38;5;66;03m# Don't delay the application, to avoid keeping the input\u001b[39;00m\n\u001b[0;32m    571\u001b[0m     \u001b[38;5;66;03m# arguments in memory\u001b[39;00m\n\u001b[1;32m--> 572\u001b[0m     \u001b[38;5;28mself\u001b[39m\u001b[38;5;241m.\u001b[39mresults \u001b[38;5;241m=\u001b[39m \u001b[43mbatch\u001b[49m\u001b[43m(\u001b[49m\u001b[43m)\u001b[49m\n",
      "File \u001b[1;32m~\\anaconda3\\envs\\car\\lib\\site-packages\\joblib\\parallel.py:262\u001b[0m, in \u001b[0;36mBatchedCalls.__call__\u001b[1;34m(self)\u001b[0m\n\u001b[0;32m    258\u001b[0m \u001b[38;5;28;01mdef\u001b[39;00m \u001b[38;5;21m__call__\u001b[39m(\u001b[38;5;28mself\u001b[39m):\n\u001b[0;32m    259\u001b[0m     \u001b[38;5;66;03m# Set the default nested backend to self._backend but do not set the\u001b[39;00m\n\u001b[0;32m    260\u001b[0m     \u001b[38;5;66;03m# change the default number of processes to -1\u001b[39;00m\n\u001b[0;32m    261\u001b[0m     \u001b[38;5;28;01mwith\u001b[39;00m parallel_backend(\u001b[38;5;28mself\u001b[39m\u001b[38;5;241m.\u001b[39m_backend, n_jobs\u001b[38;5;241m=\u001b[39m\u001b[38;5;28mself\u001b[39m\u001b[38;5;241m.\u001b[39m_n_jobs):\n\u001b[1;32m--> 262\u001b[0m         \u001b[38;5;28;01mreturn\u001b[39;00m [func(\u001b[38;5;241m*\u001b[39margs, \u001b[38;5;241m*\u001b[39m\u001b[38;5;241m*\u001b[39mkwargs)\n\u001b[0;32m    263\u001b[0m                 \u001b[38;5;28;01mfor\u001b[39;00m func, args, kwargs \u001b[38;5;129;01min\u001b[39;00m \u001b[38;5;28mself\u001b[39m\u001b[38;5;241m.\u001b[39mitems]\n",
      "File \u001b[1;32m~\\anaconda3\\envs\\car\\lib\\site-packages\\joblib\\parallel.py:262\u001b[0m, in \u001b[0;36m<listcomp>\u001b[1;34m(.0)\u001b[0m\n\u001b[0;32m    258\u001b[0m \u001b[38;5;28;01mdef\u001b[39;00m \u001b[38;5;21m__call__\u001b[39m(\u001b[38;5;28mself\u001b[39m):\n\u001b[0;32m    259\u001b[0m     \u001b[38;5;66;03m# Set the default nested backend to self._backend but do not set the\u001b[39;00m\n\u001b[0;32m    260\u001b[0m     \u001b[38;5;66;03m# change the default number of processes to -1\u001b[39;00m\n\u001b[0;32m    261\u001b[0m     \u001b[38;5;28;01mwith\u001b[39;00m parallel_backend(\u001b[38;5;28mself\u001b[39m\u001b[38;5;241m.\u001b[39m_backend, n_jobs\u001b[38;5;241m=\u001b[39m\u001b[38;5;28mself\u001b[39m\u001b[38;5;241m.\u001b[39m_n_jobs):\n\u001b[1;32m--> 262\u001b[0m         \u001b[38;5;28;01mreturn\u001b[39;00m [func(\u001b[38;5;241m*\u001b[39margs, \u001b[38;5;241m*\u001b[39m\u001b[38;5;241m*\u001b[39mkwargs)\n\u001b[0;32m    263\u001b[0m                 \u001b[38;5;28;01mfor\u001b[39;00m func, args, kwargs \u001b[38;5;129;01min\u001b[39;00m \u001b[38;5;28mself\u001b[39m\u001b[38;5;241m.\u001b[39mitems]\n",
      "File \u001b[1;32m~\\anaconda3\\envs\\car\\lib\\site-packages\\sklearn\\utils\\fixes.py:117\u001b[0m, in \u001b[0;36m_FuncWrapper.__call__\u001b[1;34m(self, *args, **kwargs)\u001b[0m\n\u001b[0;32m    115\u001b[0m \u001b[38;5;28;01mdef\u001b[39;00m \u001b[38;5;21m__call__\u001b[39m(\u001b[38;5;28mself\u001b[39m, \u001b[38;5;241m*\u001b[39margs, \u001b[38;5;241m*\u001b[39m\u001b[38;5;241m*\u001b[39mkwargs):\n\u001b[0;32m    116\u001b[0m     \u001b[38;5;28;01mwith\u001b[39;00m config_context(\u001b[38;5;241m*\u001b[39m\u001b[38;5;241m*\u001b[39m\u001b[38;5;28mself\u001b[39m\u001b[38;5;241m.\u001b[39mconfig):\n\u001b[1;32m--> 117\u001b[0m         \u001b[38;5;28;01mreturn\u001b[39;00m \u001b[38;5;28mself\u001b[39m\u001b[38;5;241m.\u001b[39mfunction(\u001b[38;5;241m*\u001b[39margs, \u001b[38;5;241m*\u001b[39m\u001b[38;5;241m*\u001b[39mkwargs)\n",
      "File \u001b[1;32m~\\anaconda3\\envs\\car\\lib\\site-packages\\sklearn\\model_selection\\_validation.py:686\u001b[0m, in \u001b[0;36m_fit_and_score\u001b[1;34m(estimator, X, y, scorer, train, test, verbose, parameters, fit_params, return_train_score, return_parameters, return_n_test_samples, return_times, return_estimator, split_progress, candidate_progress, error_score)\u001b[0m\n\u001b[0;32m    684\u001b[0m         estimator\u001b[38;5;241m.\u001b[39mfit(X_train, \u001b[38;5;241m*\u001b[39m\u001b[38;5;241m*\u001b[39mfit_params)\n\u001b[0;32m    685\u001b[0m     \u001b[38;5;28;01melse\u001b[39;00m:\n\u001b[1;32m--> 686\u001b[0m         estimator\u001b[38;5;241m.\u001b[39mfit(X_train, y_train, \u001b[38;5;241m*\u001b[39m\u001b[38;5;241m*\u001b[39mfit_params)\n\u001b[0;32m    688\u001b[0m \u001b[38;5;28;01mexcept\u001b[39;00m \u001b[38;5;167;01mException\u001b[39;00m:\n\u001b[0;32m    689\u001b[0m     \u001b[38;5;66;03m# Note fit time as time until error\u001b[39;00m\n\u001b[0;32m    690\u001b[0m     fit_time \u001b[38;5;241m=\u001b[39m time\u001b[38;5;241m.\u001b[39mtime() \u001b[38;5;241m-\u001b[39m start_time\n",
      "File \u001b[1;32m~\\anaconda3\\envs\\car\\lib\\site-packages\\sklearn\\tree\\_classes.py:1342\u001b[0m, in \u001b[0;36mDecisionTreeRegressor.fit\u001b[1;34m(self, X, y, sample_weight, check_input)\u001b[0m\n\u001b[0;32m   1313\u001b[0m \u001b[38;5;28;01mdef\u001b[39;00m \u001b[38;5;21mfit\u001b[39m(\u001b[38;5;28mself\u001b[39m, X, y, sample_weight\u001b[38;5;241m=\u001b[39m\u001b[38;5;28;01mNone\u001b[39;00m, check_input\u001b[38;5;241m=\u001b[39m\u001b[38;5;28;01mTrue\u001b[39;00m):\n\u001b[0;32m   1314\u001b[0m     \u001b[38;5;124;03m\"\"\"Build a decision tree regressor from the training set (X, y).\u001b[39;00m\n\u001b[0;32m   1315\u001b[0m \n\u001b[0;32m   1316\u001b[0m \u001b[38;5;124;03m    Parameters\u001b[39;00m\n\u001b[1;32m   (...)\u001b[0m\n\u001b[0;32m   1339\u001b[0m \u001b[38;5;124;03m        Fitted estimator.\u001b[39;00m\n\u001b[0;32m   1340\u001b[0m \u001b[38;5;124;03m    \"\"\"\u001b[39;00m\n\u001b[1;32m-> 1342\u001b[0m     \u001b[38;5;28;43msuper\u001b[39;49m\u001b[43m(\u001b[49m\u001b[43m)\u001b[49m\u001b[38;5;241;43m.\u001b[39;49m\u001b[43mfit\u001b[49m\u001b[43m(\u001b[49m\n\u001b[0;32m   1343\u001b[0m \u001b[43m        \u001b[49m\u001b[43mX\u001b[49m\u001b[43m,\u001b[49m\n\u001b[0;32m   1344\u001b[0m \u001b[43m        \u001b[49m\u001b[43my\u001b[49m\u001b[43m,\u001b[49m\n\u001b[0;32m   1345\u001b[0m \u001b[43m        \u001b[49m\u001b[43msample_weight\u001b[49m\u001b[38;5;241;43m=\u001b[39;49m\u001b[43msample_weight\u001b[49m\u001b[43m,\u001b[49m\n\u001b[0;32m   1346\u001b[0m \u001b[43m        \u001b[49m\u001b[43mcheck_input\u001b[49m\u001b[38;5;241;43m=\u001b[39;49m\u001b[43mcheck_input\u001b[49m\u001b[43m,\u001b[49m\n\u001b[0;32m   1347\u001b[0m \u001b[43m    \u001b[49m\u001b[43m)\u001b[49m\n\u001b[0;32m   1348\u001b[0m     \u001b[38;5;28;01mreturn\u001b[39;00m \u001b[38;5;28mself\u001b[39m\n",
      "File \u001b[1;32m~\\anaconda3\\envs\\car\\lib\\site-packages\\sklearn\\tree\\_classes.py:458\u001b[0m, in \u001b[0;36mBaseDecisionTree.fit\u001b[1;34m(self, X, y, sample_weight, check_input)\u001b[0m\n\u001b[0;32m    447\u001b[0m \u001b[38;5;28;01melse\u001b[39;00m:\n\u001b[0;32m    448\u001b[0m     builder \u001b[38;5;241m=\u001b[39m BestFirstTreeBuilder(\n\u001b[0;32m    449\u001b[0m         splitter,\n\u001b[0;32m    450\u001b[0m         min_samples_split,\n\u001b[1;32m   (...)\u001b[0m\n\u001b[0;32m    455\u001b[0m         \u001b[38;5;28mself\u001b[39m\u001b[38;5;241m.\u001b[39mmin_impurity_decrease,\n\u001b[0;32m    456\u001b[0m     )\n\u001b[1;32m--> 458\u001b[0m \u001b[43mbuilder\u001b[49m\u001b[38;5;241;43m.\u001b[39;49m\u001b[43mbuild\u001b[49m\u001b[43m(\u001b[49m\u001b[38;5;28;43mself\u001b[39;49m\u001b[38;5;241;43m.\u001b[39;49m\u001b[43mtree_\u001b[49m\u001b[43m,\u001b[49m\u001b[43m \u001b[49m\u001b[43mX\u001b[49m\u001b[43m,\u001b[49m\u001b[43m \u001b[49m\u001b[43my\u001b[49m\u001b[43m,\u001b[49m\u001b[43m \u001b[49m\u001b[43msample_weight\u001b[49m\u001b[43m)\u001b[49m\n\u001b[0;32m    460\u001b[0m \u001b[38;5;28;01mif\u001b[39;00m \u001b[38;5;28mself\u001b[39m\u001b[38;5;241m.\u001b[39mn_outputs_ \u001b[38;5;241m==\u001b[39m \u001b[38;5;241m1\u001b[39m \u001b[38;5;129;01mand\u001b[39;00m is_classifier(\u001b[38;5;28mself\u001b[39m):\n\u001b[0;32m    461\u001b[0m     \u001b[38;5;28mself\u001b[39m\u001b[38;5;241m.\u001b[39mn_classes_ \u001b[38;5;241m=\u001b[39m \u001b[38;5;28mself\u001b[39m\u001b[38;5;241m.\u001b[39mn_classes_[\u001b[38;5;241m0\u001b[39m]\n",
      "\u001b[1;31mKeyboardInterrupt\u001b[0m: "
     ]
    }
   ],
   "source": [
    "dt_reg=DecisionTreeRegressor()\n",
    "hyp={   \"criterion\":['squared_error','absolute_error'],\n",
    "        \"max_depth\":np.arange(3,8),\n",
    "        \"min_samples_split\":np.arange(4,8),\n",
    "        \"min_samples_leaf\":np.arange(3,8),\n",
    "         \"random_state\":[25]\n",
    "    }\n",
    "\n",
    "rscv=RandomizedSearchCV(dt_reg,hyp,cv=5)\n",
    "rscv.fit(x_train,y_train)"
   ]
  },
  {
   "cell_type": "code",
   "execution_count": null,
   "id": "2e160b47",
   "metadata": {},
   "outputs": [],
   "source": [
    "dt_reg_new=rscv.best_estimator_\n",
    "dt_reg_new.fit(x_train,y_train)"
   ]
  },
  {
   "cell_type": "code",
   "execution_count": null,
   "id": "9b4cd83c",
   "metadata": {},
   "outputs": [],
   "source": [
    "metrics(dt_reg_new)  #variance is low but bias is high--underfit model"
   ]
  },
  {
   "cell_type": "code",
   "execution_count": null,
   "id": "20366800",
   "metadata": {},
   "outputs": [],
   "source": [
    "rf_reg=RandomForestRegressor(random_state=25,n_estimators=120,max_depth=10)\n",
    "rf_reg.fit(x_train,y_train)"
   ]
  },
  {
   "cell_type": "code",
   "execution_count": null,
   "id": "9f57f445",
   "metadata": {},
   "outputs": [],
   "source": [
    "metrics(rf_reg)  #better but variance is lil high"
   ]
  },
  {
   "cell_type": "code",
   "execution_count": null,
   "id": "97c1d8d2",
   "metadata": {},
   "outputs": [],
   "source": [
    "\n",
    "aboost=AdaBoostRegressor(random_state=25)\n",
    "aboost.fit(x_train,y_train)"
   ]
  },
  {
   "cell_type": "code",
   "execution_count": null,
   "id": "7cf7148c",
   "metadata": {},
   "outputs": [],
   "source": [
    "metrics(aboost)"
   ]
  },
  {
   "cell_type": "code",
   "execution_count": null,
   "id": "29b2d093",
   "metadata": {},
   "outputs": [],
   "source": [
    "# hence our best option is rf_reg\n",
    "with open (\"model_car.pkl\",\"wb\") as file:\n",
    "    pickle.dump(rf_reg,file)\n",
    "    \n",
    "with open (\"transformer.pkl\",\"wb\") as file:\n",
    "    pickle.dump(transformer,file)"
   ]
  },
  {
   "cell_type": "code",
   "execution_count": 128,
   "id": "4a999749",
   "metadata": {
    "scrolled": true
   },
   "outputs": [
    {
     "data": {
      "text/plain": [
       "Index(['seller_type', 'km_driven', 'fuel_type', 'transmission_type', 'seats',\n",
       "       'brand', 'selling_price_new', 'age', 'mileage_new', 'max_power_new',\n",
       "       'engine_new'],\n",
       "      dtype='object')"
      ]
     },
     "execution_count": 128,
     "metadata": {},
     "output_type": "execute_result"
    }
   ],
   "source": [
    "new_df.columns\n"
   ]
  },
  {
   "cell_type": "code",
   "execution_count": 138,
   "id": "db7e19b3",
   "metadata": {},
   "outputs": [
    {
     "name": "stdout",
     "output_type": "stream",
     "text": [
      "<class 'pandas.core.frame.DataFrame'>\n",
      "RangeIndex: 19974 entries, 0 to 19973\n",
      "Data columns (total 11 columns):\n",
      " #   Column             Non-Null Count  Dtype  \n",
      "---  ------             --------------  -----  \n",
      " 0   seller_type        19974 non-null  object \n",
      " 1   km_driven          19974 non-null  int64  \n",
      " 2   fuel_type          19974 non-null  object \n",
      " 3   transmission_type  19974 non-null  object \n",
      " 4   seats              19974 non-null  object \n",
      " 5   brand              19974 non-null  object \n",
      " 6   selling_price_new  19974 non-null  float64\n",
      " 7   age                19974 non-null  int64  \n",
      " 8   mileage_new        19974 non-null  float64\n",
      " 9   max_power_new      19974 non-null  float64\n",
      " 10  engine_new         19974 non-null  int64  \n",
      "dtypes: float64(3), int64(3), object(5)\n",
      "memory usage: 1.7+ MB\n"
     ]
    }
   ],
   "source": [
    "new_df.info()"
   ]
  },
  {
   "cell_type": "code",
   "execution_count": null,
   "id": "70a54d2e",
   "metadata": {},
   "outputs": [],
   "source": [
    "input=km_driven\n"
   ]
  },
  {
   "cell_type": "code",
   "execution_count": 130,
   "id": "3584e059",
   "metadata": {},
   "outputs": [
    {
     "data": {
      "text/plain": [
       "array(['Petrol', 'Diesel', 'CNG', 'LPG', 'Electric'], dtype=object)"
      ]
     },
     "execution_count": 130,
     "metadata": {},
     "output_type": "execute_result"
    }
   ],
   "source": [
    "df[\"fuel_type\"].unique()"
   ]
  },
  {
   "cell_type": "code",
   "execution_count": 137,
   "id": "2504c15c",
   "metadata": {},
   "outputs": [
    {
     "name": "stdout",
     "output_type": "stream",
     "text": [
      " <option value='Maruti'>Maruti</option>\n",
      " <option value='Hyundai'>Hyundai</option>\n",
      " <option value='Ford'>Ford</option>\n",
      " <option value='Mahindra'>Mahindra</option>\n",
      " <option value='Tata'>Tata</option>\n",
      " <option value='Renault'>Renault</option>\n",
      " <option value='Nissan'>Nissan</option>\n",
      " <option value='Mini'>Mini</option>\n",
      " <option value='Mercedes-Benz'>Mercedes-Benz</option>\n",
      " <option value='Toyota'>Toyota</option>\n",
      " <option value='Fiat'>Fiat</option>\n",
      " <option value='Volkswagen'>Volkswagen</option>\n",
      " <option value='Honda'>Honda</option>\n",
      " <option value='Chevrolet'>Chevrolet</option>\n",
      " <option value='Ambassador'>Ambassador</option>\n",
      " <option value='Datsun'>Datsun</option>\n",
      " <option value='Kia'>Kia</option>\n",
      " <option value='BMW'>BMW</option>\n",
      " <option value='Mitsubishi'>Mitsubishi</option>\n",
      " <option value='Audi'>Audi</option>\n",
      " <option value='Skoda'>Skoda</option>\n",
      " <option value='Land'>Land</option>\n",
      " <option value='Jaguar'>Jaguar</option>\n",
      " <option value='Daewoo'>Daewoo</option>\n",
      " <option value='Bentley'>Bentley</option>\n",
      " <option value='MG'>MG</option>\n",
      " <option value='Isuzu'>Isuzu</option>\n",
      " <option value='Porsche'>Porsche</option>\n",
      " <option value='Volvo'>Volvo</option>\n",
      " <option value='Lexus'>Lexus</option>\n",
      " <option value='Jeep'>Jeep</option>\n",
      " <option value='Premier'>Premier</option>\n",
      " <option value='Maserati'>Maserati</option>\n",
      " <option value='Force'>Force</option>\n",
      " <option value='Lamborghini'>Lamborghini</option>\n",
      " <option value='ISUZU'>ISUZU</option>\n",
      " <option value='Ferrari'>Ferrari</option>\n",
      " <option value='OpelCorsa'>OpelCorsa</option>\n",
      " <option value='Mercedes-AMG'>Mercedes-AMG</option>\n",
      " <option value='DC'>DC</option>\n",
      " <option value='Rolls-Royce'>Rolls-Royce</option>\n",
      " <option value='Opel'>Opel</option>\n"
     ]
    }
   ],
   "source": [
    "for i in df[\"brand\"].unique():\n",
    "          print(f\" <option value='{i}'>{i}</option>\")\n",
    "            "
   ]
  },
  {
   "cell_type": "code",
   "execution_count": 160,
   "id": "3f84ee5a",
   "metadata": {},
   "outputs": [
    {
     "data": {
      "text/plain": [
       "Index(['seller_type', 'km_driven', 'fuel_type', 'transmission_type', 'seats',\n",
       "       'brand', 'selling_price_new', 'age', 'mileage_new', 'max_power_new',\n",
       "       'engine_new'],\n",
       "      dtype='object')"
      ]
     },
     "execution_count": 160,
     "metadata": {},
     "output_type": "execute_result"
    }
   ],
   "source": [
    "new_df.columns"
   ]
  },
  {
   "cell_type": "code",
   "execution_count": 167,
   "id": "ddd11ae2",
   "metadata": {},
   "outputs": [
    {
     "data": {
      "text/plain": [
       "dtype('float64')"
      ]
     },
     "execution_count": 167,
     "metadata": {},
     "output_type": "execute_result"
    }
   ],
   "source": [
    "new_df[\"max_power_new\"].dtype"
   ]
  },
  {
   "cell_type": "code",
   "execution_count": 169,
   "id": "8e90f9db",
   "metadata": {},
   "outputs": [
    {
     "data": {
      "text/plain": [
       "['km_driven',\n",
       " 'selling_price_new',\n",
       " 'age',\n",
       " 'mileage_new',\n",
       " 'max_power_new',\n",
       " 'engine_new']"
      ]
     },
     "execution_count": 169,
     "metadata": {},
     "output_type": "execute_result"
    }
   ],
   "source": [
    "[i for i in new_df.columns if new_df[i].dtype ==\"int64\" or new_df[i].dtype ==\"float64\"]"
   ]
  },
  {
   "cell_type": "code",
   "execution_count": 170,
   "id": "93c5a8cb",
   "metadata": {},
   "outputs": [
    {
     "name": "stdout",
     "output_type": "stream",
     "text": [
      "<label>km_driven: </label>\n",
      "<input type='text' name='km_driven'>\n",
      "<label>age: </label>\n",
      "<input type='text' name='age'>\n",
      "<label>mileage_new: </label>\n",
      "<input type='text' name='mileage_new'>\n",
      "<label>max_power_new: </label>\n",
      "<input type='text' name='max_power_new'>\n",
      "<label>engine_new: </label>\n",
      "<input type='text' name='engine_new'>\n"
     ]
    }
   ],
   "source": [
    "a=['km_driven',\n",
    " 'age',\n",
    " 'mileage_new',\n",
    " 'max_power_new',\n",
    " 'engine_new']\n",
    "\n",
    "for i in a:\n",
    "   print(f\"<label>{i}: </label>\")\n",
    "   print(f\"<input type='text' name='{i}'>\")"
   ]
  },
  {
   "cell_type": "code",
   "execution_count": 171,
   "id": "d370a587",
   "metadata": {},
   "outputs": [
    {
     "name": "stdout",
     "output_type": "stream",
     "text": [
      "<class 'pandas.core.frame.DataFrame'>\n",
      "RangeIndex: 19974 entries, 0 to 19973\n",
      "Data columns (total 11 columns):\n",
      " #   Column             Non-Null Count  Dtype  \n",
      "---  ------             --------------  -----  \n",
      " 0   seller_type        19974 non-null  object \n",
      " 1   km_driven          19974 non-null  int64  \n",
      " 2   fuel_type          19974 non-null  object \n",
      " 3   transmission_type  19974 non-null  object \n",
      " 4   seats              19974 non-null  object \n",
      " 5   brand              19974 non-null  object \n",
      " 6   selling_price_new  19974 non-null  float64\n",
      " 7   age                19974 non-null  int64  \n",
      " 8   mileage_new        19974 non-null  float64\n",
      " 9   max_power_new      19974 non-null  float64\n",
      " 10  engine_new         19974 non-null  int64  \n",
      "dtypes: float64(3), int64(3), object(5)\n",
      "memory usage: 1.7+ MB\n"
     ]
    }
   ],
   "source": [
    "new_df.info()"
   ]
  },
  {
   "cell_type": "code",
   "execution_count": 172,
   "id": "a7393157",
   "metadata": {},
   "outputs": [
    {
     "data": {
      "text/plain": [
       "0        19.70\n",
       "1        18.90\n",
       "2        17.00\n",
       "3        20.92\n",
       "4        22.77\n",
       "         ...  \n",
       "19969    23.59\n",
       "19970    17.50\n",
       "19971    21.14\n",
       "19972    16.00\n",
       "19973    18.00\n",
       "Name: mileage_new, Length: 19974, dtype: float64"
      ]
     },
     "execution_count": 172,
     "metadata": {},
     "output_type": "execute_result"
    }
   ],
   "source": [
    "df[\"mileage_new\"]"
   ]
  },
  {
   "cell_type": "code",
   "execution_count": 174,
   "id": "ebde9718",
   "metadata": {},
   "outputs": [
    {
     "data": {
      "text/plain": [
       "'454454'"
      ]
     },
     "execution_count": 174,
     "metadata": {},
     "output_type": "execute_result"
    }
   ],
   "source": [
    "result=[454454.45454]\n",
    "result=str(result[0])\n",
    "pattern=r\"\\d+\"\n",
    "result=re.findall(pattern,result)[0]\n",
    "result"
   ]
  },
  {
   "cell_type": "code",
   "execution_count": 186,
   "id": "57c1cdbc",
   "metadata": {},
   "outputs": [
    {
     "data": {
      "text/html": [
       "<div>\n",
       "<style scoped>\n",
       "    .dataframe tbody tr th:only-of-type {\n",
       "        vertical-align: middle;\n",
       "    }\n",
       "\n",
       "    .dataframe tbody tr th {\n",
       "        vertical-align: top;\n",
       "    }\n",
       "\n",
       "    .dataframe thead th {\n",
       "        text-align: right;\n",
       "    }\n",
       "</style>\n",
       "<table border=\"1\" class=\"dataframe\">\n",
       "  <thead>\n",
       "    <tr style=\"text-align: right;\">\n",
       "      <th></th>\n",
       "      <th>full_name</th>\n",
       "      <th>selling_price</th>\n",
       "      <th>new_price</th>\n",
       "      <th>year</th>\n",
       "      <th>seller_type</th>\n",
       "      <th>km_driven</th>\n",
       "      <th>fuel_type</th>\n",
       "      <th>transmission_type</th>\n",
       "      <th>mileage</th>\n",
       "      <th>engine</th>\n",
       "      <th>max_power</th>\n",
       "      <th>seats</th>\n",
       "      <th>brand</th>\n",
       "      <th>selling_price_new</th>\n",
       "      <th>new_price_new</th>\n",
       "      <th>age</th>\n",
       "      <th>mileage_new</th>\n",
       "      <th>max_power_new</th>\n",
       "      <th>engine_new</th>\n",
       "    </tr>\n",
       "  </thead>\n",
       "  <tbody>\n",
       "    <tr>\n",
       "      <th>0</th>\n",
       "      <td>Maruti Alto Std</td>\n",
       "      <td>1.2 Lakh*</td>\n",
       "      <td>NaN</td>\n",
       "      <td>2012</td>\n",
       "      <td>Individual</td>\n",
       "      <td>120000</td>\n",
       "      <td>Petrol</td>\n",
       "      <td>Manual</td>\n",
       "      <td>Mileage19.7 kmpl</td>\n",
       "      <td>Engine796 CC</td>\n",
       "      <td>Max Power46.3 bhp</td>\n",
       "      <td>Seats5</td>\n",
       "      <td>Maruti</td>\n",
       "      <td>120000.0</td>\n",
       "      <td>NaN</td>\n",
       "      <td>10</td>\n",
       "      <td>19.70</td>\n",
       "      <td>46.30</td>\n",
       "      <td>796</td>\n",
       "    </tr>\n",
       "    <tr>\n",
       "      <th>1</th>\n",
       "      <td>Hyundai Grand i10 Asta</td>\n",
       "      <td>5.5 Lakh*</td>\n",
       "      <td>New Car (On-Road Price) : Rs.7.11-7.48 Lakh*</td>\n",
       "      <td>2016</td>\n",
       "      <td>Individual</td>\n",
       "      <td>20000</td>\n",
       "      <td>Petrol</td>\n",
       "      <td>Manual</td>\n",
       "      <td>Mileage18.9 kmpl</td>\n",
       "      <td>Engine1197 CC</td>\n",
       "      <td>Max Power82 bhp</td>\n",
       "      <td>Seats5</td>\n",
       "      <td>Hyundai</td>\n",
       "      <td>550000.0</td>\n",
       "      <td>729500.0</td>\n",
       "      <td>6</td>\n",
       "      <td>18.90</td>\n",
       "      <td>82.00</td>\n",
       "      <td>1197</td>\n",
       "    </tr>\n",
       "    <tr>\n",
       "      <th>2</th>\n",
       "      <td>Hyundai i20 Asta</td>\n",
       "      <td>2.15 Lakh*</td>\n",
       "      <td>NaN</td>\n",
       "      <td>2010</td>\n",
       "      <td>Individual</td>\n",
       "      <td>60000</td>\n",
       "      <td>Petrol</td>\n",
       "      <td>Manual</td>\n",
       "      <td>Mileage17.0 kmpl</td>\n",
       "      <td>Engine1197 CC</td>\n",
       "      <td>Max Power80 bhp</td>\n",
       "      <td>Seats5</td>\n",
       "      <td>Hyundai</td>\n",
       "      <td>215000.0</td>\n",
       "      <td>NaN</td>\n",
       "      <td>12</td>\n",
       "      <td>17.00</td>\n",
       "      <td>80.00</td>\n",
       "      <td>1197</td>\n",
       "    </tr>\n",
       "    <tr>\n",
       "      <th>3</th>\n",
       "      <td>Maruti Alto K10 2010-2014 VXI</td>\n",
       "      <td>2.26 Lakh*</td>\n",
       "      <td>NaN</td>\n",
       "      <td>2012</td>\n",
       "      <td>Individual</td>\n",
       "      <td>37000</td>\n",
       "      <td>Petrol</td>\n",
       "      <td>Manual</td>\n",
       "      <td>Mileage20.92 kmpl</td>\n",
       "      <td>Engine998 CC</td>\n",
       "      <td>Max Power67.1 bhp</td>\n",
       "      <td>Seats5</td>\n",
       "      <td>Maruti</td>\n",
       "      <td>226000.0</td>\n",
       "      <td>NaN</td>\n",
       "      <td>10</td>\n",
       "      <td>20.92</td>\n",
       "      <td>67.10</td>\n",
       "      <td>998</td>\n",
       "    </tr>\n",
       "    <tr>\n",
       "      <th>4</th>\n",
       "      <td>Ford Ecosport 2015-2021 1.5 TDCi Titanium BSIV</td>\n",
       "      <td>5.7 Lakh*</td>\n",
       "      <td>New Car (On-Road Price) : Rs.10.14-13.79 Lakh*</td>\n",
       "      <td>2015</td>\n",
       "      <td>Dealer</td>\n",
       "      <td>30000</td>\n",
       "      <td>Diesel</td>\n",
       "      <td>Manual</td>\n",
       "      <td>Mileage22.77 kmpl</td>\n",
       "      <td>Engine1498 CC</td>\n",
       "      <td>Max Power98.59 bhp</td>\n",
       "      <td>Seats5</td>\n",
       "      <td>Ford</td>\n",
       "      <td>570000.0</td>\n",
       "      <td>1196500.0</td>\n",
       "      <td>7</td>\n",
       "      <td>22.77</td>\n",
       "      <td>98.59</td>\n",
       "      <td>1498</td>\n",
       "    </tr>\n",
       "    <tr>\n",
       "      <th>...</th>\n",
       "      <td>...</td>\n",
       "      <td>...</td>\n",
       "      <td>...</td>\n",
       "      <td>...</td>\n",
       "      <td>...</td>\n",
       "      <td>...</td>\n",
       "      <td>...</td>\n",
       "      <td>...</td>\n",
       "      <td>...</td>\n",
       "      <td>...</td>\n",
       "      <td>...</td>\n",
       "      <td>...</td>\n",
       "      <td>...</td>\n",
       "      <td>...</td>\n",
       "      <td>...</td>\n",
       "      <td>...</td>\n",
       "      <td>...</td>\n",
       "      <td>...</td>\n",
       "      <td>...</td>\n",
       "    </tr>\n",
       "    <tr>\n",
       "      <th>19969</th>\n",
       "      <td>Toyota Platinum Etios 1.4 GXD</td>\n",
       "      <td>6.5 Lakh*</td>\n",
       "      <td>NaN</td>\n",
       "      <td>2017</td>\n",
       "      <td>Dealer</td>\n",
       "      <td>69480</td>\n",
       "      <td>Diesel</td>\n",
       "      <td>Manual</td>\n",
       "      <td>Mileage23.59 kmpl</td>\n",
       "      <td>Engine1364 CC</td>\n",
       "      <td>Max Power67.05 bhp</td>\n",
       "      <td>Seats5</td>\n",
       "      <td>Toyota</td>\n",
       "      <td>650000.0</td>\n",
       "      <td>NaN</td>\n",
       "      <td>5</td>\n",
       "      <td>23.59</td>\n",
       "      <td>67.05</td>\n",
       "      <td>1364</td>\n",
       "    </tr>\n",
       "    <tr>\n",
       "      <th>19970</th>\n",
       "      <td>Maruti Ertiga BSIV VXI</td>\n",
       "      <td>9.25 Lakh*</td>\n",
       "      <td>NaN</td>\n",
       "      <td>2019</td>\n",
       "      <td>Dealer</td>\n",
       "      <td>18000</td>\n",
       "      <td>Petrol</td>\n",
       "      <td>Manual</td>\n",
       "      <td>Mileage17.5 kmpl</td>\n",
       "      <td>Engine1373 CC</td>\n",
       "      <td>Max Power91.1 bhp</td>\n",
       "      <td>Seats7</td>\n",
       "      <td>Maruti</td>\n",
       "      <td>925000.0</td>\n",
       "      <td>NaN</td>\n",
       "      <td>3</td>\n",
       "      <td>17.50</td>\n",
       "      <td>91.10</td>\n",
       "      <td>1373</td>\n",
       "    </tr>\n",
       "    <tr>\n",
       "      <th>19971</th>\n",
       "      <td>Skoda Rapid 1.5 TDI Elegance</td>\n",
       "      <td>4.25 Lakh*</td>\n",
       "      <td>NaN</td>\n",
       "      <td>2015</td>\n",
       "      <td>Dealer</td>\n",
       "      <td>67000</td>\n",
       "      <td>Diesel</td>\n",
       "      <td>Manual</td>\n",
       "      <td>Mileage21.14 kmpl</td>\n",
       "      <td>Engine1498 CC</td>\n",
       "      <td>Max Power103.52 bhp</td>\n",
       "      <td>Seats5</td>\n",
       "      <td>Skoda</td>\n",
       "      <td>425000.0</td>\n",
       "      <td>NaN</td>\n",
       "      <td>7</td>\n",
       "      <td>21.14</td>\n",
       "      <td>103.52</td>\n",
       "      <td>1498</td>\n",
       "    </tr>\n",
       "    <tr>\n",
       "      <th>19972</th>\n",
       "      <td>Mahindra XUV500 W6 2WD</td>\n",
       "      <td>12.25 Lakh*</td>\n",
       "      <td>New Car (On-Road Price) : Rs.17.83-24.91 Lakh*</td>\n",
       "      <td>2016</td>\n",
       "      <td>Dealer</td>\n",
       "      <td>3800000</td>\n",
       "      <td>Diesel</td>\n",
       "      <td>Manual</td>\n",
       "      <td>Mileage16.0 kmpl</td>\n",
       "      <td>Engine2179 CC</td>\n",
       "      <td>Max Power140 bhp</td>\n",
       "      <td>Seats7</td>\n",
       "      <td>Mahindra</td>\n",
       "      <td>1225000.0</td>\n",
       "      <td>2137000.0</td>\n",
       "      <td>6</td>\n",
       "      <td>16.00</td>\n",
       "      <td>140.00</td>\n",
       "      <td>2179</td>\n",
       "    </tr>\n",
       "    <tr>\n",
       "      <th>19973</th>\n",
       "      <td>Honda City i-VTEC CVT VX</td>\n",
       "      <td>12 Lakh*</td>\n",
       "      <td>NaN</td>\n",
       "      <td>2019</td>\n",
       "      <td>Dealer</td>\n",
       "      <td>13000</td>\n",
       "      <td>Petrol</td>\n",
       "      <td>Automatic</td>\n",
       "      <td>Mileage18.0 kmpl</td>\n",
       "      <td>Engine1497 CC</td>\n",
       "      <td>Max Power117.6 bhp</td>\n",
       "      <td>Seats5</td>\n",
       "      <td>Honda</td>\n",
       "      <td>1200000.0</td>\n",
       "      <td>NaN</td>\n",
       "      <td>3</td>\n",
       "      <td>18.00</td>\n",
       "      <td>117.60</td>\n",
       "      <td>1497</td>\n",
       "    </tr>\n",
       "  </tbody>\n",
       "</table>\n",
       "<p>19974 rows × 19 columns</p>\n",
       "</div>"
      ],
      "text/plain": [
       "                                            full_name selling_price  \\\n",
       "0                                     Maruti Alto Std     1.2 Lakh*   \n",
       "1                              Hyundai Grand i10 Asta     5.5 Lakh*   \n",
       "2                                    Hyundai i20 Asta    2.15 Lakh*   \n",
       "3                       Maruti Alto K10 2010-2014 VXI    2.26 Lakh*   \n",
       "4      Ford Ecosport 2015-2021 1.5 TDCi Titanium BSIV     5.7 Lakh*   \n",
       "...                                               ...           ...   \n",
       "19969                   Toyota Platinum Etios 1.4 GXD     6.5 Lakh*   \n",
       "19970                          Maruti Ertiga BSIV VXI    9.25 Lakh*   \n",
       "19971                    Skoda Rapid 1.5 TDI Elegance    4.25 Lakh*   \n",
       "19972                          Mahindra XUV500 W6 2WD   12.25 Lakh*   \n",
       "19973                        Honda City i-VTEC CVT VX      12 Lakh*   \n",
       "\n",
       "                                            new_price  year seller_type  \\\n",
       "0                                                 NaN  2012  Individual   \n",
       "1        New Car (On-Road Price) : Rs.7.11-7.48 Lakh*  2016  Individual   \n",
       "2                                                 NaN  2010  Individual   \n",
       "3                                                 NaN  2012  Individual   \n",
       "4      New Car (On-Road Price) : Rs.10.14-13.79 Lakh*  2015      Dealer   \n",
       "...                                               ...   ...         ...   \n",
       "19969                                             NaN  2017      Dealer   \n",
       "19970                                             NaN  2019      Dealer   \n",
       "19971                                             NaN  2015      Dealer   \n",
       "19972  New Car (On-Road Price) : Rs.17.83-24.91 Lakh*  2016      Dealer   \n",
       "19973                                             NaN  2019      Dealer   \n",
       "\n",
       "       km_driven fuel_type transmission_type            mileage  \\\n",
       "0         120000    Petrol            Manual   Mileage19.7 kmpl   \n",
       "1          20000    Petrol            Manual   Mileage18.9 kmpl   \n",
       "2          60000    Petrol            Manual   Mileage17.0 kmpl   \n",
       "3          37000    Petrol            Manual  Mileage20.92 kmpl   \n",
       "4          30000    Diesel            Manual  Mileage22.77 kmpl   \n",
       "...          ...       ...               ...                ...   \n",
       "19969      69480    Diesel            Manual  Mileage23.59 kmpl   \n",
       "19970      18000    Petrol            Manual   Mileage17.5 kmpl   \n",
       "19971      67000    Diesel            Manual  Mileage21.14 kmpl   \n",
       "19972    3800000    Diesel            Manual   Mileage16.0 kmpl   \n",
       "19973      13000    Petrol         Automatic   Mileage18.0 kmpl   \n",
       "\n",
       "              engine            max_power   seats     brand  \\\n",
       "0       Engine796 CC    Max Power46.3 bhp  Seats5    Maruti   \n",
       "1      Engine1197 CC      Max Power82 bhp  Seats5   Hyundai   \n",
       "2      Engine1197 CC      Max Power80 bhp  Seats5   Hyundai   \n",
       "3       Engine998 CC    Max Power67.1 bhp  Seats5    Maruti   \n",
       "4      Engine1498 CC   Max Power98.59 bhp  Seats5      Ford   \n",
       "...              ...                  ...     ...       ...   \n",
       "19969  Engine1364 CC   Max Power67.05 bhp  Seats5    Toyota   \n",
       "19970  Engine1373 CC    Max Power91.1 bhp  Seats7    Maruti   \n",
       "19971  Engine1498 CC  Max Power103.52 bhp  Seats5     Skoda   \n",
       "19972  Engine2179 CC     Max Power140 bhp  Seats7  Mahindra   \n",
       "19973  Engine1497 CC   Max Power117.6 bhp  Seats5     Honda   \n",
       "\n",
       "       selling_price_new  new_price_new  age  mileage_new  max_power_new  \\\n",
       "0               120000.0            NaN   10        19.70          46.30   \n",
       "1               550000.0       729500.0    6        18.90          82.00   \n",
       "2               215000.0            NaN   12        17.00          80.00   \n",
       "3               226000.0            NaN   10        20.92          67.10   \n",
       "4               570000.0      1196500.0    7        22.77          98.59   \n",
       "...                  ...            ...  ...          ...            ...   \n",
       "19969           650000.0            NaN    5        23.59          67.05   \n",
       "19970           925000.0            NaN    3        17.50          91.10   \n",
       "19971           425000.0            NaN    7        21.14         103.52   \n",
       "19972          1225000.0      2137000.0    6        16.00         140.00   \n",
       "19973          1200000.0            NaN    3        18.00         117.60   \n",
       "\n",
       "       engine_new  \n",
       "0             796  \n",
       "1            1197  \n",
       "2            1197  \n",
       "3             998  \n",
       "4            1498  \n",
       "...           ...  \n",
       "19969        1364  \n",
       "19970        1373  \n",
       "19971        1498  \n",
       "19972        2179  \n",
       "19973        1497  \n",
       "\n",
       "[19974 rows x 19 columns]"
      ]
     },
     "execution_count": 186,
     "metadata": {},
     "output_type": "execute_result"
    }
   ],
   "source": [
    "df\n",
    "\n"
   ]
  },
  {
   "cell_type": "code",
   "execution_count": null,
   "id": "fac013c1",
   "metadata": {},
   "outputs": [],
   "source": []
  }
 ],
 "metadata": {
  "kernelspec": {
   "display_name": "car",
   "language": "python",
   "name": "car"
  },
  "language_info": {
   "codemirror_mode": {
    "name": "ipython",
    "version": 3
   },
   "file_extension": ".py",
   "mimetype": "text/x-python",
   "name": "python",
   "nbconvert_exporter": "python",
   "pygments_lexer": "ipython3",
   "version": "3.10.0"
  }
 },
 "nbformat": 4,
 "nbformat_minor": 5
}
